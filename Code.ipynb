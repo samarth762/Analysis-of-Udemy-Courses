{
  "nbformat": 4,
  "nbformat_minor": 0,
  "metadata": {
    "colab": {
      "name": "SDS-Project.ipynb",
      "provenance": [],
      "collapsed_sections": []
    },
    "kernelspec": {
      "name": "python3",
      "display_name": "Python 3"
    }
  },
  "cells": [
    {
      "cell_type": "code",
      "metadata": {
        "id": "gtxcIZ0nyzF8"
      },
      "source": [
        "#Please add any and all import statements here\n",
        "import seaborn as sns\n",
        "import pandas as pd\n",
        "from collections import Counter\n",
        "import numpy as np\n",
        "from google.colab import files\n",
        "from google.colab import drive\n",
        "import matplotlib.pyplot as plt\n",
        "import plotly.express  as px\n",
        "from matplotlib.gridspec import GridSpec\n",
        "from sklearn import preprocessing\n",
        "import scipy\n",
        "#drive.mount('/content/drive')"
      ],
      "execution_count": null,
      "outputs": []
    },
    {
      "cell_type": "markdown",
      "metadata": {
        "id": "u2iAj4w1yDqx"
      },
      "source": [
        "**This notebooks is for the statistics for data science project**\n",
        "\n",
        "Few rules:\n",
        "\n",
        "\n",
        "1.   Please add markdown text to indicate functionality of a cell\n",
        "2.   Feel free to experiment with different techniques but if the cell is to be left out from final project. Please delete it.\n",
        "\n"
      ]
    },
    {
      "cell_type": "markdown",
      "metadata": {
        "id": "fL8DHYiuzLrK"
      },
      "source": [
        "**LOADING DATASET**"
      ]
    },
    {
      "cell_type": "code",
      "metadata": {
        "id": "fKObyY73zRU_"
      },
      "source": [
        "courses_dataframe = pd.read_csv(\"/content/drive/My Drive/SDS-project/udemy_courses.csv\")"
      ],
      "execution_count": null,
      "outputs": []
    },
    {
      "cell_type": "markdown",
      "metadata": {
        "id": "Iw7BXwxsyqIE"
      },
      "source": [
        "**EXPLORATORY DATA ANALYSIS**"
      ]
    },
    {
      "cell_type": "markdown",
      "metadata": {
        "id": "dSLE_Tg6yv8n"
      },
      "source": [
        "Data Cleaning\n",
        "\n",
        "1.   We test to see if the dataframe was successfully loaded by checking its shape to ensure all the rows and columns were loaded\n",
        "2.   We then check if the values of the rows and columns were loaded successfully without any change in type of data\n",
        "\n"
      ]
    },
    {
      "cell_type": "code",
      "metadata": {
        "id": "2ETWDmJeAVSP",
        "outputId": "124698b7-3dd9-420d-b811-f58ca00465c5",
        "colab": {
          "base_uri": "https://localhost:8080/"
        }
      },
      "source": [
        "courses_dataframe.shape"
      ],
      "execution_count": null,
      "outputs": [
        {
          "output_type": "execute_result",
          "data": {
            "text/plain": [
              "(3678, 12)"
            ]
          },
          "metadata": {
            "tags": []
          },
          "execution_count": 293
        }
      ]
    },
    {
      "cell_type": "code",
      "metadata": {
        "id": "h0nmrT1GiqjA",
        "outputId": "301b6c61-dcea-4034-b8b0-4f9b33473345",
        "colab": {
          "base_uri": "https://localhost:8080/",
          "height": 479
        }
      },
      "source": [
        "courses_dataframe.head()"
      ],
      "execution_count": null,
      "outputs": [
        {
          "output_type": "execute_result",
          "data": {
            "text/html": [
              "<div>\n",
              "<style scoped>\n",
              "    .dataframe tbody tr th:only-of-type {\n",
              "        vertical-align: middle;\n",
              "    }\n",
              "\n",
              "    .dataframe tbody tr th {\n",
              "        vertical-align: top;\n",
              "    }\n",
              "\n",
              "    .dataframe thead th {\n",
              "        text-align: right;\n",
              "    }\n",
              "</style>\n",
              "<table border=\"1\" class=\"dataframe\">\n",
              "  <thead>\n",
              "    <tr style=\"text-align: right;\">\n",
              "      <th></th>\n",
              "      <th>course_id</th>\n",
              "      <th>course_title</th>\n",
              "      <th>url</th>\n",
              "      <th>is_paid</th>\n",
              "      <th>price</th>\n",
              "      <th>num_subscribers</th>\n",
              "      <th>num_reviews</th>\n",
              "      <th>num_lectures</th>\n",
              "      <th>level</th>\n",
              "      <th>content_duration</th>\n",
              "      <th>published_timestamp</th>\n",
              "      <th>subject</th>\n",
              "    </tr>\n",
              "  </thead>\n",
              "  <tbody>\n",
              "    <tr>\n",
              "      <th>0</th>\n",
              "      <td>1070968</td>\n",
              "      <td>Ultimate Investment Banking Course</td>\n",
              "      <td>https://www.udemy.com/ultimate-investment-bank...</td>\n",
              "      <td>True</td>\n",
              "      <td>200.0</td>\n",
              "      <td>2147</td>\n",
              "      <td>23</td>\n",
              "      <td>51</td>\n",
              "      <td>All Levels</td>\n",
              "      <td>1.5</td>\n",
              "      <td>2017-01-18T20:58:58Z</td>\n",
              "      <td>Business Finance</td>\n",
              "    </tr>\n",
              "    <tr>\n",
              "      <th>1</th>\n",
              "      <td>1113822</td>\n",
              "      <td>Complete GST Course &amp; Certification - Grow You...</td>\n",
              "      <td>https://www.udemy.com/goods-and-services-tax/</td>\n",
              "      <td>True</td>\n",
              "      <td>75.0</td>\n",
              "      <td>2792</td>\n",
              "      <td>923</td>\n",
              "      <td>274</td>\n",
              "      <td>All Levels</td>\n",
              "      <td>39.0</td>\n",
              "      <td>2017-03-09T16:34:20Z</td>\n",
              "      <td>Business Finance</td>\n",
              "    </tr>\n",
              "    <tr>\n",
              "      <th>2</th>\n",
              "      <td>1006314</td>\n",
              "      <td>Financial Modeling for Business Analysts and C...</td>\n",
              "      <td>https://www.udemy.com/financial-modeling-for-b...</td>\n",
              "      <td>True</td>\n",
              "      <td>45.0</td>\n",
              "      <td>2174</td>\n",
              "      <td>74</td>\n",
              "      <td>51</td>\n",
              "      <td>Intermediate Level</td>\n",
              "      <td>2.5</td>\n",
              "      <td>2016-12-19T19:26:30Z</td>\n",
              "      <td>Business Finance</td>\n",
              "    </tr>\n",
              "    <tr>\n",
              "      <th>3</th>\n",
              "      <td>1210588</td>\n",
              "      <td>Beginner to Pro - Financial Analysis in Excel ...</td>\n",
              "      <td>https://www.udemy.com/complete-excel-finance-c...</td>\n",
              "      <td>True</td>\n",
              "      <td>95.0</td>\n",
              "      <td>2451</td>\n",
              "      <td>11</td>\n",
              "      <td>36</td>\n",
              "      <td>All Levels</td>\n",
              "      <td>3.0</td>\n",
              "      <td>2017-05-30T20:07:24Z</td>\n",
              "      <td>Business Finance</td>\n",
              "    </tr>\n",
              "    <tr>\n",
              "      <th>4</th>\n",
              "      <td>1011058</td>\n",
              "      <td>How To Maximize Your Profits Trading Options</td>\n",
              "      <td>https://www.udemy.com/how-to-maximize-your-pro...</td>\n",
              "      <td>True</td>\n",
              "      <td>200.0</td>\n",
              "      <td>1276</td>\n",
              "      <td>45</td>\n",
              "      <td>26</td>\n",
              "      <td>Intermediate Level</td>\n",
              "      <td>2.0</td>\n",
              "      <td>2016-12-13T14:57:18Z</td>\n",
              "      <td>Business Finance</td>\n",
              "    </tr>\n",
              "  </tbody>\n",
              "</table>\n",
              "</div>"
            ],
            "text/plain": [
              "   course_id  ...           subject\n",
              "0    1070968  ...  Business Finance\n",
              "1    1113822  ...  Business Finance\n",
              "2    1006314  ...  Business Finance\n",
              "3    1210588  ...  Business Finance\n",
              "4    1011058  ...  Business Finance\n",
              "\n",
              "[5 rows x 12 columns]"
            ]
          },
          "metadata": {
            "tags": []
          },
          "execution_count": 294
        }
      ]
    },
    {
      "cell_type": "markdown",
      "metadata": {
        "id": "tXZWO9oQOVBs"
      },
      "source": [
        "TESTING FOR NULL VALUES"
      ]
    },
    {
      "cell_type": "code",
      "metadata": {
        "id": "1ivecN-O5-01",
        "outputId": "54ef1b36-ff2b-48b0-bebc-105892b4a2fc",
        "colab": {
          "base_uri": "https://localhost:8080/"
        }
      },
      "source": [
        "courses_dataframe.isnull().values.any()"
      ],
      "execution_count": null,
      "outputs": [
        {
          "output_type": "execute_result",
          "data": {
            "text/plain": [
              "True"
            ]
          },
          "metadata": {
            "tags": []
          },
          "execution_count": 295
        }
      ]
    },
    {
      "cell_type": "markdown",
      "metadata": {
        "id": "MI3KGDgYOj6z"
      },
      "source": [
        "Since NULL values exist, we extract the columns which contain NULL values in order to treat them "
      ]
    },
    {
      "cell_type": "code",
      "metadata": {
        "id": "5xAmL0pm0u1M",
        "outputId": "ee33d7bb-1b0e-4921-d97e-7be3d1ea37e9",
        "colab": {
          "base_uri": "https://localhost:8080/"
        }
      },
      "source": [
        "empty_values_df = courses_dataframe.isna().any()\n",
        "columns_with_nan = courses_dataframe.columns[empty_values_df].tolist()\n",
        "columns_with_nan"
      ],
      "execution_count": null,
      "outputs": [
        {
          "output_type": "execute_result",
          "data": {
            "text/plain": [
              "['price', 'level']"
            ]
          },
          "metadata": {
            "tags": []
          },
          "execution_count": 296
        }
      ]
    },
    {
      "cell_type": "markdown",
      "metadata": {
        "id": "2fyCYUcIOvhc"
      },
      "source": [
        "We impute the mean of the price column into the cells of the price column which are NULL"
      ]
    },
    {
      "cell_type": "code",
      "metadata": {
        "id": "5UO82873H4Wi"
      },
      "source": [
        "courses_dataframe['price'].fillna(courses_dataframe['price'].mean(), inplace=True)"
      ],
      "execution_count": null,
      "outputs": []
    },
    {
      "cell_type": "markdown",
      "metadata": {
        "id": "tZwr192DO4q8"
      },
      "source": [
        "We impute the mode of the categorical columns in places where data is missing. Here, primarily for the level column"
      ]
    },
    {
      "cell_type": "code",
      "metadata": {
        "id": "HQzi15WJIdzu"
      },
      "source": [
        "courses_dataframe.fillna(courses_dataframe.select_dtypes(include='object').mode().iloc[0], inplace=True)"
      ],
      "execution_count": null,
      "outputs": []
    },
    {
      "cell_type": "markdown",
      "metadata": {
        "id": "vtvo1e5fPB9v"
      },
      "source": [
        "We run a final check and see that there are no NULL values and proceed with the rest of the analysis"
      ]
    },
    {
      "cell_type": "code",
      "metadata": {
        "id": "tU1pDo2v6PzP",
        "outputId": "fa487a20-f63f-4747-d13e-69e077f41ce3",
        "colab": {
          "base_uri": "https://localhost:8080/"
        }
      },
      "source": [
        "courses_dataframe.isnull().values.any()"
      ],
      "execution_count": null,
      "outputs": [
        {
          "output_type": "execute_result",
          "data": {
            "text/plain": [
              "False"
            ]
          },
          "metadata": {
            "tags": []
          },
          "execution_count": 299
        }
      ]
    },
    {
      "cell_type": "markdown",
      "metadata": {
        "id": "NmqUAvvsZ06p"
      },
      "source": [
        "Finding and deleting duplicate rows\n",
        "\n",
        "Here we test to see if there are any duplicates in the dataset. A simple test yields true showing the presence of duplicated course_title and so we drop those rows whose values are duplicates of previous rows"
      ]
    },
    {
      "cell_type": "code",
      "metadata": {
        "id": "fLTz61vJY71o",
        "outputId": "bb4f2ff2-4439-4a01-c00f-54e9e55cee53",
        "colab": {
          "base_uri": "https://localhost:8080/"
        }
      },
      "source": [
        "courses_dataframe['course_title'].duplicated().any()"
      ],
      "execution_count": null,
      "outputs": [
        {
          "output_type": "execute_result",
          "data": {
            "text/plain": [
              "True"
            ]
          },
          "metadata": {
            "tags": []
          },
          "execution_count": 300
        }
      ]
    },
    {
      "cell_type": "code",
      "metadata": {
        "id": "KBjz_6hdZ6Hl"
      },
      "source": [
        "courses_dataframe = courses_dataframe.drop_duplicates(subset =\"course_title\")"
      ],
      "execution_count": null,
      "outputs": []
    },
    {
      "cell_type": "markdown",
      "metadata": {
        "id": "J5cZ0--CPbpU"
      },
      "source": [
        "The same tests repeated now shows that there are no longer duplicated rows based on the course_title in the dataset."
      ]
    },
    {
      "cell_type": "code",
      "metadata": {
        "id": "vkOL6NA66klb",
        "outputId": "6911614e-c408-4f4d-c829-210cdbd60df4",
        "colab": {
          "base_uri": "https://localhost:8080/"
        }
      },
      "source": [
        "courses_dataframe['course_title'].duplicated().any()"
      ],
      "execution_count": null,
      "outputs": [
        {
          "output_type": "execute_result",
          "data": {
            "text/plain": [
              "False"
            ]
          },
          "metadata": {
            "tags": []
          },
          "execution_count": 302
        }
      ]
    },
    {
      "cell_type": "markdown",
      "metadata": {
        "id": "r4cnrP-M6Zvh"
      },
      "source": [
        "Dropping irrelevant columns \n",
        "\n",
        "1.   course_id : This column is irrelevant to us due to the fact that it is assigned by udemy due to which there isn't any continuity and are randomly assigned. So the column doesn't add any value\n",
        "2.   url : It is a string value denoting the url link of the specific course. This column is also irrelevant as the aim of the project isn't to diaplay the course nor does it form any statistics.\n",
        "3. published_timestamp: It is a string that holds the date and time of when the course was published which also doesn't add any value to our analysis.\n",
        "\n"
      ]
    },
    {
      "cell_type": "code",
      "metadata": {
        "id": "oi7raY4I6ZRk"
      },
      "source": [
        "courses_dataframe.drop(['course_id','url','published_timestamp'],axis=1,inplace=True)"
      ],
      "execution_count": null,
      "outputs": []
    },
    {
      "cell_type": "markdown",
      "metadata": {
        "id": "GGvpJChZa5Aw"
      },
      "source": [
        "Checking for typos and inconsistent capitalisation\n",
        "\n",
        "We test the categorical columns to see if there are any values in the column where in there might be issues with capitalisation or there is a typo"
      ]
    },
    {
      "cell_type": "code",
      "metadata": {
        "id": "PN_miLr5aouA",
        "outputId": "ff35a772-9bef-4f2e-9522-311b52005637",
        "colab": {
          "base_uri": "https://localhost:8080/"
        }
      },
      "source": [
        "courses_dataframe['is_paid'].value_counts()"
      ],
      "execution_count": null,
      "outputs": [
        {
          "output_type": "execute_result",
          "data": {
            "text/plain": [
              "True     3354\n",
              "False     309\n",
              "Name: is_paid, dtype: int64"
            ]
          },
          "metadata": {
            "tags": []
          },
          "execution_count": 305
        }
      ]
    },
    {
      "cell_type": "code",
      "metadata": {
        "id": "szCfJ7k7b69q",
        "outputId": "380f0d11-ccc8-41f9-cf35-efc610987e50",
        "colab": {
          "base_uri": "https://localhost:8080/"
        }
      },
      "source": [
        "courses_dataframe['level'].value_counts()"
      ],
      "execution_count": null,
      "outputs": [
        {
          "output_type": "execute_result",
          "data": {
            "text/plain": [
              "All Levels            1943\n",
              "Beginner Level        1244\n",
              "Intermediate Level     418\n",
              "Expert Level            58\n",
              "Name: level, dtype: int64"
            ]
          },
          "metadata": {
            "tags": []
          },
          "execution_count": 306
        }
      ]
    },
    {
      "cell_type": "code",
      "metadata": {
        "id": "iDazSMd5cjul",
        "outputId": "b9b8a851-9b1e-464d-bfd4-90dbf3edab32",
        "colab": {
          "base_uri": "https://localhost:8080/"
        }
      },
      "source": [
        "courses_dataframe['subject'].value_counts()"
      ],
      "execution_count": null,
      "outputs": [
        {
          "output_type": "execute_result",
          "data": {
            "text/plain": [
              "Web Development        1196\n",
              "Business Finance       1191\n",
              "Musical Instruments     676\n",
              "Graphic Design          600\n",
              "Name: subject, dtype: int64"
            ]
          },
          "metadata": {
            "tags": []
          },
          "execution_count": 307
        }
      ]
    },
    {
      "cell_type": "markdown",
      "metadata": {
        "id": "Mmfe_X5FeNCk"
      },
      "source": [
        "Result:No typos or inconsistent capitalisations were found hence no correction required.\n",
        "\n",
        "Now we save the preprocessed csv for future work."
      ]
    },
    {
      "cell_type": "code",
      "metadata": {
        "id": "U4Y9y9x2roSt"
      },
      "source": [
        "courses_dataframe.to_csv('preprocessed.csv')\n",
        "!cp preprocessed.csv \"drive/My Drive/SDS-project/\"\n"
      ],
      "execution_count": null,
      "outputs": []
    },
    {
      "cell_type": "markdown",
      "metadata": {
        "id": "z4L1ys0_Q2PW"
      },
      "source": [
        "**DATA VISUALIZATION**"
      ]
    },
    {
      "cell_type": "markdown",
      "metadata": {
        "id": "0Zabm7z7cItK"
      },
      "source": [
        "Content Duration\n",
        "\n",
        "It is the total time that a subscriber would take to finish a course. It is specified in hours to ensure a certain amount of uniformity as the number of lectures column does not generalise the time.\n",
        "\n",
        "We build a boxplot to visualise the data."
      ]
    },
    {
      "cell_type": "code",
      "metadata": {
        "id": "DR1Qa0IvTdRG",
        "outputId": "842731d5-bf85-4703-bd99-97b756d1da42",
        "colab": {
          "base_uri": "https://localhost:8080/",
          "height": 542
        }
      },
      "source": [
        "boxplot = px.box(courses_dataframe,\n",
        "       x='content_duration',\n",
        "       y='subject',\n",
        "       orientation='h',\n",
        "       color='level',\n",
        "       title='Duration Distribution Across Type of Course',\n",
        "      )\n",
        "boxplot.update_xaxes(title='Content Duration')\n",
        "boxplot.update_yaxes(title='Subject')\n",
        "boxplot.show()"
      ],
      "execution_count": null,
      "outputs": [
        {
          "output_type": "display_data",
          "data": {
            "text/html": [
              "<html>\n",
              "<head><meta charset=\"utf-8\" /></head>\n",
              "<body>\n",
              "    <div>\n",
              "            <script src=\"https://cdnjs.cloudflare.com/ajax/libs/mathjax/2.7.5/MathJax.js?config=TeX-AMS-MML_SVG\"></script><script type=\"text/javascript\">if (window.MathJax) {MathJax.Hub.Config({SVG: {font: \"STIX-Web\"}});}</script>\n",
              "                <script type=\"text/javascript\">window.PlotlyConfig = {MathJaxConfig: 'local'};</script>\n",
              "        <script src=\"https://cdn.plot.ly/plotly-latest.min.js\"></script>    \n",
              "            <div id=\"589c0ed4-21dc-46a1-bebc-0999de411132\" class=\"plotly-graph-div\" style=\"height:525px; width:100%;\"></div>\n",
              "            <script type=\"text/javascript\">\n",
              "                \n",
              "                    window.PLOTLYENV=window.PLOTLYENV || {};\n",
              "                    \n",
              "                if (document.getElementById(\"589c0ed4-21dc-46a1-bebc-0999de411132\")) {\n",
              "                    Plotly.newPlot(\n",
              "                        '589c0ed4-21dc-46a1-bebc-0999de411132',\n",
              "                        [{\"alignmentgroup\": \"True\", \"hoverlabel\": {\"namelength\": 0}, \"hovertemplate\": \"level=All Levels<br>content_duration=%{x}<br>subject=%{y}\", \"legendgroup\": \"level=All Levels\", \"marker\": {\"color\": \"#636efa\"}, \"name\": \"level=All Levels\", \"notched\": false, \"offsetgroup\": \"level=All Levels\", \"orientation\": \"h\", \"showlegend\": true, \"type\": \"box\", \"x\": [1.5, 39.0, 3.0, 3.0, 2.5, 1.0, 5.0, 1.0, 1.5, 2.0, 7.0, 4.0, 1.5, 2.0, 4.0, 2.0, 2.0, 5.0, 4.5, 4.5, 1.5, 6.5, 2.0, 1.5, 4.5, 7.5, 5.5, 10.0, 6.5, 16.0, 3.0, 5.0, 5.5, 5.0, 2.0, 3.0, 1.0, 1.5, 4.0, 5.5, 1.0, 3.5, 4.5, 8.5, 6.5, 5.5, 1.5, 3.5, 3.0, 5.0, 1.0, 1.0, 2.0, 4.0, 1.0, 4.0, 2.0, 1.0, 1.5, 1.0, 4.5, 1.5, 9.5, 1.0, 5.5, 1.5, 1.5, 1.0, 1.0, 2.0, 4.5, 5.0, 1.0, 62.0, 1.5, 0.133333333333333, 0.683333333333333, 3.0, 31.5, 3.5, 2.5, 2.5, 1.0, 1.0, 1.5, 9.5, 20.0, 2.5, 1.0, 4.0, 1.5, 5.0, 1.5, 1.5, 1.0, 3.0, 3.5, 4.5, 46.5, 5.0, 2.5, 1.0, 1.5, 2.0, 1.5, 4.5, 1.5, 2.0, 3.0, 1.5, 5.5, 1.5, 5.5, 10.0, 2.0, 3.0, 0.7, 1.5, 1.5, 2.0, 1.5, 4.5, 3.5, 1.5, 0.55, 9.0, 2.0, 1.0, 1.5, 5.5, 2.0, 7.0, 1.0, 1.5, 10.0, 1.0, 2.0, 1.5, 17.5, 1.0, 4.5, 1.0, 2.0, 3.5, 1.0, 1.5, 2.0, 0.683333333333333, 3.0, 1.5, 4.0, 2.0, 2.0, 2.5, 2.0, 2.5, 5.0, 3.5, 1.0, 1.0, 1.0, 4.5, 1.0, 4.5, 3.0, 24.0, 19.5, 1.5, 3.5, 2.5, 20.5, 2.0, 2.5, 2.0, 10.0, 20.5, 2.0, 10.5, 1.0, 1.5, 3.0, 0.516666666666667, 1.5, 5.0, 4.5, 1.0, 2.5, 0.6, 2.0, 1.5, 1.0, 1.0, 0.7, 5.5, 7.0, 1.0, 5.5, 1.5, 2.5, 0.683333333333333, 2.0, 2.0, 2.0, 0.683333333333333, 5.5, 8.0, 2.0, 29.0, 3.0, 8.0, 2.5, 1.0, 26.0, 1.5, 2.5, 1.5, 6.0, 1.0, 2.5, 1.0, 1.0, 10.0, 1.0, 1.0, 11.0, 24.5, 1.5, 2.0, 1.0, 2.5, 2.0, 6.0, 6.0, 1.0, 2.0, 2.5, 2.5, 1.5, 8.0, 1.0, 1.5, 10.0, 1.0, 3.0, 1.0, 5.5, 3.5, 1.5, 13.0, 1.0, 2.5, 1.5, 1.0, 3.5, 1.0, 1.5, 7.5, 6.0, 2.0, 1.5, 7.5, 4.0, 1.0, 1.0, 3.5, 1.0, 3.5, 1.5, 1.0, 1.5, 1.0, 1.5, 2.5, 1.5, 2.0, 1.0, 2.0, 4.5, 1.0, 1.5, 5.5, 2.0, 1.0, 3.5, 12.5, 2.0, 1.0, 0.316666666666667, 5.5, 11.5, 0.616666666666667, 2.5, 2.0, 1.0, 5.5, 4.0, 0.666666666666667, 2.5, 4.5, 3.0, 4.5, 2.0, 1.5, 0.666666666666667, 2.0, 2.0, 3.5, 2.0, 6.0, 1.5, 4.0, 1.5, 8.0, 0.6, 2.0, 8.0, 1.5, 2.5, 18.0, 3.5, 1.5, 0.566666666666667, 0.616666666666667, 1.0, 1.0, 24.5, 1.5, 1.0, 5.5, 7.5, 1.5, 1.0, 0.566666666666667, 2.0, 2.5, 1.5, 0.566666666666667, 0.716666666666667, 1.0, 2.0, 0.533333333333333, 33.0, 24.5, 3.0, 5.0, 1.0, 10.5, 2.0, 7.0, 3.5, 9.0, 2.5, 3.0, 1.5, 1.0, 4.5, 1.5, 1.0, 2.5, 2.5, 71.5, 7.0, 3.5, 2.0, 1.0, 7.0, 1.5, 1.0, 2.0, 2.0, 3.0, 1.5, 1.0, 1.5, 1.0, 1.5, 20.5, 47.0, 3.0, 2.0, 1.0, 1.0, 14.5, 2.5, 2.0, 5.0, 2.0, 3.5, 3.0, 1.5, 2.0, 3.0, 0.683333333333333, 1.0, 1.0, 0.65, 4.0, 2.0, 4.0, 5.5, 6.0, 6.0, 1.5, 5.5, 2.0, 2.0, 3.0, 1.5, 2.5, 1.0, 2.0, 1.0, 1.5, 2.0, 1.0, 3.5, 18.5, 2.0, 2.5, 43.5, 0.6, 2.5, 5.5, 0.633333333333333, 2.0, 4.5, 3.5, 5.5, 1.0, 5.0, 4.0, 1.5, 1.0, 14.0, 1.0, 1.0, 1.0, 1.5, 3.5, 14.5, 1.0, 1.0, 1.0, 5.0, 1.0, 3.0, 3.0, 4.0, 2.0, 3.0, 1.0, 3.5, 6.0, 2.0, 1.5, 2.5, 5.5, 1.0, 2.5, 2.5, 2.0, 7.5, 0.466666666666667, 2.5, 10.0, 2.0, 24.0, 1.0, 9.0, 1.0, 0.616666666666667, 1.5, 1.0, 1.0, 1.5, 3.5, 1.5, 1.0, 12.5, 1.5, 0.583333333333333, 2.0, 3.5, 2.0, 9.0, 0.683333333333333, 2.0, 2.0, 6.0, 5.5, 4.0, 2.0, 1.0, 2.0, 1.0, 1.5, 5.0, 2.5, 6.0, 8.5, 0.516666666666667, 1.0, 0.533333333333333, 4.0, 6.0, 0.616666666666667, 3.0, 1.5, 0.566666666666667, 6.5, 0.716666666666667, 5.0, 3.0, 1.0, 1.5, 1.0, 3.0, 3.0, 3.5, 0.7, 3.5, 1.5, 3.0, 4.0, 7.0, 5.0, 2.5, 7.5, 5.5, 2.0, 2.0, 2.0, 3.0, 7.0, 1.0, 4.5, 1.0, 3.0, 3.0, 2.0, 3.0, 7.0, 2.0, 1.0, 1.0, 45.0, 1.5, 1.5, 70.0, 4.0, 6.0, 2.0, 0.6, 6.0, 8.0, 2.0, 1.5, 1.0, 1.0, 0.0, 2.0, 0.716666666666667, 1.0, 2.5, 2.5, 2.0, 1.5, 1.0, 1.5, 1.5, 3.5, 0.533333333333333, 1.5, 3.0, 4.5, 1.5, 4.0, 10.0, 1.5, 1.0, 0.516666666666667, 2.0, 3.0, 3.0, 29.5, 2.5, 6.5, 1.0, 2.0, 2.5, 2.0, 1.0, 1.0, 1.0, 1.0, 1.0, 5.0, 3.0, 2.0, 13.0, 2.0, 3.5, 1.0, 2.5, 5.0, 13.5, 2.5, 0.666666666666667, 3.0, 4.0, 0.516666666666667, 2.5, 0.683333333333333, 1.5, 3.0, 1.0, 4.5, 2.5, 1.5, 1.5, 5.0, 0.6, 1.0, 1.0, 3.5, 2.0, 1.0, 6.5, 3.5, 5.0, 1.5, 10.5, 8.5, 0.733333333333333, 8.5, 2.0, 3.0, 0.65, 1.5, 4.5, 5.5, 2.0, 1.0, 4.5, 1.0, 1.0, 1.5, 2.0, 4.0, 1.0, 1.0, 5.0, 8.5, 2.0, 4.0, 3.0, 1.5, 2.0, 1.5, 7.0, 3.0, 1.0, 1.0, 0.666666666666667, 1.5, 1.0, 2.0, 8.5, 10.5, 1.0, 2.0, 2.5, 1.0, 12.5, 0.6, 7.0, 14.0, 1.0, 1.5, 2.0, 2.5, 1.5, 3.0, 2.5, 5.5, 17.5, 3.5, 2.5, 1.0, 2.0, 8.0, 2.0, 1.5, 1.0, 4.5, 4.0, 2.5, 1.0, 3.0, 1.5, 8.0, 4.0, 3.5, 1.5, 0.633333333333333, 2.0, 2.5, 3.0, 1.5, 4.0, 1.0, 5.0, 12.0, 1.5, 1.0, 7.5, 1.0, 62.0, 3.0, 2.5, 0.6, 3.5, 5.0, 68.5, 3.5, 2.5, 6.5, 3.5, 3.0, 3.0, 1.0, 0.6, 7.5, 1.0, 6.5, 2.0, 2.5, 1.0, 11.0, 12.0, 17.5, 13.0, 0.65, 2.5, 2.5, 5.5, 2.5, 1.0, 0.683333333333333, 6.0, 3.0, 0.7, 1.0, 2.5, 4.0, 0.566666666666667, 1.5, 10.0, 11.5, 2.5, 1.0, 3.5, 0.566666666666667, 0.533333333333333, 0.566666666666667, 1.0, 1.5, 1.0, 0.683333333333333, 2.0, 3.5, 3.0, 13.5, 0.6, 10.5, 3.5, 2.5, 1.5, 6.5, 1.0, 1.5, 6.5, 1.5, 12.5, 9.0, 0.65, 2.0, 4.5, 0.666666666666667, 7.0, 2.5, 0.733333333333333, 1.0, 2.0, 8.5, 5.5, 4.0, 6.5, 4.0, 12.0, 5.0, 13.0, 7.5, 3.0, 1.5, 6.5, 1.0, 10.0, 1.0, 0.733333333333333, 0.566666666666667, 6.5, 1.5, 4.0, 1.0, 0.633333333333333, 1.0, 4.5, 1.5, 2.0, 1.0, 1.5, 2.0, 1.5, 3.5, 8.0, 2.0, 3.0, 1.5, 2.0, 3.0, 2.0, 1.0, 5.0, 1.0, 3.5, 1.5, 12.5, 4.5, 4.5, 0.666666666666667, 1.5, 8.5, 0.733333333333333, 2.0, 2.5, 2.5, 6.0, 2.5, 7.5, 5.0, 1.5, 12.0, 2.5, 1.0, 1.5, 14.5, 1.5, 30.0, 2.0, 1.0, 1.0, 2.5, 2.0, 17.0, 1.5, 2.0, 0.7, 1.0, 0.583333333333333, 1.5, 4.0, 2.5, 4.0, 1.0, 1.0, 2.5, 5.0, 1.0, 1.0, 0.683333333333333, 3.5, 2.5, 1.0, 1.5, 5.0, 16.5, 2.0, 1.0, 4.0, 2.5, 1.0, 2.5, 5.5, 0.7, 3.5, 2.5, 1.5, 1.5, 0.566666666666667, 1.5, 4.0, 5.0, 2.0, 10.5, 6.0, 0.6, 0.616666666666667, 1.5, 3.5, 2.0, 1.0, 0.716666666666667, 10.0, 4.0, 1.0, 1.0, 3.0, 20.5, 2.0, 4.5, 2.5, 2.0, 2.0, 1.0, 1.5, 1.5, 3.0, 1.0, 2.0, 2.0, 7.5, 1.0, 8.0, 1.5, 12.0, 1.5, 16.0, 3.0, 2.0, 2.0, 1.0, 2.0, 4.0, 2.0, 1.0, 0.533333333333333, 0.716666666666667, 2.0, 1.5, 1.5, 2.0, 9.0, 2.5, 2.5, 1.0, 1.0, 3.0, 1.0, 5.5, 2.5, 1.0, 4.5, 4.0, 2.5, 1.5, 6.5, 3.0, 1.0, 2.0, 7.0, 8.0, 1.0, 5.5, 2.0, 4.0, 1.0, 9.5, 0.516666666666667, 5.0, 1.0, 1.0, 8.0, 1.5, 0.533333333333333, 9.5, 2.5, 2.5, 2.0, 0.616666666666667, 8.0, 2.0, 3.0, 24.0, 2.0, 1.5, 2.5, 7.5, 2.0, 1.0, 1.0, 1.0, 1.0, 0.633333333333333, 1.0, 8.0, 2.0, 0.533333333333333, 4.5, 2.0, 0.7, 1.5, 2.0, 3.0, 2.0, 1.0, 1.0, 1.0, 2.5, 2.0, 1.0, 3.0, 2.0, 7.5, 1.5, 1.5, 0.683333333333333, 2.5, 3.0, 0.5, 3.0, 2.0, 2.5, 1.0, 2.5, 1.0, 6.0, 1.5, 3.0, 1.0, 2.0, 2.0, 2.0, 3.5, 4.5, 1.5, 1.5, 3.0, 2.0, 1.0, 1.0, 5.5, 2.5, 2.0, 4.0, 1.5, 5.0, 5.5, 7.5, 1.5, 1.5, 1.5, 1.0, 1.0, 2.5, 4.5, 4.0, 2.5, 0.483333333333333, 1.5, 2.5, 0.65, 1.0, 2.0, 0.566666666666667, 1.5, 1.0, 1.5, 1.5, 4.5, 1.0, 1.5, 8.5, 3.5, 30.0, 9.5, 34.0, 31.0, 15.5, 1.5, 8.5, 1.5, 1.5, 3.5, 1.5, 1.5, 1.5, 0.633333333333333, 1.0, 2.5, 2.0, 4.0, 1.0, 2.0, 0.6, 1.0, 1.0, 5.0, 5.5, 10.5, 23.0, 1.5, 7.0, 8.0, 0.666666666666667, 1.5, 6.0, 2.0, 6.0, 3.5, 6.5, 5.0, 1.0, 4.0, 0.583333333333333, 3.5, 0.733333333333333, 1.5, 1.0, 6.5, 7.0, 3.5, 3.0, 2.5, 8.0, 2.5, 3.0, 1.5, 0.6, 2.0, 3.5, 2.5, 1.0, 2.5, 2.5, 3.5, 3.0, 3.5, 3.0, 0.55, 1.5, 1.5, 2.0, 1.5, 1.0, 3.0, 2.0, 6.0, 4.0, 0.533333333333333, 9.5, 1.0, 3.5, 1.5, 4.0, 38.0, 9.0, 2.0, 1.5, 1.5, 2.0, 2.5, 1.5, 2.5, 3.5, 5.0, 3.5, 7.0, 4.5, 0.716666666666667, 3.0, 2.5, 1.0, 3.5, 3.0, 3.5, 3.0, 0.733333333333333, 1.5, 6.5, 2.5, 2.0, 1.5, 5.0, 2.0, 1.0, 2.5, 7.5, 7.0, 0.616666666666667, 2.0, 1.5, 4.0, 3.0, 1.5, 3.0, 5.5, 3.0, 1.0, 1.5, 2.0, 6.5, 3.5, 2.5, 1.5, 1.0, 1.5, 8.0, 1.0, 5.5, 6.0, 2.0, 0.716666666666667, 2.0, 3.0, 1.5, 0.633333333333333, 2.0, 1.5, 7.5, 4.5, 2.5, 1.5, 3.5, 0.716666666666667, 1.0, 1.5, 3.0, 1.0, 1.0, 1.5, 1.0, 0.55, 0.55, 1.0, 2.0, 2.0, 7.0, 0.566666666666667, 1.5, 0.5, 0.5, 0.533333333333333, 0.533333333333333, 0.633333333333333, 0.55, 0.583333333333333, 1.0, 1.5, 1.0, 1.5, 4.5, 5.0, 1.0, 1.5, 2.5, 1.5, 2.5, 0.616666666666667, 2.5, 1.5, 0.733333333333333, 2.0, 2.0, 6.0, 2.0, 2.0, 1.0, 4.0, 3.5, 3.0, 3.5, 3.0, 3.0, 3.0, 3.0, 4.0, 12.5, 4.5, 5.0, 19.5, 7.0, 6.0, 4.0, 12.0, 4.0, 5.0, 6.0, 7.5, 5.0, 20.5, 3.0, 13.5, 37.5, 3.5, 4.0, 2.5, 1.5, 3.5, 17.5, 1.0, 2.5, 2.5, 6.5, 3.5, 8.0, 2.5, 2.5, 10.5, 3.0, 1.5, 8.0, 25.0, 11.0, 4.5, 20.0, 1.5, 7.0, 5.0, 7.5, 3.0, 7.5, 45.0, 16.0, 1.0, 11.0, 1.0, 3.5, 12.5, 2.0, 1.5, 1.0, 3.0, 3.0, 1.0, 4.0, 2.0, 15.0, 1.5, 3.5, 2.5, 3.5, 1.0, 3.0, 19.5, 6.5, 60.0, 11.5, 5.5, 10.0, 7.0, 16.5, 2.0, 22.5, 13.5, 2.0, 4.0, 5.5, 3.5, 2.0, 1.0, 1.5, 3.0, 1.0, 10.0, 23.0, 18.0, 6.5, 20.5, 6.0, 14.5, 13.0, 8.5, 8.5, 1.0, 17.5, 1.5, 3.0, 6.0, 10.0, 3.5, 2.5, 3.0, 7.5, 5.5, 3.0, 2.0, 2.5, 4.5, 2.0, 1.0, 1.0, 3.5, 2.5, 5.0, 4.0, 6.5, 29.5, 3.0, 21.5, 31.5, 4.0, 12.0, 27.5, 5.5, 5.0, 20.5, 14.5, 9.0, 14.0, 15.5, 22.5, 9.0, 12.0, 12.5, 3.5, 16.0, 13.0, 3.0, 2.5, 4.0, 1.0, 1.5, 11.5, 24.5, 2.0, 7.5, 2.5, 25.0, 1.0, 15.5, 6.0, 3.0, 8.5, 5.0, 1.0, 11.0, 1.5, 1.0, 1.5, 1.0, 6.0, 4.5, 4.5, 7.0, 18.5, 1.5, 6.5, 0.666666666666667, 1.5, 3.5, 1.5, 3.5, 1.0, 13.0, 4.5, 3.0, 2.0, 9.0, 14.5, 3.0, 51.0, 2.0, 32.5, 12.0, 9.5, 13.0, 4.0, 12.5, 2.0, 1.5, 1.0, 10.5, 2.5, 3.0, 1.0, 2.0, 13.5, 2.5, 0.716666666666667, 2.5, 4.0, 3.5, 2.0, 0.7, 3.0, 3.0, 1.0, 0.616666666666667, 2.0, 1.0, 1.0, 1.5, 2.0, 13.0, 8.0, 2.0, 2.0, 3.5, 9.0, 3.5, 2.0, 4.0, 4.0, 1.5, 1.0, 1.0, 1.5, 1.5, 1.0, 2.5, 12.5, 1.5, 1.0, 3.5, 6.5, 1.5, 0.566666666666667, 17.0, 4.0, 3.5, 3.0, 2.0, 3.0, 1.5, 9.0, 2.5, 9.0, 4.0, 11.0, 8.0, 7.0, 0.683333333333333, 3.5, 3.5, 17.5, 3.0, 2.0, 6.5, 7.0, 1.0, 1.5, 1.0, 7.0, 6.0, 5.5, 8.0, 1.0, 1.0, 0.55, 44.5, 5.0, 3.0, 3.0, 2.0, 4.0, 0.583333333333333, 2.0, 3.0, 2.5, 14.0, 3.5, 2.0, 57.0, 5.0, 1.5, 2.5, 8.0, 9.5, 3.0, 14.0, 2.5, 6.5, 3.0, 3.0, 2.0, 3.5, 1.0, 13.0, 3.5, 1.0, 9.5, 1.5, 0.55, 0.633333333333333, 3.5, 5.5, 10.5, 0.533333333333333, 2.5, 2.5, 1.5, 3.5, 8.0, 4.5, 7.0, 13.5, 4.0, 4.0, 12.0, 3.5, 0.65, 8.0, 2.0, 6.0, 5.5, 4.5, 2.5, 15.5, 5.5, 1.5, 18.5, 7.0, 1.5, 16.5, 5.0, 4.0, 3.5, 6.5, 7.0, 3.0, 2.5, 0.6, 2.0, 2.5, 10.0, 14.5, 7.5, 10.5, 2.0, 7.0, 2.0, 2.5, 2.5, 0.666666666666667, 3.0, 0.566666666666667, 4.5, 2.0, 4.0, 5.5, 5.0, 16.0, 9.0, 3.5, 76.5, 11.5, 19.5, 9.0, 11.0, 1.5, 2.0, 13.0, 7.0, 2.0, 10.5, 3.5, 1.5, 7.0, 2.5, 1.5, 20.0, 16.5, 12.5, 5.5, 6.0, 4.0, 5.0, 15.5, 3.5, 1.5, 9.0, 5.0, 3.0, 20.0, 8.0, 31.5, 14.5, 22.0, 30.5, 17.0, 31.5, 3.0, 3.5, 2.0, 3.5, 5.5, 4.5, 13.5, 18.0, 17.5, 8.5, 9.5, 9.0, 43.0, 10.0, 30.5, 32.5, 0.683333333333333, 5.0, 4.5, 3.5, 5.5, 18.5, 42.0, 7.0, 11.5, 5.5, 12.0, 13.0, 7.0, 26.5, 7.5, 0.733333333333333, 1.0, 7.5, 1.0, 9.5, 2.0, 7.5, 0.633333333333333, 5.0, 3.0, 1.5, 2.0, 0.616666666666667, 5.5, 0.583333333333333, 7.5, 0.583333333333333, 1.5, 5.5, 6.5, 10.5, 2.0, 6.5, 1.0, 1.0, 3.0, 3.0, 4.0, 2.0, 4.0, 7.5, 2.0, 2.5, 3.0, 1.0, 1.0, 2.0, 6.0, 26.0, 3.0, 4.0, 21.0, 0.55, 0.5, 2.0, 5.0, 3.5, 2.0, 3.0, 1.0, 5.0, 18.5, 1.5, 1.0, 8.0, 5.0, 1.5, 5.0, 3.0, 1.5, 1.0, 1.5, 3.0, 4.5, 1.5, 1.0, 6.5, 17.5, 1.0, 2.0, 13.0, 3.5, 26.0, 4.5, 2.5, 1.5, 1.5, 7.0, 2.5, 7.0, 8.5, 4.0, 12.5, 7.5, 1.5, 2.0, 4.5, 8.5, 2.0, 0.633333333333333, 6.0, 1.0, 1.5, 4.5, 5.5, 1.5, 14.0, 0.566666666666667, 4.0, 2.5, 4.0, 0.566666666666667, 5.0, 2.0, 6.5, 4.5, 48.5, 1.5, 2.0, 1.5, 1.5, 7.5, 3.0, 8.0, 25.5, 0.583333333333333, 1.5, 2.5, 0.516666666666667, 5.5, 1.0, 1.0, 4.0, 2.5, 1.5, 15.0, 6.0, 3.0, 1.5, 5.5, 0.566666666666667, 22.5, 0.65, 2.0, 10.0, 8.0, 1.0, 3.0, 3.5, 3.5, 16.0, 3.5, 4.0, 5.0, 0.733333333333333, 0.566666666666667, 4.5, 3.0, 2.0, 6.5, 5.0, 3.0, 22.5, 0.65, 7.0, 3.0, 2.0, 2.5, 5.0, 4.0, 9.5, 1.5, 2.5, 16.5, 3.5, 2.5, 3.0, 1.5, 3.5, 0.7, 1.5, 2.0, 3.5, 6.5, 11.0, 7.0, 2.0, 3.5, 6.5, 6.5, 6.5, 66.5, 1.0, 12.5, 4.5, 0.633333333333333, 0.633333333333333, 1.5, 1.0, 1.0, 1.0, 5.0, 0.533333333333333, 1.0, 6.5, 2.5, 1.5, 2.5, 0.6, 2.0, 0.516666666666667, 14.0, 4.5, 10.0, 5.5, 0.616666666666667, 2.5, 15.5, 2.0, 3.5, 8.5, 1.0, 2.0, 0.616666666666667, 2.5, 1.0, 15.5, 2.0, 3.5, 3.0], \"x0\": \" \", \"xaxis\": \"x\", \"y\": [\"Business Finance\", \"Business Finance\", \"Business Finance\", \"Business Finance\", \"Business Finance\", \"Business Finance\", \"Business Finance\", \"Business Finance\", \"Business Finance\", \"Business Finance\", \"Business Finance\", \"Business Finance\", \"Business Finance\", \"Business Finance\", \"Business Finance\", \"Business Finance\", \"Business Finance\", \"Business Finance\", \"Business Finance\", \"Business Finance\", \"Business Finance\", \"Business Finance\", \"Business Finance\", \"Business Finance\", \"Business Finance\", \"Business Finance\", \"Business Finance\", \"Business Finance\", \"Business Finance\", \"Business Finance\", \"Business Finance\", \"Business Finance\", \"Business Finance\", \"Business Finance\", \"Business Finance\", \"Business Finance\", \"Business Finance\", \"Business Finance\", \"Business Finance\", \"Business Finance\", \"Business Finance\", \"Business Finance\", \"Business Finance\", \"Business Finance\", \"Business Finance\", \"Business Finance\", \"Business Finance\", \"Business Finance\", \"Business Finance\", \"Business Finance\", \"Business Finance\", \"Business Finance\", \"Business Finance\", \"Business Finance\", \"Business Finance\", \"Business Finance\", \"Business Finance\", \"Business Finance\", \"Business Finance\", \"Business Finance\", \"Business Finance\", \"Business Finance\", \"Business Finance\", \"Business Finance\", \"Business Finance\", \"Business Finance\", \"Business Finance\", \"Business Finance\", \"Business Finance\", \"Business Finance\", \"Business Finance\", \"Business Finance\", \"Business Finance\", \"Business Finance\", \"Business Finance\", \"Business Finance\", \"Business Finance\", \"Business Finance\", \"Business Finance\", \"Business Finance\", \"Business Finance\", \"Business Finance\", \"Business Finance\", \"Business Finance\", \"Business Finance\", \"Business Finance\", \"Business Finance\", \"Business Finance\", \"Business Finance\", \"Business Finance\", \"Business Finance\", \"Business Finance\", \"Business Finance\", \"Business Finance\", \"Business Finance\", \"Business Finance\", \"Business Finance\", \"Business Finance\", \"Business Finance\", \"Business Finance\", \"Business Finance\", \"Business Finance\", \"Business Finance\", \"Business Finance\", \"Business Finance\", \"Business Finance\", \"Business Finance\", \"Business Finance\", \"Business Finance\", \"Business Finance\", \"Business Finance\", \"Business Finance\", \"Business Finance\", \"Business Finance\", \"Business Finance\", \"Business Finance\", \"Business Finance\", \"Business Finance\", \"Business Finance\", \"Business Finance\", \"Business Finance\", \"Business Finance\", \"Business Finance\", \"Business Finance\", \"Business Finance\", \"Business Finance\", \"Business Finance\", \"Business Finance\", \"Business Finance\", \"Business Finance\", \"Business Finance\", \"Business Finance\", \"Business Finance\", \"Business Finance\", \"Business Finance\", \"Business Finance\", \"Business Finance\", \"Business Finance\", \"Business Finance\", \"Business Finance\", \"Business Finance\", \"Business Finance\", \"Business Finance\", \"Business Finance\", \"Business Finance\", \"Business Finance\", \"Business Finance\", \"Business Finance\", \"Business Finance\", \"Business Finance\", \"Business Finance\", \"Business Finance\", \"Business Finance\", \"Business Finance\", \"Business Finance\", \"Business Finance\", \"Business Finance\", \"Business Finance\", \"Business Finance\", \"Business Finance\", \"Business Finance\", \"Business Finance\", \"Business Finance\", \"Business Finance\", \"Business Finance\", \"Business Finance\", \"Business Finance\", \"Business Finance\", \"Business Finance\", \"Business Finance\", \"Business Finance\", \"Business Finance\", \"Business Finance\", \"Business Finance\", \"Business Finance\", \"Business Finance\", \"Business Finance\", \"Business Finance\", \"Business Finance\", \"Business Finance\", \"Business Finance\", \"Business Finance\", \"Business Finance\", \"Business Finance\", \"Business Finance\", \"Business Finance\", \"Business Finance\", \"Business Finance\", \"Business Finance\", \"Business Finance\", \"Business Finance\", \"Business Finance\", \"Business Finance\", \"Business Finance\", \"Business Finance\", \"Business Finance\", \"Business Finance\", \"Business Finance\", \"Business Finance\", \"Business Finance\", \"Business Finance\", \"Business Finance\", \"Business Finance\", \"Business Finance\", \"Business Finance\", \"Business Finance\", \"Business Finance\", \"Business Finance\", \"Business Finance\", \"Business Finance\", \"Business Finance\", \"Business Finance\", \"Business Finance\", \"Business Finance\", \"Business Finance\", \"Business Finance\", \"Business Finance\", \"Business Finance\", \"Business Finance\", \"Business Finance\", \"Business Finance\", \"Business Finance\", \"Business Finance\", \"Business Finance\", \"Business Finance\", \"Business Finance\", \"Business Finance\", \"Business Finance\", \"Business Finance\", \"Business Finance\", \"Business Finance\", \"Business Finance\", \"Business Finance\", \"Business Finance\", \"Business Finance\", \"Business Finance\", \"Business Finance\", \"Business Finance\", \"Business Finance\", \"Business Finance\", \"Business Finance\", \"Business Finance\", \"Business Finance\", \"Business Finance\", \"Business Finance\", \"Business Finance\", \"Business Finance\", \"Business Finance\", \"Business Finance\", \"Business Finance\", \"Business Finance\", \"Business Finance\", \"Business Finance\", \"Business Finance\", \"Business Finance\", \"Business Finance\", \"Business Finance\", \"Business Finance\", \"Business Finance\", \"Business Finance\", \"Business Finance\", \"Business Finance\", \"Business Finance\", \"Business Finance\", \"Business Finance\", \"Business Finance\", \"Business Finance\", \"Business Finance\", \"Business Finance\", \"Business Finance\", \"Business Finance\", \"Business Finance\", \"Business Finance\", \"Business Finance\", \"Business Finance\", \"Business Finance\", \"Business Finance\", \"Business Finance\", \"Business Finance\", \"Business Finance\", \"Business Finance\", \"Business Finance\", \"Business Finance\", \"Business Finance\", \"Business Finance\", \"Business Finance\", \"Business Finance\", \"Business Finance\", \"Business Finance\", \"Business Finance\", \"Business Finance\", \"Business Finance\", \"Business Finance\", \"Business Finance\", \"Business Finance\", \"Business Finance\", \"Business Finance\", \"Business Finance\", \"Business Finance\", \"Business Finance\", \"Business Finance\", \"Business Finance\", \"Business Finance\", \"Business Finance\", \"Business Finance\", \"Business Finance\", \"Business Finance\", \"Business Finance\", \"Business Finance\", \"Business Finance\", \"Business Finance\", \"Business Finance\", \"Business Finance\", \"Business Finance\", \"Business Finance\", \"Business Finance\", \"Business Finance\", \"Business Finance\", \"Business Finance\", \"Business Finance\", \"Business Finance\", \"Business Finance\", \"Business Finance\", \"Business Finance\", \"Business Finance\", \"Business Finance\", \"Business Finance\", \"Business Finance\", \"Business Finance\", \"Business Finance\", \"Business Finance\", \"Business Finance\", \"Business Finance\", \"Business Finance\", \"Business Finance\", \"Business Finance\", \"Business Finance\", \"Business Finance\", \"Business Finance\", \"Business Finance\", \"Business Finance\", \"Business Finance\", \"Business Finance\", \"Business Finance\", \"Business Finance\", \"Business Finance\", \"Business Finance\", \"Business Finance\", \"Business Finance\", \"Business Finance\", \"Business Finance\", \"Business Finance\", \"Business Finance\", \"Business Finance\", \"Business Finance\", \"Business Finance\", \"Business Finance\", \"Business Finance\", \"Business Finance\", \"Business Finance\", \"Business Finance\", \"Business Finance\", \"Business Finance\", \"Business Finance\", \"Business Finance\", \"Business Finance\", \"Business Finance\", \"Business Finance\", \"Business Finance\", \"Business Finance\", \"Business Finance\", \"Business Finance\", \"Business Finance\", \"Business Finance\", \"Business Finance\", \"Business Finance\", \"Business Finance\", \"Business Finance\", \"Business Finance\", \"Business Finance\", \"Business Finance\", \"Business Finance\", \"Business Finance\", \"Business Finance\", \"Business Finance\", \"Business Finance\", \"Business Finance\", \"Business Finance\", \"Business Finance\", \"Business Finance\", \"Business Finance\", \"Business Finance\", \"Business Finance\", \"Business Finance\", \"Business Finance\", \"Business Finance\", \"Business Finance\", \"Business Finance\", \"Business Finance\", \"Business Finance\", \"Business Finance\", \"Business Finance\", \"Business Finance\", \"Business Finance\", \"Business Finance\", \"Business Finance\", \"Business Finance\", \"Business Finance\", \"Business Finance\", \"Business Finance\", \"Business Finance\", \"Business Finance\", \"Business Finance\", \"Business Finance\", \"Business Finance\", \"Business Finance\", \"Business Finance\", \"Business Finance\", \"Business Finance\", \"Business Finance\", \"Business Finance\", \"Business Finance\", \"Business Finance\", \"Business Finance\", \"Business Finance\", \"Business Finance\", \"Business Finance\", \"Business Finance\", \"Business Finance\", \"Business Finance\", \"Business Finance\", \"Business Finance\", \"Business Finance\", \"Business Finance\", \"Business Finance\", \"Business Finance\", \"Business Finance\", \"Business Finance\", \"Business Finance\", \"Business Finance\", \"Business Finance\", \"Business Finance\", \"Business Finance\", \"Business Finance\", \"Business Finance\", \"Business Finance\", \"Business Finance\", \"Business Finance\", \"Business Finance\", \"Business Finance\", \"Business Finance\", \"Business Finance\", \"Business Finance\", \"Business Finance\", \"Business Finance\", \"Business Finance\", \"Business Finance\", \"Business Finance\", \"Business Finance\", \"Business Finance\", \"Business Finance\", \"Business Finance\", \"Business Finance\", \"Business Finance\", \"Business Finance\", \"Business Finance\", \"Business Finance\", \"Business Finance\", \"Business Finance\", \"Business Finance\", \"Business Finance\", \"Business Finance\", \"Business Finance\", \"Business Finance\", \"Business Finance\", \"Business Finance\", \"Business Finance\", \"Business Finance\", \"Business Finance\", \"Business Finance\", \"Business Finance\", \"Business Finance\", \"Business Finance\", \"Business Finance\", \"Business Finance\", \"Business Finance\", \"Business Finance\", \"Business Finance\", \"Business Finance\", \"Business Finance\", \"Business Finance\", \"Business Finance\", \"Business Finance\", \"Business Finance\", \"Business Finance\", \"Business Finance\", \"Business Finance\", \"Business Finance\", \"Business Finance\", \"Business Finance\", \"Business Finance\", \"Business Finance\", \"Business Finance\", \"Business Finance\", \"Business Finance\", \"Business Finance\", \"Business Finance\", \"Business Finance\", \"Business Finance\", \"Business Finance\", \"Business Finance\", \"Business Finance\", \"Business Finance\", \"Business Finance\", \"Business Finance\", \"Business Finance\", \"Business Finance\", \"Business Finance\", \"Business Finance\", \"Business Finance\", \"Business Finance\", \"Business Finance\", \"Business Finance\", \"Business Finance\", \"Business Finance\", \"Business Finance\", \"Business Finance\", \"Business Finance\", \"Business Finance\", \"Business Finance\", \"Business Finance\", \"Business Finance\", \"Business Finance\", \"Business Finance\", \"Business Finance\", \"Business Finance\", \"Business Finance\", \"Business Finance\", \"Business Finance\", \"Business Finance\", \"Business Finance\", \"Business Finance\", \"Business Finance\", \"Business Finance\", \"Business Finance\", \"Business Finance\", \"Business Finance\", \"Business Finance\", \"Business Finance\", \"Business Finance\", \"Business Finance\", \"Business Finance\", \"Business Finance\", \"Business Finance\", \"Business Finance\", \"Business Finance\", \"Business Finance\", \"Business Finance\", \"Business Finance\", \"Business Finance\", \"Business Finance\", \"Business Finance\", \"Business Finance\", \"Business Finance\", \"Business Finance\", \"Business Finance\", \"Business Finance\", \"Business Finance\", \"Business Finance\", \"Business Finance\", \"Business Finance\", \"Business Finance\", \"Business Finance\", \"Business Finance\", \"Business Finance\", \"Business Finance\", \"Business Finance\", \"Business Finance\", \"Business Finance\", \"Business Finance\", \"Business Finance\", \"Business Finance\", \"Business Finance\", \"Business Finance\", \"Business Finance\", \"Business Finance\", \"Business Finance\", \"Business Finance\", \"Business Finance\", \"Business Finance\", \"Business Finance\", \"Business Finance\", \"Business Finance\", \"Business Finance\", \"Business Finance\", \"Business Finance\", \"Business Finance\", \"Business Finance\", \"Business Finance\", \"Business Finance\", \"Business Finance\", \"Business Finance\", \"Business Finance\", \"Business Finance\", \"Business Finance\", \"Business Finance\", \"Business Finance\", \"Business Finance\", \"Business Finance\", \"Business Finance\", \"Business Finance\", \"Business Finance\", \"Business Finance\", \"Business Finance\", \"Business Finance\", \"Business Finance\", \"Business Finance\", \"Business Finance\", \"Business Finance\", \"Business Finance\", \"Business Finance\", \"Business Finance\", \"Business Finance\", \"Business Finance\", \"Business Finance\", \"Business Finance\", \"Business Finance\", \"Business Finance\", \"Business Finance\", \"Business Finance\", \"Business Finance\", \"Business Finance\", \"Business Finance\", \"Business Finance\", \"Business Finance\", \"Business Finance\", \"Business Finance\", \"Business Finance\", \"Business Finance\", \"Business Finance\", \"Business Finance\", \"Business Finance\", \"Business Finance\", \"Business Finance\", \"Business Finance\", \"Business Finance\", \"Business Finance\", \"Business Finance\", \"Business Finance\", \"Business Finance\", \"Business Finance\", \"Business Finance\", \"Business Finance\", \"Business Finance\", \"Business Finance\", \"Business Finance\", \"Business Finance\", \"Business Finance\", \"Business Finance\", \"Business Finance\", \"Business Finance\", \"Business Finance\", \"Business Finance\", \"Business Finance\", \"Business Finance\", \"Business Finance\", \"Business Finance\", \"Business Finance\", \"Business Finance\", \"Business Finance\", \"Business Finance\", \"Business Finance\", \"Business Finance\", \"Business Finance\", \"Business Finance\", \"Business Finance\", \"Business Finance\", \"Business Finance\", \"Business Finance\", \"Business Finance\", \"Business Finance\", \"Business Finance\", \"Business Finance\", \"Business Finance\", \"Business Finance\", \"Business Finance\", \"Business Finance\", \"Business Finance\", \"Business Finance\", \"Business Finance\", \"Business Finance\", \"Business Finance\", \"Business Finance\", \"Business Finance\", \"Business Finance\", \"Business Finance\", \"Business Finance\", \"Business Finance\", \"Business Finance\", \"Business Finance\", \"Business Finance\", \"Business Finance\", \"Business Finance\", \"Business Finance\", \"Business Finance\", \"Business Finance\", \"Business Finance\", \"Business Finance\", \"Business Finance\", \"Business Finance\", \"Business Finance\", \"Business Finance\", \"Graphic Design\", \"Graphic Design\", \"Graphic Design\", \"Graphic Design\", \"Graphic Design\", \"Graphic Design\", \"Graphic Design\", \"Graphic Design\", \"Graphic Design\", \"Graphic Design\", \"Graphic Design\", \"Graphic Design\", \"Graphic Design\", \"Graphic Design\", \"Graphic Design\", \"Graphic Design\", \"Graphic Design\", \"Graphic Design\", \"Graphic Design\", \"Graphic Design\", \"Graphic Design\", \"Graphic Design\", \"Graphic Design\", \"Graphic Design\", \"Graphic Design\", \"Graphic Design\", \"Graphic Design\", \"Graphic Design\", \"Graphic Design\", \"Graphic Design\", \"Graphic Design\", \"Graphic Design\", \"Graphic Design\", \"Graphic Design\", \"Graphic Design\", \"Graphic Design\", \"Graphic Design\", \"Graphic Design\", \"Graphic Design\", \"Graphic Design\", \"Graphic Design\", \"Graphic Design\", \"Graphic Design\", \"Graphic Design\", \"Graphic Design\", \"Graphic Design\", \"Graphic Design\", \"Graphic Design\", \"Graphic Design\", \"Graphic Design\", \"Graphic Design\", \"Graphic Design\", \"Graphic Design\", \"Graphic Design\", \"Graphic Design\", \"Graphic Design\", \"Graphic Design\", \"Graphic Design\", \"Graphic Design\", \"Graphic Design\", \"Graphic Design\", \"Graphic Design\", \"Graphic Design\", \"Graphic Design\", \"Graphic Design\", \"Graphic Design\", \"Graphic Design\", \"Graphic Design\", \"Graphic Design\", \"Graphic Design\", \"Graphic Design\", \"Graphic Design\", \"Graphic Design\", \"Graphic Design\", \"Graphic Design\", \"Graphic Design\", \"Graphic Design\", \"Graphic Design\", \"Graphic Design\", \"Graphic Design\", \"Graphic Design\", \"Graphic Design\", \"Graphic Design\", \"Graphic Design\", \"Graphic Design\", \"Graphic Design\", \"Graphic Design\", \"Graphic Design\", \"Graphic Design\", \"Graphic Design\", \"Graphic Design\", \"Graphic Design\", \"Graphic Design\", \"Graphic Design\", \"Graphic Design\", \"Graphic Design\", \"Graphic Design\", \"Graphic Design\", \"Graphic Design\", \"Graphic Design\", \"Graphic Design\", \"Graphic Design\", \"Graphic Design\", \"Graphic Design\", \"Graphic Design\", \"Graphic Design\", \"Graphic Design\", \"Graphic Design\", \"Graphic Design\", \"Graphic Design\", \"Graphic Design\", \"Graphic Design\", \"Graphic Design\", \"Graphic Design\", \"Graphic Design\", \"Graphic Design\", \"Graphic Design\", \"Graphic Design\", \"Graphic Design\", \"Graphic Design\", \"Graphic Design\", \"Graphic Design\", \"Graphic Design\", \"Graphic Design\", \"Graphic Design\", \"Graphic Design\", \"Graphic Design\", \"Graphic Design\", \"Graphic Design\", \"Graphic Design\", \"Graphic Design\", \"Graphic Design\", \"Graphic Design\", \"Graphic Design\", \"Graphic Design\", \"Graphic Design\", \"Graphic Design\", \"Graphic Design\", \"Graphic Design\", \"Graphic Design\", \"Graphic Design\", \"Graphic Design\", \"Graphic Design\", \"Graphic Design\", \"Graphic Design\", \"Graphic Design\", \"Graphic Design\", \"Graphic Design\", \"Graphic Design\", \"Graphic Design\", \"Graphic Design\", \"Graphic Design\", \"Graphic Design\", \"Graphic Design\", \"Graphic Design\", \"Graphic Design\", \"Graphic Design\", \"Graphic Design\", \"Graphic Design\", \"Graphic Design\", \"Graphic Design\", \"Graphic Design\", \"Graphic Design\", \"Graphic Design\", \"Graphic Design\", \"Graphic Design\", \"Graphic Design\", \"Graphic Design\", \"Graphic Design\", \"Graphic Design\", \"Graphic Design\", \"Graphic Design\", \"Graphic Design\", \"Graphic Design\", \"Graphic Design\", \"Graphic Design\", \"Graphic Design\", \"Graphic Design\", \"Graphic Design\", \"Graphic Design\", \"Graphic Design\", \"Graphic Design\", \"Graphic Design\", \"Graphic Design\", \"Graphic Design\", \"Graphic Design\", \"Graphic Design\", \"Graphic Design\", \"Graphic Design\", \"Graphic Design\", \"Graphic Design\", \"Graphic Design\", \"Graphic Design\", \"Graphic Design\", \"Graphic Design\", \"Graphic Design\", \"Graphic Design\", \"Graphic Design\", \"Graphic Design\", \"Graphic Design\", \"Graphic Design\", \"Graphic Design\", \"Graphic Design\", \"Graphic Design\", \"Graphic Design\", \"Graphic Design\", \"Graphic Design\", \"Graphic Design\", \"Graphic Design\", \"Graphic Design\", \"Graphic Design\", \"Graphic Design\", \"Graphic Design\", \"Graphic Design\", \"Graphic Design\", \"Graphic Design\", \"Graphic Design\", \"Graphic Design\", \"Graphic Design\", \"Graphic Design\", \"Graphic Design\", \"Graphic Design\", \"Graphic Design\", \"Graphic Design\", \"Graphic Design\", \"Graphic Design\", \"Graphic Design\", \"Graphic Design\", \"Graphic Design\", \"Graphic Design\", \"Graphic Design\", \"Graphic Design\", \"Graphic Design\", \"Graphic Design\", \"Graphic Design\", \"Graphic Design\", \"Graphic Design\", \"Graphic Design\", \"Graphic Design\", \"Graphic Design\", \"Graphic Design\", \"Graphic Design\", \"Graphic Design\", \"Graphic Design\", \"Graphic Design\", \"Graphic Design\", \"Graphic Design\", \"Graphic Design\", \"Graphic Design\", \"Graphic Design\", \"Graphic Design\", \"Graphic Design\", \"Graphic Design\", \"Graphic Design\", \"Graphic Design\", \"Graphic Design\", \"Graphic Design\", \"Graphic Design\", \"Graphic Design\", \"Graphic Design\", \"Graphic Design\", \"Graphic Design\", \"Graphic Design\", \"Graphic Design\", \"Graphic Design\", \"Graphic Design\", \"Graphic Design\", \"Graphic Design\", \"Graphic Design\", \"Graphic Design\", \"Graphic Design\", \"Graphic Design\", \"Graphic Design\", \"Graphic Design\", \"Graphic Design\", \"Graphic Design\", \"Graphic Design\", \"Graphic Design\", \"Graphic Design\", \"Graphic Design\", \"Graphic Design\", \"Graphic Design\", \"Graphic Design\", \"Graphic Design\", \"Graphic Design\", \"Graphic Design\", \"Graphic Design\", \"Graphic Design\", \"Graphic Design\", \"Graphic Design\", \"Graphic Design\", \"Graphic Design\", \"Graphic Design\", \"Graphic Design\", \"Graphic Design\", \"Graphic Design\", \"Graphic Design\", \"Graphic Design\", \"Musical Instruments\", \"Musical Instruments\", \"Musical Instruments\", \"Musical Instruments\", \"Musical Instruments\", \"Musical Instruments\", \"Musical Instruments\", \"Musical Instruments\", \"Musical Instruments\", \"Musical Instruments\", \"Musical Instruments\", \"Musical Instruments\", \"Musical Instruments\", \"Musical Instruments\", \"Musical Instruments\", \"Musical Instruments\", \"Musical Instruments\", \"Musical Instruments\", \"Musical Instruments\", \"Musical Instruments\", \"Musical Instruments\", \"Musical Instruments\", \"Musical Instruments\", \"Musical Instruments\", \"Musical Instruments\", \"Musical Instruments\", \"Musical Instruments\", \"Musical Instruments\", \"Musical Instruments\", \"Musical Instruments\", \"Musical Instruments\", \"Musical Instruments\", \"Musical Instruments\", \"Musical Instruments\", \"Musical Instruments\", \"Musical Instruments\", \"Musical Instruments\", \"Musical Instruments\", \"Musical Instruments\", \"Musical Instruments\", \"Musical Instruments\", \"Musical Instruments\", \"Musical Instruments\", \"Musical Instruments\", \"Musical Instruments\", \"Musical Instruments\", \"Musical Instruments\", \"Musical Instruments\", \"Musical Instruments\", \"Musical Instruments\", \"Musical Instruments\", \"Musical Instruments\", \"Musical Instruments\", \"Musical Instruments\", \"Musical Instruments\", \"Musical Instruments\", \"Musical Instruments\", \"Musical Instruments\", \"Musical Instruments\", \"Musical Instruments\", \"Musical Instruments\", \"Musical Instruments\", \"Musical Instruments\", \"Musical Instruments\", \"Musical Instruments\", \"Musical Instruments\", \"Musical Instruments\", \"Musical Instruments\", \"Musical Instruments\", \"Musical Instruments\", \"Musical Instruments\", \"Musical Instruments\", \"Musical Instruments\", \"Musical Instruments\", \"Musical Instruments\", \"Musical Instruments\", \"Musical Instruments\", \"Musical Instruments\", \"Musical Instruments\", \"Musical Instruments\", \"Musical Instruments\", \"Musical Instruments\", \"Musical Instruments\", \"Musical Instruments\", \"Musical Instruments\", \"Musical Instruments\", \"Musical Instruments\", \"Musical Instruments\", \"Musical Instruments\", \"Musical Instruments\", \"Musical Instruments\", \"Musical Instruments\", \"Musical Instruments\", \"Musical Instruments\", \"Musical Instruments\", \"Musical Instruments\", \"Musical Instruments\", \"Musical Instruments\", \"Musical Instruments\", \"Musical Instruments\", \"Musical Instruments\", \"Musical Instruments\", \"Musical Instruments\", \"Musical Instruments\", \"Musical Instruments\", \"Musical Instruments\", \"Musical Instruments\", \"Musical Instruments\", \"Musical Instruments\", \"Musical Instruments\", \"Musical Instruments\", \"Musical Instruments\", \"Musical Instruments\", \"Musical Instruments\", \"Musical Instruments\", \"Musical Instruments\", \"Musical Instruments\", \"Musical Instruments\", \"Musical Instruments\", \"Musical Instruments\", \"Musical Instruments\", \"Musical Instruments\", \"Musical Instruments\", \"Musical Instruments\", \"Musical Instruments\", \"Musical Instruments\", \"Musical Instruments\", \"Musical Instruments\", \"Musical Instruments\", \"Musical Instruments\", \"Musical Instruments\", \"Musical Instruments\", \"Musical Instruments\", \"Musical Instruments\", \"Musical Instruments\", \"Musical Instruments\", \"Musical Instruments\", \"Musical Instruments\", \"Musical Instruments\", \"Musical Instruments\", \"Musical Instruments\", \"Musical Instruments\", \"Musical Instruments\", \"Musical Instruments\", \"Musical Instruments\", \"Musical Instruments\", \"Musical Instruments\", \"Musical Instruments\", \"Musical Instruments\", \"Musical Instruments\", \"Musical Instruments\", \"Musical Instruments\", \"Musical Instruments\", \"Musical Instruments\", \"Musical Instruments\", \"Musical Instruments\", \"Musical Instruments\", \"Musical Instruments\", \"Musical Instruments\", \"Musical Instruments\", \"Musical Instruments\", \"Musical Instruments\", \"Musical Instruments\", \"Musical Instruments\", \"Musical Instruments\", \"Musical Instruments\", \"Musical Instruments\", \"Musical Instruments\", \"Musical Instruments\", \"Musical Instruments\", \"Musical Instruments\", \"Musical Instruments\", \"Musical Instruments\", \"Musical Instruments\", \"Musical Instruments\", \"Musical Instruments\", \"Musical Instruments\", \"Musical Instruments\", \"Musical Instruments\", \"Musical Instruments\", \"Musical Instruments\", \"Musical Instruments\", \"Musical Instruments\", \"Musical Instruments\", \"Musical Instruments\", \"Musical Instruments\", \"Musical Instruments\", \"Musical Instruments\", \"Musical Instruments\", \"Musical Instruments\", \"Musical Instruments\", \"Musical Instruments\", \"Musical Instruments\", \"Musical Instruments\", \"Musical Instruments\", \"Musical Instruments\", \"Musical Instruments\", \"Musical Instruments\", \"Musical Instruments\", \"Musical Instruments\", \"Musical Instruments\", \"Musical Instruments\", \"Musical Instruments\", \"Musical Instruments\", \"Musical Instruments\", \"Musical Instruments\", \"Musical Instruments\", \"Musical Instruments\", \"Musical Instruments\", \"Musical Instruments\", \"Musical Instruments\", \"Musical Instruments\", \"Musical Instruments\", \"Musical Instruments\", \"Musical Instruments\", \"Musical Instruments\", \"Musical Instruments\", \"Musical Instruments\", \"Musical Instruments\", \"Musical Instruments\", \"Musical Instruments\", \"Musical Instruments\", \"Musical Instruments\", \"Musical Instruments\", \"Musical Instruments\", \"Musical Instruments\", \"Musical Instruments\", \"Musical Instruments\", \"Musical Instruments\", \"Musical Instruments\", \"Musical Instruments\", \"Musical Instruments\", \"Musical Instruments\", \"Musical Instruments\", \"Musical Instruments\", \"Musical Instruments\", \"Musical Instruments\", \"Musical Instruments\", \"Musical Instruments\", \"Musical Instruments\", \"Musical Instruments\", \"Musical Instruments\", \"Musical Instruments\", \"Musical Instruments\", \"Musical Instruments\", \"Musical Instruments\", \"Musical Instruments\", \"Musical Instruments\", \"Musical Instruments\", \"Musical Instruments\", \"Musical Instruments\", \"Musical Instruments\", \"Musical Instruments\", \"Musical Instruments\", \"Musical Instruments\", \"Musical Instruments\", \"Musical Instruments\", \"Musical Instruments\", \"Musical Instruments\", \"Musical Instruments\", \"Musical Instruments\", \"Musical Instruments\", \"Musical Instruments\", \"Musical Instruments\", \"Musical Instruments\", \"Musical Instruments\", \"Musical Instruments\", \"Musical Instruments\", \"Musical Instruments\", \"Musical Instruments\", \"Musical Instruments\", \"Musical Instruments\", \"Musical Instruments\", \"Musical Instruments\", \"Musical Instruments\", \"Musical Instruments\", \"Web Development\", \"Web Development\", \"Web Development\", \"Web Development\", \"Web Development\", \"Web Development\", \"Web Development\", \"Web Development\", \"Web Development\", \"Web Development\", \"Web Development\", \"Web Development\", \"Web Development\", \"Web Development\", \"Web Development\", \"Web Development\", \"Web Development\", \"Web Development\", \"Web Development\", \"Web Development\", \"Web Development\", \"Web Development\", \"Web Development\", \"Web Development\", \"Web Development\", \"Web Development\", \"Web Development\", \"Web Development\", \"Web Development\", \"Web Development\", \"Web Development\", \"Web Development\", \"Web Development\", \"Web Development\", \"Web Development\", \"Web Development\", \"Web Development\", \"Web Development\", \"Web Development\", \"Web Development\", \"Web Development\", \"Web Development\", \"Web Development\", \"Web Development\", \"Web Development\", \"Web Development\", \"Web Development\", \"Web Development\", \"Web Development\", \"Web Development\", \"Web Development\", \"Web Development\", \"Web Development\", \"Web Development\", \"Web Development\", \"Web Development\", \"Web Development\", \"Web Development\", \"Web Development\", \"Web Development\", \"Web Development\", \"Web Development\", \"Web Development\", \"Web Development\", \"Web Development\", \"Web Development\", \"Web Development\", \"Web Development\", \"Web Development\", \"Web Development\", \"Web Development\", \"Web Development\", \"Web Development\", \"Web Development\", \"Web Development\", \"Web Development\", \"Web Development\", \"Web Development\", \"Web Development\", \"Web Development\", \"Web Development\", \"Web Development\", \"Web Development\", \"Web Development\", \"Web Development\", \"Web Development\", \"Web Development\", \"Web Development\", \"Web Development\", \"Web Development\", \"Web Development\", \"Web Development\", \"Web Development\", \"Web Development\", \"Web Development\", \"Web Development\", \"Web Development\", \"Web Development\", \"Web Development\", \"Web Development\", \"Web Development\", \"Web Development\", \"Web Development\", \"Web Development\", \"Web Development\", \"Web Development\", \"Web Development\", \"Web Development\", \"Web Development\", \"Web Development\", \"Web Development\", \"Web Development\", \"Web Development\", \"Web Development\", \"Web Development\", \"Web Development\", \"Web Development\", \"Web Development\", \"Web Development\", \"Web Development\", \"Web Development\", \"Web Development\", \"Web Development\", \"Web Development\", \"Web Development\", \"Web Development\", \"Web Development\", \"Web Development\", \"Web Development\", \"Web Development\", \"Web Development\", \"Web Development\", \"Web Development\", \"Web Development\", \"Web Development\", \"Web Development\", \"Web Development\", \"Web Development\", \"Web Development\", \"Web Development\", \"Web Development\", \"Web Development\", \"Web Development\", \"Web Development\", \"Web Development\", \"Web Development\", \"Web Development\", \"Web Development\", \"Web Development\", \"Web Development\", \"Web Development\", \"Web Development\", \"Web Development\", \"Web Development\", \"Web Development\", \"Web Development\", \"Web Development\", \"Web Development\", \"Web Development\", \"Web Development\", \"Web Development\", \"Web Development\", \"Web Development\", \"Web Development\", \"Web Development\", \"Web Development\", \"Web Development\", \"Web Development\", \"Web Development\", \"Web Development\", \"Web Development\", \"Web Development\", \"Web Development\", \"Web Development\", \"Web Development\", \"Web Development\", \"Web Development\", \"Web Development\", \"Web Development\", \"Web Development\", \"Web Development\", \"Web Development\", \"Web Development\", \"Web Development\", \"Web Development\", \"Web Development\", \"Web Development\", \"Web Development\", \"Web Development\", \"Web Development\", \"Web Development\", \"Web Development\", \"Web Development\", \"Web Development\", \"Web Development\", \"Web Development\", \"Web Development\", \"Web Development\", \"Web Development\", \"Web Development\", \"Web Development\", \"Web Development\", \"Web Development\", \"Web Development\", \"Web Development\", \"Web Development\", \"Web Development\", \"Web Development\", \"Web Development\", \"Web Development\", \"Web Development\", \"Web Development\", \"Web Development\", \"Web Development\", \"Web Development\", \"Web Development\", \"Web Development\", \"Web Development\", \"Web Development\", \"Web Development\", \"Web Development\", \"Web Development\", \"Web Development\", \"Web Development\", \"Web Development\", \"Web Development\", \"Web Development\", \"Web Development\", \"Web Development\", \"Web Development\", \"Web Development\", \"Web Development\", \"Web Development\", \"Web Development\", \"Web Development\", \"Web Development\", \"Web Development\", \"Web Development\", \"Web Development\", \"Web Development\", \"Web Development\", \"Web Development\", \"Web Development\", \"Web Development\", \"Web Development\", \"Web Development\", \"Web Development\", \"Web Development\", \"Web Development\", \"Web Development\", \"Web Development\", \"Web Development\", \"Web Development\", \"Web Development\", \"Web Development\", \"Web Development\", \"Web Development\", \"Web Development\", \"Web Development\", \"Web Development\", \"Web Development\", \"Web Development\", \"Web Development\", \"Web Development\", \"Web Development\", \"Web Development\", \"Web Development\", \"Web Development\", \"Web Development\", \"Web Development\", \"Web Development\", \"Web Development\", \"Web Development\", \"Web Development\", \"Web Development\", \"Web Development\", \"Web Development\", \"Web Development\", \"Web Development\", \"Web Development\", \"Web Development\", \"Web Development\", \"Web Development\", \"Web Development\", \"Web Development\", \"Web Development\", \"Web Development\", \"Web Development\", \"Web Development\", \"Web Development\", \"Web Development\", \"Web Development\", \"Web Development\", \"Web Development\", \"Web Development\", \"Web Development\", \"Web Development\", \"Web Development\", \"Web Development\", \"Web Development\", \"Web Development\", \"Web Development\", \"Web Development\", \"Web Development\", \"Web Development\", \"Web Development\", \"Web Development\", \"Web Development\", \"Web Development\", \"Web Development\", \"Web Development\", \"Web Development\", \"Web Development\", \"Web Development\", \"Web Development\", \"Web Development\", \"Web Development\", \"Web Development\", \"Web Development\", \"Web Development\", \"Web Development\", \"Web Development\", \"Web Development\", \"Web Development\", \"Web Development\", \"Web Development\", \"Web Development\", \"Web Development\", \"Web Development\", \"Web Development\", \"Web Development\", \"Web Development\", \"Web Development\", \"Web Development\", \"Web Development\", \"Web Development\", \"Web Development\", \"Web Development\", \"Web Development\", \"Web Development\", \"Web Development\", \"Web Development\", \"Web Development\", \"Web Development\", \"Web Development\", \"Web Development\", \"Web Development\", \"Web Development\", \"Web Development\", \"Web Development\", \"Web Development\", \"Web Development\", \"Web Development\", \"Web Development\", \"Web Development\", \"Web Development\", \"Web Development\", \"Web Development\", \"Web Development\", \"Web Development\", \"Web Development\", \"Web Development\", \"Web Development\", \"Web Development\", \"Web Development\", \"Web Development\", \"Web Development\", \"Web Development\", \"Web Development\", \"Web Development\", \"Web Development\", \"Web Development\", \"Web Development\", \"Web Development\", \"Web Development\", \"Web Development\", \"Web Development\", \"Web Development\", \"Web Development\", \"Web Development\", \"Web Development\", \"Web Development\", \"Web Development\", \"Web Development\", \"Web Development\", \"Web Development\", \"Web Development\", \"Web Development\", \"Web Development\", \"Web Development\", \"Web Development\", \"Web Development\", \"Web Development\", \"Web Development\", \"Web Development\", \"Web Development\", \"Web Development\", \"Web Development\", \"Web Development\", \"Web Development\", \"Web Development\", \"Web Development\", \"Web Development\", \"Web Development\", \"Web Development\", \"Web Development\", \"Web Development\", \"Web Development\", \"Web Development\", \"Web Development\", \"Web Development\", \"Web Development\", \"Web Development\", \"Web Development\", \"Web Development\", \"Web Development\", \"Web Development\", \"Web Development\", \"Web Development\", \"Web Development\", \"Web Development\", \"Web Development\", \"Web Development\", \"Web Development\", \"Web Development\", \"Web Development\", \"Web Development\", \"Web Development\", \"Web Development\", \"Web Development\", \"Web Development\", \"Web Development\", \"Web Development\", \"Web Development\", \"Web Development\", \"Web Development\", \"Web Development\", \"Web Development\", \"Web Development\", \"Web Development\", \"Web Development\", \"Web Development\", \"Web Development\", \"Web Development\", \"Web Development\", \"Web Development\", \"Web Development\", \"Web Development\", \"Web Development\", \"Web Development\", \"Web Development\", \"Web Development\", \"Web Development\", \"Web Development\", \"Web Development\", \"Web Development\", \"Web Development\", \"Web Development\", \"Web Development\", \"Web Development\", \"Web Development\", \"Web Development\", \"Web Development\", \"Web Development\", \"Web Development\", \"Web Development\", \"Web Development\", \"Web Development\", \"Web Development\", \"Web Development\", \"Web Development\", \"Web Development\", \"Web Development\", \"Web Development\", \"Web Development\", \"Web Development\", \"Web Development\", \"Web Development\", \"Web Development\", \"Web Development\", \"Web Development\", \"Web Development\", \"Web Development\", \"Web Development\", \"Web Development\", \"Web Development\", \"Web Development\", \"Web Development\", \"Web Development\", \"Web Development\", \"Web Development\", \"Web Development\", \"Web Development\", \"Web Development\", \"Web Development\", \"Web Development\", \"Web Development\", \"Web Development\", \"Web Development\", \"Web Development\", \"Web Development\", \"Web Development\", \"Web Development\", \"Web Development\", \"Web Development\", \"Web Development\", \"Web Development\", \"Web Development\", \"Web Development\", \"Web Development\", \"Web Development\", \"Web Development\", \"Web Development\", \"Web Development\", \"Web Development\", \"Web Development\", \"Web Development\", \"Web Development\", \"Web Development\", \"Web Development\", \"Web Development\", \"Web Development\", \"Web Development\", \"Web Development\", \"Web Development\", \"Web Development\", \"Web Development\", \"Web Development\", \"Web Development\", \"Web Development\", \"Web Development\", \"Web Development\", \"Web Development\", \"Web Development\", \"Web Development\", \"Web Development\", \"Web Development\", \"Web Development\", \"Web Development\", \"Web Development\", \"Web Development\", \"Web Development\", \"Web Development\", \"Web Development\", \"Web Development\", \"Web Development\", \"Web Development\", \"Web Development\", \"Web Development\", \"Web Development\", \"Web Development\", \"Web Development\", \"Web Development\", \"Web Development\", \"Web Development\", \"Web Development\", \"Web Development\", \"Web Development\", \"Web Development\", \"Web Development\", \"Web Development\", \"Web Development\", \"Web Development\", \"Web Development\", \"Web Development\", \"Web Development\", \"Web Development\", \"Web Development\", \"Web Development\", \"Web Development\", \"Web Development\", \"Web Development\", \"Web Development\", \"Web Development\", \"Web Development\", \"Web Development\", \"Web Development\", \"Web Development\", \"Web Development\", \"Web Development\", \"Web Development\", \"Web Development\", \"Web Development\", \"Web Development\", \"Web Development\", \"Web Development\", \"Web Development\", \"Web Development\", \"Web Development\", \"Web Development\", \"Web Development\", \"Web Development\", \"Web Development\", \"Web Development\", \"Web Development\", \"Web Development\", \"Web Development\", \"Web Development\", \"Web Development\", \"Web Development\", \"Web Development\", \"Web Development\", \"Web Development\", \"Web Development\", \"Web Development\", \"Web Development\", \"Web Development\", \"Web Development\", \"Web Development\", \"Web Development\", \"Web Development\", \"Web Development\", \"Web Development\", \"Web Development\", \"Web Development\", \"Web Development\", \"Web Development\", \"Web Development\", \"Web Development\", \"Web Development\", \"Web Development\", \"Web Development\", \"Web Development\", \"Web Development\", \"Web Development\", \"Web Development\", \"Web Development\", \"Web Development\", \"Web Development\", \"Web Development\", \"Web Development\", \"Web Development\", \"Web Development\", \"Web Development\", \"Web Development\", \"Web Development\", \"Web Development\", \"Web Development\", \"Web Development\", \"Web Development\", \"Web Development\", \"Web Development\", \"Web Development\", \"Web Development\", \"Web Development\", \"Web Development\", \"Web Development\", \"Web Development\", \"Web Development\", \"Web Development\", \"Web Development\", \"Web Development\", \"Web Development\", \"Web Development\", \"Web Development\", \"Web Development\", \"Web Development\"], \"y0\": \" \", \"yaxis\": \"y\"}, {\"alignmentgroup\": \"True\", \"hoverlabel\": {\"namelength\": 0}, \"hovertemplate\": \"level=Intermediate Level<br>content_duration=%{x}<br>subject=%{y}\", \"legendgroup\": \"level=Intermediate Level\", \"marker\": {\"color\": \"#EF553B\"}, \"name\": \"level=Intermediate Level\", \"notched\": false, \"offsetgroup\": \"level=Intermediate Level\", \"orientation\": \"h\", \"showlegend\": true, \"type\": \"box\", \"x\": [2.5, 2.0, 1.5, 2.0, 10.0, 1.0, 2.0, 1.0, 1.5, 2.5, 3.0, 1.5, 3.0, 0.55, 2.0, 2.5, 3.0, 1.0, 1.0, 1.0, 1.0, 1.5, 6.0, 2.0, 1.5, 1.0, 2.0, 2.5, 4.0, 4.0, 2.5, 4.0, 3.0, 3.0, 0.5, 6.5, 2.0, 3.5, 2.0, 1.5, 2.0, 0.716666666666667, 0.566666666666667, 2.0, 12.5, 1.0, 8.0, 1.0, 2.0, 2.0, 2.0, 1.0, 1.0, 6.5, 1.0, 1.5, 3.0, 1.0, 3.5, 1.5, 5.0, 2.5, 2.5, 1.5, 1.5, 1.5, 1.0, 0.55, 1.0, 0.666666666666667, 6.5, 1.5, 7.0, 4.0, 0.533333333333333, 4.5, 1.5, 2.0, 2.0, 2.0, 2.5, 4.5, 1.0, 1.0, 1.0, 1.0, 2.5, 2.5, 1.0, 0.633333333333333, 0.533333333333333, 3.0, 1.5, 2.5, 2.0, 2.5, 31.5, 1.5, 2.5, 1.5, 2.5, 1.5, 1.0, 1.0, 2.0, 2.5, 31.5, 1.0, 5.5, 1.5, 2.0, 4.5, 1.0, 2.0, 1.5, 1.0, 1.0, 1.5, 1.5, 3.5, 5.5, 8.5, 6.5, 1.5, 0.716666666666667, 0.633333333333333, 0.616666666666667, 2.0, 1.5, 0.5, 1.0, 2.0, 2.0, 1.5, 0.516666666666667, 12.0, 4.5, 9.5, 0.516666666666667, 1.5, 2.5, 12.5, 1.0, 1.0, 0.616666666666667, 1.5, 0.683333333333333, 2.0, 8.5, 1.0, 4.5, 1.0, 0.616666666666667, 1.0, 4.0, 0.583333333333333, 1.0, 0.55, 2.0, 0.616666666666667, 2.5, 20.0, 1.0, 1.0, 4.5, 2.0, 7.5, 0.633333333333333, 0.716666666666667, 1.0, 3.0, 5.0, 4.5, 2.0, 5.0, 0.5, 4.5, 2.0, 1.0, 1.5, 2.0, 1.5, 2.0, 1.5, 1.0, 1.5, 2.5, 1.5, 0.5, 2.5, 5.5, 2.5, 2.0, 2.0, 2.5, 11.5, 1.5, 4.5, 2.5, 2.0, 11.5, 1.5, 6.5, 3.0, 5.0, 1.5, 1.5, 2.5, 1.0, 1.0, 28.5, 0.616666666666667, 2.5, 1.0, 1.5, 1.5, 0.733333333333333, 1.0, 2.0, 1.0, 5.0, 2.5, 1.5, 2.0, 3.0, 2.0, 2.0, 5.5, 2.0, 1.0, 2.0, 1.5, 1.0, 1.5, 2.0, 4.5, 4.0, 6.0, 3.0, 8.5, 8.0, 4.0, 2.0, 2.0, 2.0, 2.5, 1.0, 2.0, 5.5, 1.5, 2.5, 1.5, 4.0, 5.5, 0.666666666666667, 2.5, 7.0, 7.5, 1.0, 1.5, 7.5, 5.5, 1.5, 4.0, 2.0, 1.0, 4.0, 2.0, 1.5, 1.0, 2.0, 1.5, 3.5, 0.65, 1.5, 0.733333333333333, 1.5, 1.0, 4.5, 1.5, 3.0, 2.5, 0.566666666666667, 15.5, 5.5, 3.5, 9.5, 19.0, 3.5, 2.0, 1.5, 1.0, 7.0, 5.5, 10.0, 1.0, 8.5, 10.5, 4.5, 8.5, 12.0, 4.0, 2.0, 2.0, 1.0, 1.0, 18.5, 4.5, 0.55, 6.0, 14.0, 16.5, 15.5, 2.0, 1.0, 19.0, 3.5, 7.0, 2.5, 2.5, 8.5, 5.5, 10.5, 1.5, 11.0, 8.0, 6.5, 7.5, 4.0, 3.5, 2.5, 3.0, 0.533333333333333, 10.5, 1.0, 3.0, 7.5, 0.616666666666667, 3.0, 3.0, 4.0, 6.0, 5.0, 1.0, 1.5, 1.0, 1.0, 1.0, 5.5, 9.0, 1.5, 5.0, 5.0, 3.0, 4.5, 4.5, 6.0, 10.5, 12.5, 4.5, 6.5, 2.0, 3.5, 12.0, 6.0, 13.0, 3.0, 14.0, 1.5, 1.0, 2.0, 1.5, 1.0, 2.0, 3.0, 5.5, 2.0, 7.0, 2.5, 4.5, 3.5, 13.5, 2.0, 3.0, 1.0, 2.0, 6.0, 6.0, 1.0, 1.0, 4.0, 0.716666666666667, 1.0, 3.5, 5.5, 3.5, 25.5, 2.0, 0.583333333333333, 3.0, 3.5, 12.5, 6.5, 23.5, 1.5, 2.0, 2.0, 2.5, 2.0, 2.5, 3.5, 1.0, 11.5, 2.0, 19.5, 1.5, 3.0, 1.5], \"x0\": \" \", \"xaxis\": \"x\", \"y\": [\"Business Finance\", \"Business Finance\", \"Business Finance\", \"Business Finance\", \"Business Finance\", \"Business Finance\", \"Business Finance\", \"Business Finance\", \"Business Finance\", \"Business Finance\", \"Business Finance\", \"Business Finance\", \"Business Finance\", \"Business Finance\", \"Business Finance\", \"Business Finance\", \"Business Finance\", \"Business Finance\", \"Business Finance\", \"Business Finance\", \"Business Finance\", \"Business Finance\", \"Business Finance\", \"Business Finance\", \"Business Finance\", \"Business Finance\", \"Business Finance\", \"Business Finance\", \"Business Finance\", \"Business Finance\", \"Business Finance\", \"Business Finance\", \"Business Finance\", \"Business Finance\", \"Business Finance\", \"Business Finance\", \"Business Finance\", \"Business Finance\", \"Business Finance\", \"Business Finance\", \"Business Finance\", \"Business Finance\", \"Business Finance\", \"Business Finance\", \"Business Finance\", \"Business Finance\", \"Business Finance\", \"Business Finance\", \"Business Finance\", \"Business Finance\", \"Business Finance\", \"Business Finance\", \"Business Finance\", \"Business Finance\", \"Business Finance\", \"Business Finance\", \"Business Finance\", \"Business Finance\", \"Business Finance\", \"Business Finance\", \"Business Finance\", \"Business Finance\", \"Business Finance\", \"Business Finance\", \"Business Finance\", \"Business Finance\", \"Business Finance\", \"Business Finance\", \"Business Finance\", \"Business Finance\", \"Business Finance\", \"Business Finance\", \"Business Finance\", \"Business Finance\", \"Business Finance\", \"Business Finance\", \"Business Finance\", \"Business Finance\", \"Business Finance\", \"Business Finance\", \"Business Finance\", \"Business Finance\", \"Business Finance\", \"Business Finance\", \"Business Finance\", \"Business Finance\", \"Business Finance\", \"Business Finance\", \"Business Finance\", \"Business Finance\", \"Business Finance\", \"Business Finance\", \"Business Finance\", \"Business Finance\", \"Business Finance\", \"Business Finance\", \"Business Finance\", \"Business Finance\", \"Business Finance\", \"Business Finance\", \"Business Finance\", \"Business Finance\", \"Business Finance\", \"Business Finance\", \"Business Finance\", \"Business Finance\", \"Business Finance\", \"Business Finance\", \"Business Finance\", \"Business Finance\", \"Business Finance\", \"Business Finance\", \"Business Finance\", \"Business Finance\", \"Business Finance\", \"Business Finance\", \"Business Finance\", \"Business Finance\", \"Business Finance\", \"Business Finance\", \"Business Finance\", \"Business Finance\", \"Business Finance\", \"Business Finance\", \"Business Finance\", \"Business Finance\", \"Business Finance\", \"Business Finance\", \"Graphic Design\", \"Graphic Design\", \"Graphic Design\", \"Graphic Design\", \"Graphic Design\", \"Graphic Design\", \"Graphic Design\", \"Graphic Design\", \"Graphic Design\", \"Graphic Design\", \"Graphic Design\", \"Graphic Design\", \"Graphic Design\", \"Graphic Design\", \"Graphic Design\", \"Graphic Design\", \"Graphic Design\", \"Graphic Design\", \"Graphic Design\", \"Graphic Design\", \"Graphic Design\", \"Graphic Design\", \"Graphic Design\", \"Graphic Design\", \"Graphic Design\", \"Graphic Design\", \"Graphic Design\", \"Graphic Design\", \"Graphic Design\", \"Graphic Design\", \"Graphic Design\", \"Graphic Design\", \"Graphic Design\", \"Graphic Design\", \"Graphic Design\", \"Graphic Design\", \"Graphic Design\", \"Graphic Design\", \"Graphic Design\", \"Graphic Design\", \"Graphic Design\", \"Graphic Design\", \"Graphic Design\", \"Graphic Design\", \"Graphic Design\", \"Graphic Design\", \"Graphic Design\", \"Graphic Design\", \"Graphic Design\", \"Graphic Design\", \"Graphic Design\", \"Graphic Design\", \"Graphic Design\", \"Graphic Design\", \"Graphic Design\", \"Graphic Design\", \"Musical Instruments\", \"Musical Instruments\", \"Musical Instruments\", \"Musical Instruments\", \"Musical Instruments\", \"Musical Instruments\", \"Musical Instruments\", \"Musical Instruments\", \"Musical Instruments\", \"Musical Instruments\", \"Musical Instruments\", \"Musical Instruments\", \"Musical Instruments\", \"Musical Instruments\", \"Musical Instruments\", \"Musical Instruments\", \"Musical Instruments\", \"Musical Instruments\", \"Musical Instruments\", \"Musical Instruments\", \"Musical Instruments\", \"Musical Instruments\", \"Musical Instruments\", \"Musical Instruments\", \"Musical Instruments\", \"Musical Instruments\", \"Musical Instruments\", \"Musical Instruments\", \"Musical Instruments\", \"Musical Instruments\", \"Musical Instruments\", \"Musical Instruments\", \"Musical Instruments\", \"Musical Instruments\", \"Musical Instruments\", \"Musical Instruments\", \"Musical Instruments\", \"Musical Instruments\", \"Musical Instruments\", \"Musical Instruments\", \"Musical Instruments\", \"Musical Instruments\", \"Musical Instruments\", \"Musical Instruments\", \"Musical Instruments\", \"Musical Instruments\", \"Musical Instruments\", \"Musical Instruments\", \"Musical Instruments\", \"Musical Instruments\", \"Musical Instruments\", \"Musical Instruments\", \"Musical Instruments\", \"Musical Instruments\", \"Musical Instruments\", \"Musical Instruments\", \"Musical Instruments\", \"Musical Instruments\", \"Musical Instruments\", \"Musical Instruments\", \"Musical Instruments\", \"Musical Instruments\", \"Musical Instruments\", \"Musical Instruments\", \"Musical Instruments\", \"Musical Instruments\", \"Musical Instruments\", \"Musical Instruments\", \"Musical Instruments\", \"Musical Instruments\", \"Musical Instruments\", \"Musical Instruments\", \"Musical Instruments\", \"Musical Instruments\", \"Musical Instruments\", \"Musical Instruments\", \"Musical Instruments\", \"Musical Instruments\", \"Musical Instruments\", \"Musical Instruments\", \"Musical Instruments\", \"Musical Instruments\", \"Musical Instruments\", \"Musical Instruments\", \"Musical Instruments\", \"Musical Instruments\", \"Musical Instruments\", \"Musical Instruments\", \"Musical Instruments\", \"Musical Instruments\", \"Musical Instruments\", \"Musical Instruments\", \"Musical Instruments\", \"Musical Instruments\", \"Musical Instruments\", \"Musical Instruments\", \"Musical Instruments\", \"Musical Instruments\", \"Musical Instruments\", \"Web Development\", \"Web Development\", \"Web Development\", \"Web Development\", \"Web Development\", \"Web Development\", \"Web Development\", \"Web Development\", \"Web Development\", \"Web Development\", \"Web Development\", \"Web Development\", \"Web Development\", \"Web Development\", \"Web Development\", \"Web Development\", \"Web Development\", \"Web Development\", \"Web Development\", \"Web Development\", \"Web Development\", \"Web Development\", \"Web Development\", \"Web Development\", \"Web Development\", \"Web Development\", \"Web Development\", \"Web Development\", \"Web Development\", \"Web Development\", \"Web Development\", \"Web Development\", \"Web Development\", \"Web Development\", \"Web Development\", \"Web Development\", \"Web Development\", \"Web Development\", \"Web Development\", \"Web Development\", \"Web Development\", \"Web Development\", \"Web Development\", \"Web Development\", \"Web Development\", \"Web Development\", \"Web Development\", \"Web Development\", \"Web Development\", \"Web Development\", \"Web Development\", \"Web Development\", \"Web Development\", \"Web Development\", \"Web Development\", \"Web Development\", \"Web Development\", \"Web Development\", \"Web Development\", \"Web Development\", \"Web Development\", \"Web Development\", \"Web Development\", \"Web Development\", \"Web Development\", \"Web Development\", \"Web Development\", \"Web Development\", \"Web Development\", \"Web Development\", \"Web Development\", \"Web Development\", \"Web Development\", \"Web Development\", \"Web Development\", \"Web Development\", \"Web Development\", \"Web Development\", \"Web Development\", \"Web Development\", \"Web Development\", \"Web Development\", \"Web Development\", \"Web Development\", \"Web Development\", \"Web Development\", \"Web Development\", \"Web Development\", \"Web Development\", \"Web Development\", \"Web Development\", \"Web Development\", \"Web Development\", \"Web Development\", \"Web Development\", \"Web Development\", \"Web Development\", \"Web Development\", \"Web Development\", \"Web Development\", \"Web Development\", \"Web Development\", \"Web Development\", \"Web Development\", \"Web Development\", \"Web Development\", \"Web Development\", \"Web Development\", \"Web Development\", \"Web Development\", \"Web Development\", \"Web Development\", \"Web Development\", \"Web Development\", \"Web Development\", \"Web Development\", \"Web Development\", \"Web Development\", \"Web Development\", \"Web Development\", \"Web Development\", \"Web Development\", \"Web Development\", \"Web Development\", \"Web Development\", \"Web Development\", \"Web Development\", \"Web Development\", \"Web Development\", \"Web Development\", \"Web Development\", \"Web Development\", \"Web Development\", \"Web Development\", \"Web Development\"], \"y0\": \" \", \"yaxis\": \"y\"}, {\"alignmentgroup\": \"True\", \"hoverlabel\": {\"namelength\": 0}, \"hovertemplate\": \"level=Beginner Level<br>content_duration=%{x}<br>subject=%{y}\", \"legendgroup\": \"level=Beginner Level\", \"marker\": {\"color\": \"#00cc96\"}, \"name\": \"level=Beginner Level\", \"notched\": false, \"offsetgroup\": \"level=Beginner Level\", \"orientation\": \"h\", \"showlegend\": true, \"type\": \"box\", \"x\": [1.0, 1.5, 0.583333333333333, 1.0, 3.0, 2.5, 5.5, 11.5, 9.0, 11.0, 2.5, 3.0, 5.0, 11.5, 1.5, 1.0, 0.7, 5.0, 0.55, 1.5, 2.0, 1.5, 1.5, 1.5, 1.0, 1.5, 2.0, 2.5, 1.5, 1.0, 1.0, 6.0, 1.5, 2.5, 1.0, 1.5, 3.0, 2.0, 1.0, 4.0, 3.0, 2.0, 6.0, 5.0, 4.5, 1.5, 2.0, 2.0, 1.5, 12.0, 1.5, 2.0, 1.0, 0.533333333333333, 2.5, 2.0, 3.0, 1.5, 3.0, 1.0, 4.0, 3.0, 0.716666666666667, 1.5, 5.5, 1.5, 1.5, 1.5, 4.0, 3.0, 2.0, 0.5, 2.5, 4.0, 3.0, 1.5, 3.0, 3.5, 0.533333333333333, 3.0, 2.5, 0.716666666666667, 1.0, 1.0, 1.5, 5.0, 0.583333333333333, 1.0, 1.0, 0.733333333333333, 2.5, 1.5, 0.6, 1.5, 1.5, 1.5, 1.0, 2.0, 3.0, 1.0, 6.5, 5.5, 1.5, 3.5, 2.0, 1.5, 4.5, 2.0, 1.5, 3.5, 19.5, 1.0, 1.5, 6.5, 2.5, 1.0, 1.0, 7.5, 1.0, 0.533333333333333, 1.0, 2.0, 1.5, 6.5, 1.0, 3.0, 3.5, 0.616666666666667, 2.5, 3.0, 0.516666666666667, 1.5, 1.5, 3.5, 1.5, 1.5, 0.616666666666667, 1.0, 3.5, 0.566666666666667, 2.5, 1.0, 14.5, 1.5, 1.5, 2.0, 2.5, 1.0, 7.0, 10.0, 1.5, 1.5, 2.0, 1.5, 2.0, 5.0, 4.0, 5.0, 1.5, 2.0, 0.633333333333333, 4.5, 4.0, 1.5, 5.0, 1.0, 14.5, 1.0, 2.5, 1.0, 1.0, 0.733333333333333, 1.0, 1.5, 1.5, 2.5, 3.5, 3.5, 1.0, 0.733333333333333, 2.5, 1.0, 2.0, 2.5, 1.0, 1.5, 1.5, 3.0, 1.0, 0.533333333333333, 1.5, 4.0, 0.616666666666667, 3.5, 1.0, 6.0, 2.0, 2.5, 1.0, 7.5, 1.0, 5.0, 3.0, 2.5, 5.5, 1.0, 12.0, 1.0, 0.533333333333333, 1.0, 1.5, 4.5, 1.0, 0.616666666666667, 1.0, 1.5, 3.0, 3.5, 4.5, 1.0, 6.0, 2.0, 2.0, 3.0, 7.5, 3.0, 1.0, 1.0, 2.0, 1.5, 1.0, 0.633333333333333, 1.0, 2.0, 1.0, 2.0, 1.0, 3.0, 6.0, 1.5, 3.0, 4.0, 1.0, 2.5, 0.683333333333333, 0.45, 4.5, 1.5, 6.5, 5.5, 0.566666666666667, 3.0, 4.0, 2.5, 7.0, 5.5, 0.533333333333333, 2.0, 2.5, 2.0, 1.0, 1.0, 1.0, 2.0, 2.5, 1.5, 6.0, 2.0, 3.5, 2.0, 0.616666666666667, 5.5, 1.5, 3.0, 1.5, 1.0, 5.0, 2.0, 7.5, 11.0, 1.0, 3.5, 4.5, 0.666666666666667, 1.0, 1.5, 8.5, 2.0, 4.5, 5.0, 3.5, 2.5, 3.0, 1.0, 3.5, 2.0, 1.5, 1.5, 4.5, 5.0, 17.5, 8.5, 4.0, 2.0, 3.0, 0.566666666666667, 3.0, 1.0, 2.5, 2.5, 1.0, 5.5, 2.5, 0.65, 3.0, 1.5, 1.5, 13.0, 6.0, 0.566666666666667, 21.0, 2.0, 1.0, 8.0, 11.0, 11.5, 9.0, 3.5, 1.0, 1.0, 1.5, 3.5, 5.0, 1.0, 0.616666666666667, 1.0, 6.0, 2.0, 1.0, 1.0, 0.566666666666667, 1.0, 3.0, 1.0, 5.0, 2.5, 2.0, 1.0, 1.5, 1.0, 2.5, 1.0, 11.0, 7.5, 3.0, 3.5, 12.5, 2.5, 1.5, 2.5, 1.5, 1.0, 0.55, 2.0, 1.5, 5.0, 0.7, 1.0, 1.0, 1.0, 1.5, 2.0, 0.633333333333333, 0.683333333333333, 0.666666666666667, 4.5, 0.666666666666667, 0.683333333333333, 5.5, 1.0, 2.5, 1.5, 1.5, 1.5, 1.5, 14.0, 3.5, 2.5, 2.0, 1.5, 2.0, 3.0, 1.0, 2.5, 6.5, 2.5, 3.0, 3.0, 0.7, 0.5, 1.5, 1.0, 3.0, 2.5, 3.5, 7.5, 5.5, 2.0, 1.0, 0.583333333333333, 3.0, 3.5, 4.5, 1.5, 1.0, 1.0, 1.5, 1.0, 3.5, 0.566666666666667, 2.5, 2.0, 8.0, 0.666666666666667, 1.0, 2.0, 8.0, 1.5, 10.5, 5.5, 2.5, 0.633333333333333, 1.0, 1.5, 1.5, 1.0, 1.0, 3.5, 3.5, 0.566666666666667, 1.0, 2.5, 1.0, 2.5, 9.5, 0.616666666666667, 5.5, 2.0, 7.0, 4.0, 4.5, 6.5, 1.0, 0.633333333333333, 2.0, 1.0, 1.5, 7.5, 1.0, 0.616666666666667, 1.5, 2.0, 6.5, 5.0, 1.5, 3.0, 0.533333333333333, 4.0, 0.6, 1.0, 1.0, 0.733333333333333, 5.5, 1.5, 1.5, 1.5, 3.5, 1.5, 4.0, 1.5, 2.5, 1.0, 1.0, 4.5, 0.633333333333333, 1.0, 3.5, 2.5, 2.0, 7.0, 0.6, 0.683333333333333, 2.5, 1.0, 0.65, 5.0, 2.0, 3.0, 5.0, 3.0, 5.5, 0.583333333333333, 3.5, 0.666666666666667, 2.5, 15.0, 0.5, 1.5, 1.0, 4.5, 6.5, 2.0, 78.5, 1.0, 1.0, 3.5, 6.0, 3.0, 4.5, 1.0, 1.0, 1.0, 2.5, 2.0, 1.0, 4.5, 1.0, 1.5, 1.0, 0.616666666666667, 3.0, 2.0, 3.0, 11.0, 1.5, 1.0, 1.5, 4.0, 5.0, 1.0, 4.0, 8.5, 0.516666666666667, 1.0, 6.0, 1.0, 1.0, 6.0, 6.0, 2.5, 1.0, 2.0, 2.5, 1.0, 1.5, 0.65, 1.0, 3.0, 1.5, 7.5, 0.7, 0.6, 1.5, 1.5, 1.0, 0.633333333333333, 1.5, 2.0, 1.0, 3.0, 0.516666666666667, 3.0, 2.5, 2.0, 1.0, 7.0, 3.5, 1.5, 0.633333333333333, 0.7, 4.0, 7.0, 2.0, 7.5, 6.0, 10.5, 0.516666666666667, 2.0, 3.5, 5.0, 2.0, 3.0, 2.0, 2.5, 1.0, 0.683333333333333, 2.0, 1.0, 8.0, 3.0, 2.5, 0.733333333333333, 1.0, 1.0, 4.5, 3.5, 1.5, 1.0, 4.5, 2.0, 1.0, 4.0, 2.0, 1.0, 3.0, 5.0, 4.0, 1.5, 0.5, 1.0, 0.666666666666667, 0.666666666666667, 1.5, 6.0, 1.5, 2.0, 1.5, 1.0, 1.5, 1.0, 2.0, 3.5, 1.5, 10.0, 1.0, 1.0, 18.5, 1.5, 5.0, 1.5, 1.0, 0.616666666666667, 2.0, 4.0, 1.0, 1.0, 3.0, 1.0, 11.5, 9.0, 1.0, 1.0, 6.0, 1.0, 2.0, 4.0, 1.5, 5.0, 1.5, 1.0, 2.5, 2.0, 1.0, 1.0, 14.0, 1.5, 1.5, 2.5, 3.0, 1.5, 3.0, 1.5, 2.5, 1.0, 1.0, 1.0, 4.5, 0.666666666666667, 5.0, 3.0, 3.0, 3.0, 1.0, 1.0, 4.0, 3.0, 0.5, 1.0, 0.583333333333333, 1.0, 1.5, 3.0, 1.5, 1.0, 3.0, 4.0, 3.0, 1.0, 4.0, 0.733333333333333, 1.0, 3.5, 1.5, 1.5, 3.0, 2.5, 1.5, 1.5, 2.0, 1.0, 1.5, 2.0, 1.0, 5.0, 0.533333333333333, 1.0, 3.0, 1.5, 2.0, 1.0, 1.5, 0.616666666666667, 2.0, 1.0, 2.0, 6.0, 0.55, 1.5, 7.0, 10.5, 1.5, 3.5, 1.5, 4.0, 1.5, 2.5, 3.0, 6.0, 7.0, 3.0, 0.616666666666667, 1.0, 1.0, 1.5, 1.0, 1.0, 2.0, 1.5, 0.666666666666667, 4.5, 1.5, 3.0, 1.0, 1.0, 3.0, 3.5, 1.5, 2.5, 4.5, 1.0, 2.0, 1.0, 1.5, 3.0, 1.5, 4.0, 5.0, 1.0, 3.5, 4.5, 5.5, 4.0, 3.0, 5.5, 1.0, 1.5, 2.0, 1.5, 3.5, 3.0, 1.5, 4.0, 1.0, 1.5, 2.0, 0.583333333333333, 3.5, 1.5, 1.0, 1.0, 1.0, 3.5, 2.5, 3.0, 2.5, 1.0, 1.0, 0.633333333333333, 2.0, 1.0, 1.0, 1.5, 2.5, 0.533333333333333, 2.5, 1.0, 1.5, 1.0, 0.533333333333333, 2.5, 3.0, 1.0, 0.6, 3.0, 1.0, 5.5, 1.5, 2.5, 1.0, 2.0, 2.5, 0.516666666666667, 0.516666666666667, 10.5, 1.0, 1.0, 4.0, 4.5, 0.616666666666667, 1.0, 1.5, 1.5, 2.0, 4.0, 0.65, 2.5, 1.5, 4.0, 0.533333333333333, 3.0, 0.7, 2.0, 1.0, 1.5, 4.5, 1.0, 1.0, 2.0, 1.0, 4.5, 6.0, 3.0, 0.7, 1.0, 1.0, 5.5, 4.0, 5.5, 1.5, 3.0, 1.5, 3.0, 32.5, 1.0, 9.0, 18.5, 15.0, 1.0, 14.5, 3.0, 1.0, 4.0, 1.5, 1.0, 1.0, 1.5, 2.0, 12.0, 9.0, 19.5, 25.5, 20.5, 11.0, 33.0, 2.0, 1.5, 3.0, 2.5, 3.5, 11.5, 1.5, 2.0, 4.0, 2.5, 4.5, 4.5, 1.5, 7.0, 2.0, 6.5, 5.0, 1.5, 1.5, 2.0, 1.5, 1.0, 2.0, 1.5, 6.5, 4.5, 2.5, 1.5, 3.0, 5.0, 1.0, 1.0, 2.0, 1.0, 9.0, 44.5, 5.5, 2.5, 4.5, 4.0, 0.6, 1.0, 1.0, 6.0, 1.0, 18.0, 4.0, 1.5, 2.5, 2.0, 1.0, 5.0, 4.5, 2.5, 5.0, 5.0, 0.666666666666667, 4.0, 2.5, 4.0, 4.0, 1.5, 1.0, 3.0, 1.5, 4.0, 4.5, 11.0, 9.0, 3.5, 1.5, 3.0, 1.0, 1.5, 2.0, 9.5, 4.5, 2.5, 1.0, 1.5, 3.5, 4.5, 3.0, 2.0, 3.0, 1.5, 1.5, 1.0, 1.0, 3.5, 13.5, 4.0, 2.0, 1.0, 1.5, 2.0, 1.0, 1.5, 2.0, 4.0, 6.0, 0.533333333333333, 2.0, 1.5, 1.0, 2.0, 2.0, 1.0, 1.0, 3.5, 2.5, 6.0, 3.5, 4.0, 1.0, 6.0, 2.0, 4.0, 0.566666666666667, 19.0, 2.0, 3.0, 1.5, 1.5, 2.0, 1.5, 1.5, 0.533333333333333, 1.0, 5.5, 2.0, 0.7, 0.7, 1.0, 1.0, 1.5, 16.5, 0.733333333333333, 1.5, 2.0, 2.0, 1.5, 9.0, 7.5, 1.0, 1.5, 4.0, 3.0, 8.0, 1.5, 2.0, 2.0, 2.5, 1.0, 3.5, 4.5, 13.0, 3.5, 0.533333333333333, 4.5, 9.0, 11.0, 0.633333333333333, 2.0, 1.5, 1.5, 2.0, 3.0, 1.5, 2.5, 1.5, 5.0, 2.0, 0.65, 4.5, 2.0, 7.5, 0.666666666666667, 1.0, 1.5, 2.0, 0.666666666666667, 6.0, 1.0, 3.5, 1.5, 7.5, 11.5, 3.5, 1.0, 2.0, 2.0, 11.0, 1.5, 14.5, 2.5, 1.0, 1.0, 2.0, 0.616666666666667, 4.0, 8.5, 3.0, 10.0, 4.0, 2.0, 0.633333333333333, 8.0, 5.0, 2.5, 6.5, 1.0, 8.0, 8.0, 1.0, 3.5, 1.5, 1.0, 6.5, 1.0, 0.616666666666667, 3.5, 3.5, 1.0, 4.5, 5.5, 3.0, 2.0, 1.0, 2.0, 1.0, 2.5, 1.5, 16.0, 4.5, 3.5, 1.0, 1.5, 5.5, 0.7, 6.0, 1.0, 4.0, 3.5, 2.0, 2.5, 1.0, 6.0, 1.0, 2.0, 0.633333333333333, 1.5, 4.0, 22.0, 1.0, 2.0, 8.5, 1.0, 2.0, 1.5, 3.5, 1.0, 3.0, 7.5, 1.0, 1.5, 3.5, 3.0, 2.0, 3.5, 2.5, 0.616666666666667, 1.0, 1.0, 2.0, 2.0, 6.5, 3.0, 5.5, 3.0, 5.5, 1.0, 0.566666666666667, 1.5, 2.5, 1.0, 2.5, 1.5, 1.0, 0.5, 2.0, 1.5, 3.0, 2.0, 1.5, 2.0, 1.5, 1.0, 1.5, 5.0, 2.5, 1.0, 5.0, 0.516666666666667, 7.0, 1.0, 5.0, 20.5, 3.0, 2.5, 2.5, 0.616666666666667, 1.0, 7.0, 0.683333333333333, 1.5, 1.0, 2.5, 1.5, 2.0, 1.5, 2.5, 0.6, 1.5, 2.0, 1.5, 2.0, 3.0, 2.0, 1.0, 8.0, 1.0, 2.0, 1.5, 7.5, 4.0, 2.5, 1.5, 2.0, 0.516666666666667, 5.0, 3.0, 8.5, 5.0, 10.0, 2.0, 6.5, 1.0, 1.0, 0.55, 5.0, 6.5, 9.5, 1.0, 1.5, 3.5, 0.5, 0.583333333333333, 3.5, 2.0], \"x0\": \" \", \"xaxis\": \"x\", \"y\": [\"Business Finance\", \"Business Finance\", \"Business Finance\", \"Business Finance\", \"Business Finance\", \"Business Finance\", \"Business Finance\", \"Business Finance\", \"Business Finance\", \"Business Finance\", \"Business Finance\", \"Business Finance\", \"Business Finance\", \"Business Finance\", \"Business Finance\", \"Business Finance\", \"Business Finance\", \"Business Finance\", \"Business Finance\", \"Business Finance\", \"Business Finance\", \"Business Finance\", \"Business Finance\", \"Business Finance\", \"Business Finance\", \"Business Finance\", \"Business Finance\", \"Business Finance\", \"Business Finance\", \"Business Finance\", \"Business Finance\", \"Business Finance\", \"Business Finance\", \"Business Finance\", \"Business Finance\", \"Business Finance\", \"Business Finance\", \"Business Finance\", \"Business Finance\", \"Business Finance\", \"Business Finance\", \"Business Finance\", \"Business Finance\", \"Business Finance\", \"Business Finance\", \"Business Finance\", \"Business Finance\", \"Business Finance\", \"Business Finance\", \"Business Finance\", \"Business Finance\", \"Business Finance\", \"Business Finance\", \"Business Finance\", \"Business Finance\", \"Business Finance\", \"Business Finance\", \"Business Finance\", \"Business Finance\", \"Business Finance\", \"Business Finance\", \"Business Finance\", \"Business Finance\", \"Business Finance\", \"Business Finance\", \"Business Finance\", \"Business Finance\", \"Business Finance\", \"Business Finance\", \"Business Finance\", \"Business Finance\", \"Business Finance\", \"Business Finance\", \"Business Finance\", \"Business Finance\", \"Business Finance\", \"Business Finance\", \"Business Finance\", \"Business Finance\", \"Business Finance\", \"Business Finance\", \"Business Finance\", \"Business Finance\", \"Business Finance\", \"Business Finance\", \"Business Finance\", \"Business Finance\", \"Business Finance\", \"Business Finance\", \"Business Finance\", \"Business Finance\", \"Business Finance\", \"Business Finance\", \"Business Finance\", \"Business Finance\", \"Business Finance\", \"Business Finance\", \"Business Finance\", \"Business Finance\", \"Business Finance\", \"Business Finance\", \"Business Finance\", \"Business Finance\", \"Business Finance\", \"Business Finance\", \"Business Finance\", \"Business Finance\", \"Business Finance\", \"Business Finance\", \"Business Finance\", \"Business Finance\", \"Business Finance\", \"Business Finance\", \"Business Finance\", \"Business Finance\", \"Business Finance\", \"Business Finance\", \"Business Finance\", \"Business Finance\", \"Business Finance\", \"Business Finance\", \"Business Finance\", \"Business Finance\", \"Business Finance\", \"Business Finance\", \"Business Finance\", \"Business Finance\", \"Business Finance\", \"Business Finance\", \"Business Finance\", \"Business Finance\", \"Business Finance\", \"Business Finance\", \"Business Finance\", \"Business Finance\", \"Business Finance\", \"Business Finance\", \"Business Finance\", \"Business Finance\", \"Business Finance\", \"Business Finance\", \"Business Finance\", \"Business Finance\", \"Business Finance\", \"Business Finance\", \"Business Finance\", \"Business Finance\", \"Business Finance\", \"Business Finance\", \"Business Finance\", \"Business Finance\", \"Business Finance\", \"Business Finance\", \"Business Finance\", \"Business Finance\", \"Business Finance\", \"Business Finance\", \"Business Finance\", \"Business Finance\", \"Business Finance\", \"Business Finance\", \"Business Finance\", \"Business Finance\", \"Business Finance\", \"Business Finance\", \"Business Finance\", \"Business Finance\", \"Business Finance\", \"Business Finance\", \"Business Finance\", \"Business Finance\", \"Business Finance\", \"Business Finance\", \"Business Finance\", \"Business Finance\", \"Business Finance\", \"Business Finance\", \"Business Finance\", \"Business Finance\", \"Business Finance\", \"Business Finance\", \"Business Finance\", \"Business Finance\", \"Business Finance\", \"Business Finance\", \"Business Finance\", \"Business Finance\", \"Business Finance\", \"Business Finance\", \"Business Finance\", \"Business Finance\", \"Business Finance\", \"Business Finance\", \"Business Finance\", \"Business Finance\", \"Business Finance\", \"Business Finance\", \"Business Finance\", \"Business Finance\", \"Business Finance\", \"Business Finance\", \"Business Finance\", \"Business Finance\", \"Business Finance\", \"Business Finance\", \"Business Finance\", \"Business Finance\", \"Business Finance\", \"Business Finance\", \"Business Finance\", \"Business Finance\", \"Business Finance\", \"Business Finance\", \"Business Finance\", \"Business Finance\", \"Business Finance\", \"Business Finance\", \"Business Finance\", \"Business Finance\", \"Business Finance\", \"Business Finance\", \"Business Finance\", \"Business Finance\", \"Business Finance\", \"Business Finance\", \"Business Finance\", \"Business Finance\", \"Business Finance\", \"Business Finance\", \"Business Finance\", \"Business Finance\", \"Business Finance\", \"Business Finance\", \"Business Finance\", \"Business Finance\", \"Business Finance\", \"Business Finance\", \"Business Finance\", \"Business Finance\", \"Business Finance\", \"Business Finance\", \"Business Finance\", \"Business Finance\", \"Business Finance\", \"Business Finance\", \"Business Finance\", \"Business Finance\", \"Business Finance\", \"Business Finance\", \"Business Finance\", \"Business Finance\", \"Business Finance\", \"Business Finance\", \"Business Finance\", \"Business Finance\", \"Business Finance\", \"Business Finance\", \"Business Finance\", \"Business Finance\", \"Business Finance\", \"Business Finance\", \"Business Finance\", \"Business Finance\", \"Business Finance\", \"Business Finance\", \"Business Finance\", \"Business Finance\", \"Business Finance\", \"Business Finance\", \"Business Finance\", \"Business Finance\", \"Business Finance\", \"Business Finance\", \"Business Finance\", \"Business Finance\", \"Business Finance\", \"Business Finance\", \"Business Finance\", \"Business Finance\", \"Business Finance\", \"Business Finance\", \"Business Finance\", \"Business Finance\", \"Business Finance\", \"Business Finance\", \"Business Finance\", \"Business Finance\", \"Business Finance\", \"Business Finance\", \"Business Finance\", \"Business Finance\", \"Business Finance\", \"Business Finance\", \"Business Finance\", \"Business Finance\", \"Business Finance\", \"Business Finance\", \"Business Finance\", \"Business Finance\", \"Business Finance\", \"Business Finance\", \"Business Finance\", \"Business Finance\", \"Business Finance\", \"Business Finance\", \"Business Finance\", \"Business Finance\", \"Business Finance\", \"Business Finance\", \"Business Finance\", \"Business Finance\", \"Business Finance\", \"Business Finance\", \"Business Finance\", \"Business Finance\", \"Business Finance\", \"Business Finance\", \"Business Finance\", \"Business Finance\", \"Business Finance\", \"Graphic Design\", \"Graphic Design\", \"Graphic Design\", \"Graphic Design\", \"Graphic Design\", \"Graphic Design\", \"Graphic Design\", \"Graphic Design\", \"Graphic Design\", \"Graphic Design\", \"Graphic Design\", \"Graphic Design\", \"Graphic Design\", \"Graphic Design\", \"Graphic Design\", \"Graphic Design\", \"Graphic Design\", \"Graphic Design\", \"Graphic Design\", \"Graphic Design\", \"Graphic Design\", \"Graphic Design\", \"Graphic Design\", \"Graphic Design\", \"Graphic Design\", \"Graphic Design\", \"Graphic Design\", \"Graphic Design\", \"Graphic Design\", \"Graphic Design\", \"Graphic Design\", \"Graphic Design\", \"Graphic Design\", \"Graphic Design\", \"Graphic Design\", \"Graphic Design\", \"Graphic Design\", \"Graphic Design\", \"Graphic Design\", \"Graphic Design\", \"Graphic Design\", \"Graphic Design\", \"Graphic Design\", \"Graphic Design\", \"Graphic Design\", \"Graphic Design\", \"Graphic Design\", \"Graphic Design\", \"Graphic Design\", \"Graphic Design\", \"Graphic Design\", \"Graphic Design\", \"Graphic Design\", \"Graphic Design\", \"Graphic Design\", \"Graphic Design\", \"Graphic Design\", \"Graphic Design\", \"Graphic Design\", \"Graphic Design\", \"Graphic Design\", \"Graphic Design\", \"Graphic Design\", \"Graphic Design\", \"Graphic Design\", \"Graphic Design\", \"Graphic Design\", \"Graphic Design\", \"Graphic Design\", \"Graphic Design\", \"Graphic Design\", \"Graphic Design\", \"Graphic Design\", \"Graphic Design\", \"Graphic Design\", \"Graphic Design\", \"Graphic Design\", \"Graphic Design\", \"Graphic Design\", \"Graphic Design\", \"Graphic Design\", \"Graphic Design\", \"Graphic Design\", \"Graphic Design\", \"Graphic Design\", \"Graphic Design\", \"Graphic Design\", \"Graphic Design\", \"Graphic Design\", \"Graphic Design\", \"Graphic Design\", \"Graphic Design\", \"Graphic Design\", \"Graphic Design\", \"Graphic Design\", \"Graphic Design\", \"Graphic Design\", \"Graphic Design\", \"Graphic Design\", \"Graphic Design\", \"Graphic Design\", \"Graphic Design\", \"Graphic Design\", \"Graphic Design\", \"Graphic Design\", \"Graphic Design\", \"Graphic Design\", \"Graphic Design\", \"Graphic Design\", \"Graphic Design\", \"Graphic Design\", \"Graphic Design\", \"Graphic Design\", \"Graphic Design\", \"Graphic Design\", \"Graphic Design\", \"Graphic Design\", \"Graphic Design\", \"Graphic Design\", \"Graphic Design\", \"Graphic Design\", \"Graphic Design\", \"Graphic Design\", \"Graphic Design\", \"Graphic Design\", \"Graphic Design\", \"Graphic Design\", \"Graphic Design\", \"Graphic Design\", \"Graphic Design\", \"Graphic Design\", \"Graphic Design\", \"Graphic Design\", \"Graphic Design\", \"Graphic Design\", \"Graphic Design\", \"Graphic Design\", \"Graphic Design\", \"Graphic Design\", \"Graphic Design\", \"Graphic Design\", \"Graphic Design\", \"Graphic Design\", \"Graphic Design\", \"Graphic Design\", \"Graphic Design\", \"Graphic Design\", \"Graphic Design\", \"Graphic Design\", \"Graphic Design\", \"Graphic Design\", \"Graphic Design\", \"Graphic Design\", \"Graphic Design\", \"Graphic Design\", \"Graphic Design\", \"Graphic Design\", \"Graphic Design\", \"Graphic Design\", \"Graphic Design\", \"Graphic Design\", \"Graphic Design\", \"Graphic Design\", \"Graphic Design\", \"Graphic Design\", \"Graphic Design\", \"Graphic Design\", \"Graphic Design\", \"Graphic Design\", \"Graphic Design\", \"Graphic Design\", \"Graphic Design\", \"Graphic Design\", \"Graphic Design\", \"Graphic Design\", \"Graphic Design\", \"Graphic Design\", \"Graphic Design\", \"Graphic Design\", \"Graphic Design\", \"Graphic Design\", \"Graphic Design\", \"Graphic Design\", \"Graphic Design\", \"Graphic Design\", \"Graphic Design\", \"Graphic Design\", \"Graphic Design\", \"Graphic Design\", \"Graphic Design\", \"Graphic Design\", \"Graphic Design\", \"Graphic Design\", \"Graphic Design\", \"Graphic Design\", \"Graphic Design\", \"Graphic Design\", \"Graphic Design\", \"Graphic Design\", \"Graphic Design\", \"Graphic Design\", \"Graphic Design\", \"Graphic Design\", \"Graphic Design\", \"Graphic Design\", \"Graphic Design\", \"Graphic Design\", \"Graphic Design\", \"Graphic Design\", \"Graphic Design\", \"Graphic Design\", \"Graphic Design\", \"Graphic Design\", \"Graphic Design\", \"Graphic Design\", \"Graphic Design\", \"Graphic Design\", \"Graphic Design\", \"Graphic Design\", \"Graphic Design\", \"Graphic Design\", \"Graphic Design\", \"Graphic Design\", \"Graphic Design\", \"Graphic Design\", \"Graphic Design\", \"Graphic Design\", \"Graphic Design\", \"Graphic Design\", \"Graphic Design\", \"Graphic Design\", \"Graphic Design\", \"Graphic Design\", \"Graphic Design\", \"Graphic Design\", \"Graphic Design\", \"Graphic Design\", \"Graphic Design\", \"Graphic Design\", \"Graphic Design\", \"Graphic Design\", \"Musical Instruments\", \"Musical Instruments\", \"Musical Instruments\", \"Musical Instruments\", \"Musical Instruments\", \"Musical Instruments\", \"Musical Instruments\", \"Musical Instruments\", \"Musical Instruments\", \"Musical Instruments\", \"Musical Instruments\", \"Musical Instruments\", \"Musical Instruments\", \"Musical Instruments\", \"Musical Instruments\", \"Musical Instruments\", \"Musical Instruments\", \"Musical Instruments\", \"Musical Instruments\", \"Musical Instruments\", \"Musical Instruments\", \"Musical Instruments\", \"Musical Instruments\", \"Musical Instruments\", \"Musical Instruments\", \"Musical Instruments\", \"Musical Instruments\", \"Musical Instruments\", \"Musical Instruments\", \"Musical Instruments\", \"Musical Instruments\", \"Musical Instruments\", \"Musical Instruments\", \"Musical Instruments\", \"Musical Instruments\", \"Musical Instruments\", \"Musical Instruments\", \"Musical Instruments\", \"Musical Instruments\", \"Musical Instruments\", \"Musical Instruments\", \"Musical Instruments\", \"Musical Instruments\", \"Musical Instruments\", \"Musical Instruments\", \"Musical Instruments\", \"Musical Instruments\", \"Musical Instruments\", \"Musical Instruments\", \"Musical Instruments\", \"Musical Instruments\", \"Musical Instruments\", \"Musical Instruments\", \"Musical Instruments\", \"Musical Instruments\", \"Musical Instruments\", \"Musical Instruments\", \"Musical Instruments\", \"Musical Instruments\", \"Musical Instruments\", \"Musical Instruments\", \"Musical Instruments\", \"Musical Instruments\", \"Musical Instruments\", \"Musical Instruments\", \"Musical Instruments\", \"Musical Instruments\", \"Musical Instruments\", \"Musical Instruments\", \"Musical Instruments\", \"Musical Instruments\", \"Musical Instruments\", \"Musical Instruments\", \"Musical Instruments\", \"Musical Instruments\", \"Musical Instruments\", \"Musical Instruments\", \"Musical Instruments\", \"Musical Instruments\", \"Musical Instruments\", \"Musical Instruments\", \"Musical Instruments\", \"Musical Instruments\", \"Musical Instruments\", \"Musical Instruments\", \"Musical Instruments\", \"Musical Instruments\", \"Musical Instruments\", \"Musical Instruments\", \"Musical Instruments\", \"Musical Instruments\", \"Musical Instruments\", \"Musical Instruments\", \"Musical Instruments\", \"Musical Instruments\", \"Musical Instruments\", \"Musical Instruments\", \"Musical Instruments\", \"Musical Instruments\", \"Musical Instruments\", \"Musical Instruments\", \"Musical Instruments\", \"Musical Instruments\", \"Musical Instruments\", \"Musical Instruments\", \"Musical Instruments\", \"Musical Instruments\", \"Musical Instruments\", \"Musical Instruments\", \"Musical Instruments\", \"Musical Instruments\", \"Musical Instruments\", \"Musical Instruments\", \"Musical Instruments\", \"Musical Instruments\", \"Musical Instruments\", \"Musical Instruments\", \"Musical Instruments\", \"Musical Instruments\", \"Musical Instruments\", \"Musical Instruments\", \"Musical Instruments\", \"Musical Instruments\", \"Musical Instruments\", \"Musical Instruments\", \"Musical Instruments\", \"Musical Instruments\", \"Musical Instruments\", \"Musical Instruments\", \"Musical Instruments\", \"Musical Instruments\", \"Musical Instruments\", \"Musical Instruments\", \"Musical Instruments\", \"Musical Instruments\", \"Musical Instruments\", \"Musical Instruments\", \"Musical Instruments\", \"Musical Instruments\", \"Musical Instruments\", \"Musical Instruments\", \"Musical Instruments\", \"Musical Instruments\", \"Musical Instruments\", \"Musical Instruments\", \"Musical Instruments\", \"Musical Instruments\", \"Musical Instruments\", \"Musical Instruments\", \"Musical Instruments\", \"Musical Instruments\", \"Musical Instruments\", \"Musical Instruments\", \"Musical Instruments\", \"Musical Instruments\", \"Musical Instruments\", \"Musical Instruments\", \"Musical Instruments\", \"Musical Instruments\", \"Musical Instruments\", \"Musical Instruments\", \"Musical Instruments\", \"Musical Instruments\", \"Musical Instruments\", \"Musical Instruments\", \"Musical Instruments\", \"Musical Instruments\", \"Musical Instruments\", \"Musical Instruments\", \"Musical Instruments\", \"Musical Instruments\", \"Musical Instruments\", \"Musical Instruments\", \"Musical Instruments\", \"Musical Instruments\", \"Musical Instruments\", \"Musical Instruments\", \"Musical Instruments\", \"Musical Instruments\", \"Musical Instruments\", \"Musical Instruments\", \"Musical Instruments\", \"Musical Instruments\", \"Musical Instruments\", \"Musical Instruments\", \"Musical Instruments\", \"Musical Instruments\", \"Musical Instruments\", \"Musical Instruments\", \"Musical Instruments\", \"Musical Instruments\", \"Musical Instruments\", \"Musical Instruments\", \"Musical Instruments\", \"Musical Instruments\", \"Musical Instruments\", \"Musical Instruments\", \"Musical Instruments\", \"Musical Instruments\", \"Musical Instruments\", \"Musical Instruments\", \"Musical Instruments\", \"Musical Instruments\", \"Musical Instruments\", \"Musical Instruments\", \"Musical Instruments\", \"Musical Instruments\", \"Musical Instruments\", \"Musical Instruments\", \"Musical Instruments\", \"Musical Instruments\", \"Musical Instruments\", \"Musical Instruments\", \"Musical Instruments\", \"Musical Instruments\", \"Musical Instruments\", \"Musical Instruments\", \"Musical Instruments\", \"Musical Instruments\", \"Musical Instruments\", \"Musical Instruments\", \"Musical Instruments\", \"Musical Instruments\", \"Musical Instruments\", \"Musical Instruments\", \"Musical Instruments\", \"Musical Instruments\", \"Musical Instruments\", \"Musical Instruments\", \"Musical Instruments\", \"Musical Instruments\", \"Musical Instruments\", \"Musical Instruments\", \"Musical Instruments\", \"Musical Instruments\", \"Musical Instruments\", \"Musical Instruments\", \"Musical Instruments\", \"Musical Instruments\", \"Musical Instruments\", \"Musical Instruments\", \"Musical Instruments\", \"Musical Instruments\", \"Musical Instruments\", \"Musical Instruments\", \"Musical Instruments\", \"Musical Instruments\", \"Musical Instruments\", \"Musical Instruments\", \"Musical Instruments\", \"Musical Instruments\", \"Musical Instruments\", \"Musical Instruments\", \"Musical Instruments\", \"Musical Instruments\", \"Musical Instruments\", \"Musical Instruments\", \"Musical Instruments\", \"Musical Instruments\", \"Musical Instruments\", \"Musical Instruments\", \"Musical Instruments\", \"Musical Instruments\", \"Musical Instruments\", \"Musical Instruments\", \"Musical Instruments\", \"Musical Instruments\", \"Musical Instruments\", \"Musical Instruments\", \"Musical Instruments\", \"Musical Instruments\", \"Musical Instruments\", \"Musical Instruments\", \"Musical Instruments\", \"Musical Instruments\", \"Musical Instruments\", \"Musical Instruments\", \"Musical Instruments\", \"Musical Instruments\", \"Musical Instruments\", \"Musical Instruments\", \"Musical Instruments\", \"Musical Instruments\", \"Musical Instruments\", \"Musical Instruments\", \"Musical Instruments\", \"Musical Instruments\", \"Musical Instruments\", \"Musical Instruments\", \"Musical Instruments\", \"Musical Instruments\", \"Musical Instruments\", \"Musical Instruments\", \"Musical Instruments\", \"Web Development\", \"Web Development\", \"Web Development\", \"Web Development\", \"Web Development\", \"Web Development\", \"Web Development\", \"Web Development\", \"Web Development\", \"Web Development\", \"Web Development\", \"Web Development\", \"Web Development\", \"Web Development\", \"Web Development\", \"Web Development\", \"Web Development\", \"Web Development\", \"Web Development\", \"Web Development\", \"Web Development\", \"Web Development\", \"Web Development\", \"Web Development\", \"Web Development\", \"Web Development\", \"Web Development\", \"Web Development\", \"Web Development\", \"Web Development\", \"Web Development\", \"Web Development\", \"Web Development\", \"Web Development\", \"Web Development\", \"Web Development\", \"Web Development\", \"Web Development\", \"Web Development\", \"Web Development\", \"Web Development\", \"Web Development\", \"Web Development\", \"Web Development\", \"Web Development\", \"Web Development\", \"Web Development\", \"Web Development\", \"Web Development\", \"Web Development\", \"Web Development\", \"Web Development\", \"Web Development\", \"Web Development\", \"Web Development\", \"Web Development\", \"Web Development\", \"Web Development\", \"Web Development\", \"Web Development\", \"Web Development\", \"Web Development\", \"Web Development\", \"Web Development\", \"Web Development\", \"Web Development\", \"Web Development\", \"Web Development\", \"Web Development\", \"Web Development\", \"Web Development\", \"Web Development\", \"Web Development\", \"Web Development\", \"Web Development\", \"Web Development\", \"Web Development\", \"Web Development\", \"Web Development\", \"Web Development\", \"Web Development\", \"Web Development\", \"Web Development\", \"Web Development\", \"Web Development\", \"Web Development\", \"Web Development\", \"Web Development\", \"Web Development\", \"Web Development\", \"Web Development\", \"Web Development\", \"Web Development\", \"Web Development\", \"Web Development\", \"Web Development\", \"Web Development\", \"Web Development\", \"Web Development\", \"Web Development\", \"Web Development\", \"Web Development\", \"Web Development\", \"Web Development\", \"Web Development\", \"Web Development\", \"Web Development\", \"Web Development\", \"Web Development\", \"Web Development\", \"Web Development\", \"Web Development\", \"Web Development\", \"Web Development\", \"Web Development\", \"Web Development\", \"Web Development\", \"Web Development\", \"Web Development\", \"Web Development\", \"Web Development\", \"Web Development\", \"Web Development\", \"Web Development\", \"Web Development\", \"Web Development\", \"Web Development\", \"Web Development\", \"Web Development\", \"Web Development\", \"Web Development\", \"Web Development\", \"Web Development\", \"Web Development\", \"Web Development\", \"Web Development\", \"Web Development\", \"Web Development\", \"Web Development\", \"Web Development\", \"Web Development\", \"Web Development\", \"Web Development\", \"Web Development\", \"Web Development\", \"Web Development\", \"Web Development\", \"Web Development\", \"Web Development\", \"Web Development\", \"Web Development\", \"Web Development\", \"Web Development\", \"Web Development\", \"Web Development\", \"Web Development\", \"Web Development\", \"Web Development\", \"Web Development\", \"Web Development\", \"Web Development\", \"Web Development\", \"Web Development\", \"Web Development\", \"Web Development\", \"Web Development\", \"Web Development\", \"Web Development\", \"Web Development\", \"Web Development\", \"Web Development\", \"Web Development\", \"Web Development\", \"Web Development\", \"Web Development\", \"Web Development\", \"Web Development\", \"Web Development\", \"Web Development\", \"Web Development\", \"Web Development\", \"Web Development\", \"Web Development\", \"Web Development\", \"Web Development\", \"Web Development\", \"Web Development\", \"Web Development\", \"Web Development\", \"Web Development\", \"Web Development\", \"Web Development\", \"Web Development\", \"Web Development\", \"Web Development\", \"Web Development\", \"Web Development\", \"Web Development\", \"Web Development\", \"Web Development\", \"Web Development\", \"Web Development\", \"Web Development\", \"Web Development\", \"Web Development\", \"Web Development\", \"Web Development\", \"Web Development\", \"Web Development\", \"Web Development\", \"Web Development\", \"Web Development\", \"Web Development\", \"Web Development\", \"Web Development\", \"Web Development\", \"Web Development\", \"Web Development\", \"Web Development\", \"Web Development\", \"Web Development\", \"Web Development\", \"Web Development\", \"Web Development\", \"Web Development\", \"Web Development\", \"Web Development\", \"Web Development\", \"Web Development\", \"Web Development\", \"Web Development\", \"Web Development\", \"Web Development\", \"Web Development\", \"Web Development\", \"Web Development\", \"Web Development\", \"Web Development\", \"Web Development\", \"Web Development\", \"Web Development\", \"Web Development\", \"Web Development\", \"Web Development\", \"Web Development\", \"Web Development\", \"Web Development\", \"Web Development\", \"Web Development\", \"Web Development\", \"Web Development\", \"Web Development\", \"Web Development\", \"Web Development\", \"Web Development\", \"Web Development\", \"Web Development\", \"Web Development\", \"Web Development\", \"Web Development\", \"Web Development\", \"Web Development\", \"Web Development\", \"Web Development\", \"Web Development\", \"Web Development\", \"Web Development\", \"Web Development\", \"Web Development\", \"Web Development\", \"Web Development\", \"Web Development\", \"Web Development\", \"Web Development\", \"Web Development\", \"Web Development\", \"Web Development\", \"Web Development\", \"Web Development\", \"Web Development\", \"Web Development\", \"Web Development\", \"Web Development\", \"Web Development\", \"Web Development\", \"Web Development\", \"Web Development\", \"Web Development\", \"Web Development\", \"Web Development\", \"Web Development\", \"Web Development\", \"Web Development\", \"Web Development\", \"Web Development\", \"Web Development\", \"Web Development\", \"Web Development\", \"Web Development\", \"Web Development\", \"Web Development\", \"Web Development\", \"Web Development\", \"Web Development\", \"Web Development\", \"Web Development\", \"Web Development\", \"Web Development\", \"Web Development\", \"Web Development\", \"Web Development\", \"Web Development\", \"Web Development\", \"Web Development\", \"Web Development\", \"Web Development\", \"Web Development\", \"Web Development\", \"Web Development\", \"Web Development\", \"Web Development\", \"Web Development\", \"Web Development\", \"Web Development\", \"Web Development\", \"Web Development\", \"Web Development\", \"Web Development\", \"Web Development\", \"Web Development\", \"Web Development\", \"Web Development\", \"Web Development\", \"Web Development\", \"Web Development\", \"Web Development\", \"Web Development\", \"Web Development\", \"Web Development\", \"Web Development\", \"Web Development\", \"Web Development\", \"Web Development\", \"Web Development\", \"Web Development\", \"Web Development\", \"Web Development\", \"Web Development\", \"Web Development\", \"Web Development\", \"Web Development\", \"Web Development\", \"Web Development\", \"Web Development\", \"Web Development\", \"Web Development\", \"Web Development\", \"Web Development\", \"Web Development\", \"Web Development\", \"Web Development\", \"Web Development\", \"Web Development\", \"Web Development\", \"Web Development\", \"Web Development\", \"Web Development\", \"Web Development\", \"Web Development\", \"Web Development\", \"Web Development\", \"Web Development\", \"Web Development\", \"Web Development\", \"Web Development\", \"Web Development\", \"Web Development\", \"Web Development\", \"Web Development\", \"Web Development\", \"Web Development\", \"Web Development\", \"Web Development\", \"Web Development\", \"Web Development\", \"Web Development\", \"Web Development\", \"Web Development\", \"Web Development\"], \"y0\": \" \", \"yaxis\": \"y\"}, {\"alignmentgroup\": \"True\", \"hoverlabel\": {\"namelength\": 0}, \"hovertemplate\": \"level=Expert Level<br>content_duration=%{x}<br>subject=%{y}\", \"legendgroup\": \"level=Expert Level\", \"marker\": {\"color\": \"#ab63fa\"}, \"name\": \"level=Expert Level\", \"notched\": false, \"offsetgroup\": \"level=Expert Level\", \"orientation\": \"h\", \"showlegend\": true, \"type\": \"box\", \"x\": [2.5, 2.0, 1.5, 4.5, 1.0, 1.0, 0.716666666666667, 1.5, 2.0, 2.0, 6.0, 0.7, 4.0, 3.5, 1.0, 0.583333333333333, 1.0, 4.0, 1.0, 1.0, 0.516666666666667, 2.0, 1.0, 2.5, 1.5, 1.0, 3.5, 1.0, 1.0, 1.5, 1.5, 3.5, 12.5, 1.0, 2.5, 3.5, 1.5, 1.5, 4.0, 1.5, 2.0, 4.0, 3.5, 3.5, 6.0, 9.0, 3.0, 1.5, 12.5, 5.0, 4.0, 3.0, 6.5, 3.0, 4.0, 5.5, 1.0, 1.5], \"x0\": \" \", \"xaxis\": \"x\", \"y\": [\"Business Finance\", \"Business Finance\", \"Business Finance\", \"Business Finance\", \"Business Finance\", \"Business Finance\", \"Business Finance\", \"Business Finance\", \"Business Finance\", \"Business Finance\", \"Business Finance\", \"Business Finance\", \"Business Finance\", \"Business Finance\", \"Business Finance\", \"Business Finance\", \"Business Finance\", \"Business Finance\", \"Business Finance\", \"Business Finance\", \"Business Finance\", \"Business Finance\", \"Business Finance\", \"Business Finance\", \"Business Finance\", \"Business Finance\", \"Business Finance\", \"Business Finance\", \"Business Finance\", \"Business Finance\", \"Business Finance\", \"Graphic Design\", \"Graphic Design\", \"Graphic Design\", \"Graphic Design\", \"Graphic Design\", \"Musical Instruments\", \"Musical Instruments\", \"Musical Instruments\", \"Musical Instruments\", \"Musical Instruments\", \"Musical Instruments\", \"Musical Instruments\", \"Web Development\", \"Web Development\", \"Web Development\", \"Web Development\", \"Web Development\", \"Web Development\", \"Web Development\", \"Web Development\", \"Web Development\", \"Web Development\", \"Web Development\", \"Web Development\", \"Web Development\", \"Web Development\", \"Web Development\"], \"y0\": \" \", \"yaxis\": \"y\"}],\n",
              "                        {\"boxmode\": \"group\", \"legend\": {\"tracegroupgap\": 0}, \"template\": {\"data\": {\"bar\": [{\"error_x\": {\"color\": \"#2a3f5f\"}, \"error_y\": {\"color\": \"#2a3f5f\"}, \"marker\": {\"line\": {\"color\": \"#E5ECF6\", \"width\": 0.5}}, \"type\": \"bar\"}], \"barpolar\": [{\"marker\": {\"line\": {\"color\": \"#E5ECF6\", \"width\": 0.5}}, \"type\": \"barpolar\"}], \"carpet\": [{\"aaxis\": {\"endlinecolor\": \"#2a3f5f\", \"gridcolor\": \"white\", \"linecolor\": \"white\", \"minorgridcolor\": \"white\", \"startlinecolor\": \"#2a3f5f\"}, \"baxis\": {\"endlinecolor\": \"#2a3f5f\", \"gridcolor\": \"white\", \"linecolor\": \"white\", \"minorgridcolor\": \"white\", \"startlinecolor\": \"#2a3f5f\"}, \"type\": \"carpet\"}], \"choropleth\": [{\"colorbar\": {\"outlinewidth\": 0, \"ticks\": \"\"}, \"type\": \"choropleth\"}], \"contour\": [{\"colorbar\": {\"outlinewidth\": 0, \"ticks\": \"\"}, \"colorscale\": [[0.0, \"#0d0887\"], [0.1111111111111111, \"#46039f\"], [0.2222222222222222, \"#7201a8\"], [0.3333333333333333, \"#9c179e\"], [0.4444444444444444, \"#bd3786\"], [0.5555555555555556, \"#d8576b\"], [0.6666666666666666, \"#ed7953\"], [0.7777777777777778, \"#fb9f3a\"], [0.8888888888888888, \"#fdca26\"], [1.0, \"#f0f921\"]], \"type\": \"contour\"}], \"contourcarpet\": [{\"colorbar\": {\"outlinewidth\": 0, \"ticks\": \"\"}, \"type\": \"contourcarpet\"}], \"heatmap\": [{\"colorbar\": {\"outlinewidth\": 0, \"ticks\": \"\"}, \"colorscale\": [[0.0, \"#0d0887\"], [0.1111111111111111, \"#46039f\"], [0.2222222222222222, \"#7201a8\"], [0.3333333333333333, \"#9c179e\"], [0.4444444444444444, \"#bd3786\"], [0.5555555555555556, \"#d8576b\"], [0.6666666666666666, \"#ed7953\"], [0.7777777777777778, \"#fb9f3a\"], [0.8888888888888888, \"#fdca26\"], [1.0, \"#f0f921\"]], \"type\": \"heatmap\"}], \"heatmapgl\": [{\"colorbar\": {\"outlinewidth\": 0, \"ticks\": \"\"}, \"colorscale\": [[0.0, \"#0d0887\"], [0.1111111111111111, \"#46039f\"], [0.2222222222222222, \"#7201a8\"], [0.3333333333333333, \"#9c179e\"], [0.4444444444444444, \"#bd3786\"], [0.5555555555555556, \"#d8576b\"], [0.6666666666666666, \"#ed7953\"], [0.7777777777777778, \"#fb9f3a\"], [0.8888888888888888, \"#fdca26\"], [1.0, \"#f0f921\"]], \"type\": \"heatmapgl\"}], \"histogram\": [{\"marker\": {\"colorbar\": {\"outlinewidth\": 0, \"ticks\": \"\"}}, \"type\": \"histogram\"}], \"histogram2d\": [{\"colorbar\": {\"outlinewidth\": 0, \"ticks\": \"\"}, \"colorscale\": [[0.0, \"#0d0887\"], [0.1111111111111111, \"#46039f\"], [0.2222222222222222, \"#7201a8\"], [0.3333333333333333, \"#9c179e\"], [0.4444444444444444, \"#bd3786\"], [0.5555555555555556, \"#d8576b\"], [0.6666666666666666, \"#ed7953\"], [0.7777777777777778, \"#fb9f3a\"], [0.8888888888888888, \"#fdca26\"], [1.0, \"#f0f921\"]], \"type\": \"histogram2d\"}], \"histogram2dcontour\": [{\"colorbar\": {\"outlinewidth\": 0, \"ticks\": \"\"}, \"colorscale\": [[0.0, \"#0d0887\"], [0.1111111111111111, \"#46039f\"], [0.2222222222222222, \"#7201a8\"], [0.3333333333333333, \"#9c179e\"], [0.4444444444444444, \"#bd3786\"], [0.5555555555555556, \"#d8576b\"], [0.6666666666666666, \"#ed7953\"], [0.7777777777777778, \"#fb9f3a\"], [0.8888888888888888, \"#fdca26\"], [1.0, \"#f0f921\"]], \"type\": \"histogram2dcontour\"}], \"mesh3d\": [{\"colorbar\": {\"outlinewidth\": 0, \"ticks\": \"\"}, \"type\": \"mesh3d\"}], \"parcoords\": [{\"line\": {\"colorbar\": {\"outlinewidth\": 0, \"ticks\": \"\"}}, \"type\": \"parcoords\"}], \"pie\": [{\"automargin\": true, \"type\": \"pie\"}], \"scatter\": [{\"marker\": {\"colorbar\": {\"outlinewidth\": 0, \"ticks\": \"\"}}, \"type\": \"scatter\"}], \"scatter3d\": [{\"line\": {\"colorbar\": {\"outlinewidth\": 0, \"ticks\": \"\"}}, \"marker\": {\"colorbar\": {\"outlinewidth\": 0, \"ticks\": \"\"}}, \"type\": \"scatter3d\"}], \"scattercarpet\": [{\"marker\": {\"colorbar\": {\"outlinewidth\": 0, \"ticks\": \"\"}}, \"type\": \"scattercarpet\"}], \"scattergeo\": [{\"marker\": {\"colorbar\": {\"outlinewidth\": 0, \"ticks\": \"\"}}, \"type\": \"scattergeo\"}], \"scattergl\": [{\"marker\": {\"colorbar\": {\"outlinewidth\": 0, \"ticks\": \"\"}}, \"type\": \"scattergl\"}], \"scattermapbox\": [{\"marker\": {\"colorbar\": {\"outlinewidth\": 0, \"ticks\": \"\"}}, \"type\": \"scattermapbox\"}], \"scatterpolar\": [{\"marker\": {\"colorbar\": {\"outlinewidth\": 0, \"ticks\": \"\"}}, \"type\": \"scatterpolar\"}], \"scatterpolargl\": [{\"marker\": {\"colorbar\": {\"outlinewidth\": 0, \"ticks\": \"\"}}, \"type\": \"scatterpolargl\"}], \"scatterternary\": [{\"marker\": {\"colorbar\": {\"outlinewidth\": 0, \"ticks\": \"\"}}, \"type\": \"scatterternary\"}], \"surface\": [{\"colorbar\": {\"outlinewidth\": 0, \"ticks\": \"\"}, \"colorscale\": [[0.0, \"#0d0887\"], [0.1111111111111111, \"#46039f\"], [0.2222222222222222, \"#7201a8\"], [0.3333333333333333, \"#9c179e\"], [0.4444444444444444, \"#bd3786\"], [0.5555555555555556, \"#d8576b\"], [0.6666666666666666, \"#ed7953\"], [0.7777777777777778, \"#fb9f3a\"], [0.8888888888888888, \"#fdca26\"], [1.0, \"#f0f921\"]], \"type\": \"surface\"}], \"table\": [{\"cells\": {\"fill\": {\"color\": \"#EBF0F8\"}, \"line\": {\"color\": \"white\"}}, \"header\": {\"fill\": {\"color\": \"#C8D4E3\"}, \"line\": {\"color\": \"white\"}}, \"type\": \"table\"}]}, \"layout\": {\"annotationdefaults\": {\"arrowcolor\": \"#2a3f5f\", \"arrowhead\": 0, \"arrowwidth\": 1}, \"coloraxis\": {\"colorbar\": {\"outlinewidth\": 0, \"ticks\": \"\"}}, \"colorscale\": {\"diverging\": [[0, \"#8e0152\"], [0.1, \"#c51b7d\"], [0.2, \"#de77ae\"], [0.3, \"#f1b6da\"], [0.4, \"#fde0ef\"], [0.5, \"#f7f7f7\"], [0.6, \"#e6f5d0\"], [0.7, \"#b8e186\"], [0.8, \"#7fbc41\"], [0.9, \"#4d9221\"], [1, \"#276419\"]], \"sequential\": [[0.0, \"#0d0887\"], [0.1111111111111111, \"#46039f\"], [0.2222222222222222, \"#7201a8\"], [0.3333333333333333, \"#9c179e\"], [0.4444444444444444, \"#bd3786\"], [0.5555555555555556, \"#d8576b\"], [0.6666666666666666, \"#ed7953\"], [0.7777777777777778, \"#fb9f3a\"], [0.8888888888888888, \"#fdca26\"], [1.0, \"#f0f921\"]], \"sequentialminus\": [[0.0, \"#0d0887\"], [0.1111111111111111, \"#46039f\"], [0.2222222222222222, \"#7201a8\"], [0.3333333333333333, \"#9c179e\"], [0.4444444444444444, \"#bd3786\"], [0.5555555555555556, \"#d8576b\"], [0.6666666666666666, \"#ed7953\"], [0.7777777777777778, \"#fb9f3a\"], [0.8888888888888888, \"#fdca26\"], [1.0, \"#f0f921\"]]}, \"colorway\": [\"#636efa\", \"#EF553B\", \"#00cc96\", \"#ab63fa\", \"#FFA15A\", \"#19d3f3\", \"#FF6692\", \"#B6E880\", \"#FF97FF\", \"#FECB52\"], \"font\": {\"color\": \"#2a3f5f\"}, \"geo\": {\"bgcolor\": \"white\", \"lakecolor\": \"white\", \"landcolor\": \"#E5ECF6\", \"showlakes\": true, \"showland\": true, \"subunitcolor\": \"white\"}, \"hoverlabel\": {\"align\": \"left\"}, \"hovermode\": \"closest\", \"mapbox\": {\"style\": \"light\"}, \"paper_bgcolor\": \"white\", \"plot_bgcolor\": \"#E5ECF6\", \"polar\": {\"angularaxis\": {\"gridcolor\": \"white\", \"linecolor\": \"white\", \"ticks\": \"\"}, \"bgcolor\": \"#E5ECF6\", \"radialaxis\": {\"gridcolor\": \"white\", \"linecolor\": \"white\", \"ticks\": \"\"}}, \"scene\": {\"xaxis\": {\"backgroundcolor\": \"#E5ECF6\", \"gridcolor\": \"white\", \"gridwidth\": 2, \"linecolor\": \"white\", \"showbackground\": true, \"ticks\": \"\", \"zerolinecolor\": \"white\"}, \"yaxis\": {\"backgroundcolor\": \"#E5ECF6\", \"gridcolor\": \"white\", \"gridwidth\": 2, \"linecolor\": \"white\", \"showbackground\": true, \"ticks\": \"\", \"zerolinecolor\": \"white\"}, \"zaxis\": {\"backgroundcolor\": \"#E5ECF6\", \"gridcolor\": \"white\", \"gridwidth\": 2, \"linecolor\": \"white\", \"showbackground\": true, \"ticks\": \"\", \"zerolinecolor\": \"white\"}}, \"shapedefaults\": {\"line\": {\"color\": \"#2a3f5f\"}}, \"ternary\": {\"aaxis\": {\"gridcolor\": \"white\", \"linecolor\": \"white\", \"ticks\": \"\"}, \"baxis\": {\"gridcolor\": \"white\", \"linecolor\": \"white\", \"ticks\": \"\"}, \"bgcolor\": \"#E5ECF6\", \"caxis\": {\"gridcolor\": \"white\", \"linecolor\": \"white\", \"ticks\": \"\"}}, \"title\": {\"x\": 0.05}, \"xaxis\": {\"automargin\": true, \"gridcolor\": \"white\", \"linecolor\": \"white\", \"ticks\": \"\", \"title\": {\"standoff\": 15}, \"zerolinecolor\": \"white\", \"zerolinewidth\": 2}, \"yaxis\": {\"automargin\": true, \"gridcolor\": \"white\", \"linecolor\": \"white\", \"ticks\": \"\", \"title\": {\"standoff\": 15}, \"zerolinecolor\": \"white\", \"zerolinewidth\": 2}}}, \"title\": {\"text\": \"Duration Distribution Across Type of Course\"}, \"xaxis\": {\"anchor\": \"y\", \"domain\": [0.0, 1.0], \"title\": {\"text\": \"Content Duration\"}}, \"yaxis\": {\"anchor\": \"x\", \"domain\": [0.0, 1.0], \"title\": {\"text\": \"Subject\"}}},\n",
              "                        {\"responsive\": true}\n",
              "                    ).then(function(){\n",
              "                            \n",
              "var gd = document.getElementById('589c0ed4-21dc-46a1-bebc-0999de411132');\n",
              "var x = new MutationObserver(function (mutations, observer) {{\n",
              "        var display = window.getComputedStyle(gd).display;\n",
              "        if (!display || display === 'none') {{\n",
              "            console.log([gd, 'removed!']);\n",
              "            Plotly.purge(gd);\n",
              "            observer.disconnect();\n",
              "        }}\n",
              "}});\n",
              "\n",
              "// Listen for the removal of the full notebook cells\n",
              "var notebookContainer = gd.closest('#notebook-container');\n",
              "if (notebookContainer) {{\n",
              "    x.observe(notebookContainer, {childList: true});\n",
              "}}\n",
              "\n",
              "// Listen for the clearing of the current output cell\n",
              "var outputEl = gd.closest('.output');\n",
              "if (outputEl) {{\n",
              "    x.observe(outputEl, {childList: true});\n",
              "}}\n",
              "\n",
              "                        })\n",
              "                };\n",
              "                \n",
              "            </script>\n",
              "        </div>\n",
              "</body>\n",
              "</html>"
            ]
          },
          "metadata": {
            "tags": []
          }
        }
      ]
    },
    {
      "cell_type": "code",
      "metadata": {
        "id": "Mys3RBdwRWa1",
        "outputId": "f6fb8881-5ca5-4dbc-8d46-6313aa2151fe",
        "colab": {
          "base_uri": "https://localhost:8080/",
          "height": 297
        }
      },
      "source": [
        "sns.boxplot(x=courses_dataframe['content_duration'])"
      ],
      "execution_count": null,
      "outputs": [
        {
          "output_type": "execute_result",
          "data": {
            "text/plain": [
              "<matplotlib.axes._subplots.AxesSubplot at 0x7f173d30e710>"
            ]
          },
          "metadata": {
            "tags": []
          },
          "execution_count": 310
        },
        {
          "output_type": "display_data",
          "data": {
            "image/png": "[encoded data removed]",
            "text/plain": [
              "<Figure size 432x288 with 1 Axes>"
            ]
          },
          "metadata": {
            "tags": [],
            "needs_background": "light"
          }
        }
      ]
    },
    {
      "cell_type": "markdown",
      "metadata": {
        "id": "bZcW0ukoRR6B"
      },
      "source": [
        "On building the box plot for content duration we realise there are a lot of outliers in the column. Hence we run the below method to remove the outliers based on the zscore value being less than 3."
      ]
    },
    {
      "cell_type": "code",
      "metadata": {
        "id": "pdAlxV20a6Vo"
      },
      "source": [
        "def outlier_removal(df):\n",
        "  z = np.abs(stats.zscore(df['content_duration']))\n",
        "  list_outliers =list(np.where(z > 3))\n",
        "  list_outliers = list(list_outliers[0])\n",
        "  df = df.drop(list_outliers)\n",
        "  if \"index\" in df.columns:\n",
        "    df.drop(['index'],axis=1,inplace=True)\n",
        "  df.reset_index(inplace=True)\n",
        "  return df"
      ],
      "execution_count": null,
      "outputs": []
    },
    {
      "cell_type": "code",
      "metadata": {
        "id": "b4O3zHN_e0YF"
      },
      "source": [
        "new=outlier_removal(courses_dataframe)\n",
        "new=outlier_removal(new)\n",
        "new=outlier_removal(new)\n",
        "new=outlier_removal(new)\n",
        "new=outlier_removal(new)\n",
        "new=outlier_removal(new)\n",
        "courses_dataframe=outlier_removal(new)"
      ],
      "execution_count": null,
      "outputs": []
    },
    {
      "cell_type": "code",
      "metadata": {
        "id": "R_VjKXiggM0M"
      },
      "source": [
        "courses_dataframe.drop(['index'],axis=1,inplace=True)"
      ],
      "execution_count": null,
      "outputs": []
    },
    {
      "cell_type": "markdown",
      "metadata": {
        "id": "nfCmHsR1Rgmd"
      },
      "source": [
        "Post outlier removal with a threshold of three standard deviations (i.e 97% of the data), we notice the boxplot has a much more symmetric appearance. "
      ]
    },
    {
      "cell_type": "code",
      "metadata": {
        "id": "jY_AZdPXemWT",
        "outputId": "4d471524-3c18-4136-a4ea-b0eac6146f22",
        "colab": {
          "base_uri": "https://localhost:8080/",
          "height": 297
        }
      },
      "source": [
        "sns.boxplot(x=courses_dataframe['content_duration'])"
      ],
      "execution_count": null,
      "outputs": [
        {
          "output_type": "execute_result",
          "data": {
            "text/plain": [
              "<matplotlib.axes._subplots.AxesSubplot at 0x7f173d74c240>"
            ]
          },
          "metadata": {
            "tags": []
          },
          "execution_count": 314
        },
        {
          "output_type": "display_data",
          "data": {
            "image/png": "[encoded data removed]",
            "text/plain": [
              "<Figure size 432x288 with 1 Axes>"
            ]
          },
          "metadata": {
            "tags": [],
            "needs_background": "light"
          }
        }
      ]
    },
    {
      "cell_type": "markdown",
      "metadata": {
        "id": "0LwQVmER_E-X"
      },
      "source": [
        "Prices of Courses\n",
        "\n",
        "The price of a course here is specified in dollars. In some cases, it might also be 0 since the course is free. \n",
        "\n",
        "We build both a histogram and a boxplot to visualise the same data"
      ]
    },
    {
      "cell_type": "code",
      "metadata": {
        "id": "199kPt8R_Qsv",
        "outputId": "afd32f81-9f91-4c67-9d24-586f3df1cb86",
        "colab": {
          "base_uri": "https://localhost:8080/",
          "height": 295
        }
      },
      "source": [
        "fig,ax = plt.subplots(1,1)\n",
        "ax.hist(courses_dataframe['price'],color=\"cornflowerblue\")\n",
        "ax.set_title(\"histogram of Price\")\n",
        "ax.set_xlabel('Price of Course')\n",
        "ax.set_ylabel('no. of Courses')\n",
        "plt.show()"
      ],
      "execution_count": null,
      "outputs": [
        {
          "output_type": "display_data",
          "data": {
            "image/png": "[encoded data removed]",
            "text/plain": [
              "<Figure size 432x288 with 1 Axes>"
            ]
          },
          "metadata": {
            "tags": [],
            "needs_background": "light"
          }
        }
      ]
    },
    {
      "cell_type": "code",
      "metadata": {
        "id": "tS0MydAlQyRQ",
        "outputId": "e7521762-e9b2-4580-8959-1abea648de52",
        "colab": {
          "base_uri": "https://localhost:8080/",
          "height": 542
        }
      },
      "source": [
        "boxplot = px.box(courses_dataframe,\n",
        "       x='price',\n",
        "       y='subject',\n",
        "       orientation='h',\n",
        "       color='level',\n",
        "       title='Price Distribution Across Type of Course',\n",
        "      )\n",
        "\n",
        "boxplot.update_xaxes(title='Price')\n",
        "boxplot.update_yaxes(title='Subject')\n",
        "boxplot.show()"
      ],
      "execution_count": null,
      "outputs": [
        {
          "output_type": "display_data",
          "data": {
            "text/html": [
              "<html>\n",
              "<head><meta charset=\"utf-8\" /></head>\n",
              "<body>\n",
              "    <div>\n",
              "            <script src=\"https://cdnjs.cloudflare.com/ajax/libs/mathjax/2.7.5/MathJax.js?config=TeX-AMS-MML_SVG\"></script><script type=\"text/javascript\">if (window.MathJax) {MathJax.Hub.Config({SVG: {font: \"STIX-Web\"}});}</script>\n",
              "                <script type=\"text/javascript\">window.PlotlyConfig = {MathJaxConfig: 'local'};</script>\n",
              "        <script src=\"https://cdn.plot.ly/plotly-latest.min.js\"></script>    \n",
              "            <div id=\"daf273c3-152d-435c-8aa7-823b48e7fa83\" class=\"plotly-graph-div\" style=\"height:525px; width:100%;\"></div>\n",
              "            <script type=\"text/javascript\">\n",
              "                \n",
              "                    window.PLOTLYENV=window.PLOTLYENV || {};\n",
              "                    \n",
              "                if (document.getElementById(\"daf273c3-152d-435c-8aa7-823b48e7fa83\")) {\n",
              "                    Plotly.newPlot(\n",
              "                        'daf273c3-152d-435c-8aa7-823b48e7fa83',\n",
              "                        [{\"alignmentgroup\": \"True\", \"hoverlabel\": {\"namelength\": 0}, \"hovertemplate\": \"level=All Levels<br>price=%{x}<br>subject=%{y}\", \"legendgroup\": \"level=All Levels\", \"marker\": {\"color\": \"#636efa\"}, \"name\": \"level=All Levels\", \"notched\": false, \"offsetgroup\": \"level=All Levels\", \"orientation\": \"h\", \"showlegend\": true, \"type\": \"box\", \"x\": [200.0, 95.0, 66.02779306549257, 66.02779306549257, 200.0, 200.0, 200.0, 30.0, 195.0, 200.0, 200.0, 50.0, 200.0, 200.0, 75.0, 45.0, 150.0, 200.0, 150.0, 200.0, 45.0, 200.0, 200.0, 200.0, 195.0, 195.0, 66.02779306549257, 150.0, 95.0, 200.0, 190.0, 150.0, 95.0, 30.0, 200.0, 60.0, 200.0, 200.0, 105.0, 155.0, 185.0, 150.0, 125.0, 200.0, 185.0, 125.0, 200.0, 20.0, 200.0, 200.0, 66.02779306549257, 25.0, 160.0, 66.02779306549257, 200.0, 20.0, 200.0, 200.0, 40.0, 66.02779306549257, 40.0, 25.0, 200.0, 0.0, 0.0, 20.0, 150.0, 20.0, 20.0, 25.0, 150.0, 50.0, 100.0, 25.0, 50.0, 100.0, 50.0, 20.0, 150.0, 20.0, 150.0, 0.0, 100.0, 66.02779306549257, 66.02779306549257, 60.0, 20.0, 200.0, 200.0, 200.0, 195.0, 200.0, 25.0, 200.0, 20.0, 195.0, 50.0, 200.0, 120.0, 200.0, 200.0, 45.0, 50.0, 0.0, 200.0, 20.0, 145.0, 195.0, 200.0, 20.0, 200.0, 66.02779306549257, 20.0, 150.0, 200.0, 45.0, 66.02779306549257, 66.02779306549257, 66.02779306549257, 50.0, 60.0, 40.0, 200.0, 95.0, 20.0, 200.0, 40.0, 20.0, 20.0, 66.02779306549257, 66.02779306549257, 20.0, 20.0, 20.0, 30.0, 95.0, 50.0, 95.0, 95.0, 50.0, 105.0, 120.0, 40.0, 35.0, 20.0, 20.0, 200.0, 0.0, 35.0, 75.0, 50.0, 20.0, 200.0, 95.0, 35.0, 25.0, 20.0, 0.0, 66.02779306549257, 66.02779306549257, 0.0, 0.0, 0.0, 60.0, 115.0, 25.0, 150.0, 0.0, 20.0, 200.0, 20.0, 20.0, 80.0, 66.02779306549257, 90.0, 40.0, 200.0, 20.0, 75.0, 25.0, 20.0, 50.0, 20.0, 20.0, 20.0, 50.0, 200.0, 30.0, 66.02779306549257, 50.0, 20.0, 95.0, 20.0, 200.0, 195.0, 0.0, 0.0, 0.0, 45.0, 20.0, 20.0, 66.02779306549257, 66.02779306549257, 0.0, 95.0, 40.0, 145.0, 50.0, 20.0, 20.0, 20.0, 95.0, 90.0, 20.0, 20.0, 145.0, 60.0, 45.0, 200.0, 150.0, 200.0, 20.0, 20.0, 200.0, 150.0, 20.0, 160.0, 200.0, 40.0, 50.0, 200.0, 200.0, 100.0, 66.02779306549257, 50.0, 30.0, 20.0, 20.0, 25.0, 40.0, 25.0, 20.0, 60.0, 20.0, 20.0, 20.0, 30.0, 35.0, 20.0, 0.0, 0.0, 30.0, 200.0, 50.0, 35.0, 30.0, 195.0, 200.0, 20.0, 20.0, 50.0, 20.0, 66.02779306549257, 66.02779306549257, 100.0, 40.0, 50.0, 0.0, 20.0, 95.0, 200.0, 55.0, 50.0, 20.0, 20.0, 50.0, 95.0, 55.0, 50.0, 20.0, 20.0, 0.0, 125.0, 50.0, 120.0, 20.0, 0.0, 20.0, 165.0, 25.0, 195.0, 20.0, 0.0, 20.0, 40.0, 95.0, 35.0, 200.0, 105.0, 20.0, 20.0, 20.0, 20.0, 30.0, 105.0, 20.0, 100.0, 20.0, 200.0, 95.0, 200.0, 95.0, 50.0, 20.0, 50.0, 50.0, 50.0, 50.0, 75.0, 195.0, 50.0, 55.0, 20.0, 40.0, 50.0, 195.0, 50.0, 200.0, 0.0, 95.0, 0.0, 25.0, 95.0, 50.0, 50.0, 20.0, 55.0, 20.0, 20.0, 20.0, 40.0, 20.0, 20.0, 20.0, 95.0, 70.0, 25.0, 20.0, 45.0, 20.0, 25.0, 20.0, 20.0, 200.0, 20.0, 20.0, 150.0, 20.0, 0.0, 200.0, 50.0, 95.0, 50.0, 0.0, 200.0, 30.0, 20.0, 25.0, 20.0, 200.0, 145.0, 40.0, 20.0, 145.0, 30.0, 200.0, 45.0, 95.0, 200.0, 50.0, 40.0, 50.0, 50.0, 0.0, 40.0, 30.0, 200.0, 0.0, 130.0, 35.0, 95.0, 35.0, 20.0, 20.0, 20.0, 20.0, 35.0, 50.0, 0.0, 20.0, 20.0, 0.0, 75.0, 95.0, 50.0, 95.0, 80.0, 195.0, 200.0, 50.0, 20.0, 95.0, 40.0, 20.0, 50.0, 25.0, 25.0, 200.0, 20.0, 20.0, 0.0, 30.0, 0.0, 35.0, 25.0, 20.0, 50.0, 20.0, 50.0, 90.0, 100.0, 20.0, 40.0, 20.0, 40.0, 195.0, 95.0, 50.0, 20.0, 20.0, 50.0, 50.0, 0.0, 40.0, 20.0, 0.0, 20.0, 20.0, 95.0, 50.0, 85.0, 20.0, 25.0, 20.0, 200.0, 145.0, 50.0, 20.0, 20.0, 200.0, 50.0, 50.0, 150.0, 150.0, 20.0, 200.0, 20.0, 45.0, 0.0, 50.0, 50.0, 50.0, 150.0, 0.0, 25.0, 50.0, 0.0, 20.0, 50.0, 25.0, 125.0, 200.0, 120.0, 50.0, 20.0, 20.0, 20.0, 95.0, 150.0, 20.0, 50.0, 50.0, 50.0, 0.0, 35.0, 20.0, 75.0, 90.0, 20.0, 0.0, 20.0, 60.0, 20.0, 200.0, 100.0, 160.0, 20.0, 20.0, 150.0, 20.0, 25.0, 20.0, 200.0, 0.0, 20.0, 20.0, 20.0, 145.0, 200.0, 20.0, 20.0, 20.0, 95.0, 35.0, 30.0, 60.0, 30.0, 50.0, 25.0, 20.0, 95.0, 20.0, 20.0, 200.0, 20.0, 50.0, 20.0, 50.0, 20.0, 95.0, 100.0, 20.0, 20.0, 0.0, 30.0, 50.0, 20.0, 40.0, 20.0, 50.0, 35.0, 95.0, 110.0, 95.0, 135.0, 50.0, 30.0, 200.0, 195.0, 50.0, 115.0, 20.0, 20.0, 50.0, 0.0, 20.0, 50.0, 50.0, 35.0, 170.0, 30.0, 195.0, 150.0, 80.0, 150.0, 20.0, 85.0, 20.0, 115.0, 30.0, 45.0, 20.0, 40.0, 20.0, 20.0, 25.0, 200.0, 20.0, 35.0, 20.0, 30.0, 200.0, 30.0, 35.0, 20.0, 25.0, 0.0, 70.0, 0.0, 0.0, 0.0, 0.0, 0.0, 45.0, 20.0, 0.0, 40.0, 200.0, 200.0, 20.0, 25.0, 200.0, 0.0, 20.0, 200.0, 115.0, 200.0, 200.0, 50.0, 20.0, 50.0, 35.0, 20.0, 20.0, 50.0, 95.0, 40.0, 50.0, 20.0, 200.0, 20.0, 25.0, 200.0, 50.0, 65.0, 195.0, 20.0, 0.0, 40.0, 85.0, 55.0, 35.0, 20.0, 20.0, 50.0, 150.0, 200.0, 200.0, 20.0, 200.0, 0.0, 0.0, 200.0, 75.0, 30.0, 200.0, 200.0, 150.0, 20.0, 20.0, 20.0, 150.0, 185.0, 20.0, 100.0, 200.0, 20.0, 0.0, 190.0, 20.0, 200.0, 45.0, 120.0, 20.0, 95.0, 25.0, 40.0, 0.0, 0.0, 40.0, 0.0, 30.0, 95.0, 40.0, 70.0, 50.0, 200.0, 65.0, 200.0, 20.0, 50.0, 50.0, 20.0, 70.0, 20.0, 20.0, 45.0, 45.0, 0.0, 20.0, 60.0, 25.0, 70.0, 30.0, 0.0, 20.0, 200.0, 20.0, 50.0, 95.0, 0.0, 30.0, 200.0, 95.0, 40.0, 165.0, 30.0, 20.0, 0.0, 145.0, 195.0, 0.0, 50.0, 20.0, 20.0, 0.0, 25.0, 90.0, 30.0, 85.0, 20.0, 75.0, 195.0, 20.0, 45.0, 20.0, 20.0, 20.0, 20.0, 20.0, 150.0, 45.0, 35.0, 185.0, 20.0, 20.0, 20.0, 25.0, 200.0, 100.0, 30.0, 20.0, 20.0, 0.0, 25.0, 40.0, 90.0, 195.0, 95.0, 100.0, 20.0, 20.0, 90.0, 45.0, 40.0, 30.0, 30.0, 100.0, 20.0, 50.0, 50.0, 85.0, 20.0, 200.0, 25.0, 20.0, 20.0, 25.0, 20.0, 20.0, 200.0, 50.0, 55.0, 20.0, 70.0, 20.0, 80.0, 50.0, 20.0, 30.0, 180.0, 20.0, 95.0, 195.0, 100.0, 35.0, 125.0, 195.0, 20.0, 135.0, 20.0, 20.0, 20.0, 30.0, 60.0, 20.0, 20.0, 20.0, 20.0, 50.0, 20.0, 100.0, 20.0, 20.0, 20.0, 35.0, 150.0, 20.0, 40.0, 20.0, 100.0, 35.0, 50.0, 55.0, 50.0, 30.0, 25.0, 35.0, 95.0, 40.0, 20.0, 20.0, 30.0, 200.0, 200.0, 20.0, 165.0, 100.0, 35.0, 20.0, 30.0, 20.0, 20.0, 50.0, 20.0, 45.0, 35.0, 20.0, 40.0, 55.0, 25.0, 20.0, 50.0, 50.0, 40.0, 80.0, 20.0, 200.0, 100.0, 195.0, 105.0, 25.0, 20.0, 30.0, 40.0, 50.0, 50.0, 20.0, 50.0, 20.0, 30.0, 35.0, 0.0, 30.0, 35.0, 20.0, 20.0, 20.0, 100.0, 40.0, 40.0, 20.0, 25.0, 25.0, 35.0, 20.0, 40.0, 25.0, 0.0, 20.0, 20.0, 20.0, 20.0, 195.0, 25.0, 20.0, 35.0, 20.0, 20.0, 20.0, 20.0, 40.0, 20.0, 30.0, 20.0, 20.0, 20.0, 50.0, 80.0, 50.0, 25.0, 70.0, 40.0, 30.0, 45.0, 50.0, 20.0, 35.0, 45.0, 50.0, 30.0, 50.0, 50.0, 95.0, 80.0, 100.0, 120.0, 80.0, 50.0, 20.0, 75.0, 40.0, 45.0, 30.0, 50.0, 60.0, 0.0, 200.0, 115.0, 50.0, 45.0, 0.0, 40.0, 20.0, 60.0, 40.0, 50.0, 120.0, 175.0, 20.0, 35.0, 50.0, 50.0, 200.0, 85.0, 35.0, 45.0, 50.0, 0.0, 70.0, 200.0, 85.0, 0.0, 25.0, 20.0, 40.0, 95.0, 45.0, 100.0, 35.0, 0.0, 50.0, 50.0, 50.0, 40.0, 150.0, 65.0, 0.0, 50.0, 45.0, 45.0, 50.0, 50.0, 100.0, 50.0, 60.0, 70.0, 95.0, 200.0, 50.0, 20.0, 25.0, 50.0, 40.0, 100.0, 60.0, 50.0, 200.0, 20.0, 20.0, 40.0, 50.0, 30.0, 50.0, 20.0, 20.0, 30.0, 70.0, 75.0, 40.0, 0.0, 0.0, 40.0, 75.0, 50.0, 50.0, 25.0, 20.0, 195.0, 50.0, 50.0, 50.0, 75.0, 25.0, 20.0, 50.0, 50.0, 35.0, 50.0, 50.0, 20.0, 50.0, 50.0, 50.0, 35.0, 20.0, 20.0, 50.0, 95.0, 40.0, 65.0, 45.0, 50.0, 40.0, 20.0, 20.0, 100.0, 40.0, 40.0, 50.0, 25.0, 50.0, 20.0, 75.0, 55.0, 25.0, 30.0, 50.0, 20.0, 50.0, 50.0, 20.0, 100.0, 50.0, 200.0, 50.0, 50.0, 50.0, 65.0, 20.0, 40.0, 50.0, 20.0, 40.0, 50.0, 50.0, 20.0, 40.0, 25.0, 50.0, 50.0, 35.0, 30.0, 50.0, 50.0, 50.0, 30.0, 50.0, 50.0, 50.0, 20.0, 40.0, 25.0, 50.0, 50.0, 20.0, 40.0, 20.0, 50.0, 50.0, 20.0, 50.0, 50.0, 20.0, 20.0, 45.0, 50.0, 60.0, 40.0, 35.0, 40.0, 50.0, 45.0, 175.0, 40.0, 35.0, 40.0, 20.0, 40.0, 50.0, 40.0, 75.0, 40.0, 40.0, 30.0, 35.0, 20.0, 50.0, 30.0, 50.0, 20.0, 20.0, 135.0, 135.0, 130.0, 20.0, 125.0, 20.0, 20.0, 40.0, 35.0, 50.0, 45.0, 170.0, 85.0, 50.0, 60.0, 50.0, 40.0, 0.0, 20.0, 40.0, 40.0, 20.0, 195.0, 40.0, 50.0, 200.0, 50.0, 20.0, 50.0, 50.0, 50.0, 50.0, 50.0, 50.0, 50.0, 20.0, 75.0, 50.0, 150.0, 195.0, 20.0, 50.0, 100.0, 40.0, 110.0, 60.0, 85.0, 195.0, 100.0, 95.0, 150.0, 70.0, 100.0, 100.0, 195.0, 150.0, 125.0, 145.0, 100.0, 75.0, 200.0, 135.0, 95.0, 80.0, 65.0, 20.0, 25.0, 80.0, 150.0, 0.0, 0.0, 20.0, 20.0, 65.0, 20.0, 0.0, 200.0, 195.0, 20.0, 50.0, 0.0, 50.0, 120.0, 95.0, 0.0, 200.0, 150.0, 50.0, 95.0, 30.0, 195.0, 195.0, 195.0, 95.0, 55.0, 195.0, 100.0, 20.0, 20.0, 195.0, 115.0, 0.0, 200.0, 20.0, 20.0, 195.0, 150.0, 195.0, 150.0, 20.0, 95.0, 50.0, 195.0, 20.0, 25.0, 75.0, 140.0, 0.0, 70.0, 30.0, 115.0, 50.0, 100.0, 100.0, 60.0, 0.0, 100.0, 50.0, 20.0, 40.0, 35.0, 25.0, 100.0, 195.0, 20.0, 100.0, 20.0, 40.0, 40.0, 100.0, 100.0, 45.0, 195.0, 180.0, 50.0, 20.0, 25.0, 50.0, 20.0, 120.0, 20.0, 20.0, 25.0, 95.0, 100.0, 50.0, 60.0, 195.0, 195.0, 70.0, 100.0, 75.0, 0.0, 60.0, 115.0, 0.0, 75.0, 20.0, 30.0, 200.0, 70.0, 200.0, 35.0, 0.0, 20.0, 20.0, 20.0, 35.0, 40.0, 20.0, 45.0, 50.0, 50.0, 20.0, 20.0, 30.0, 20.0, 195.0, 20.0, 20.0, 95.0, 50.0, 150.0, 75.0, 200.0, 115.0, 20.0, 40.0, 20.0, 170.0, 200.0, 20.0, 35.0, 95.0, 25.0, 75.0, 20.0, 200.0, 200.0, 125.0, 20.0, 30.0, 20.0, 20.0, 55.0, 200.0, 50.0, 20.0, 60.0, 120.0, 40.0, 45.0, 30.0, 175.0, 95.0, 40.0, 185.0, 20.0, 50.0, 45.0, 100.0, 20.0, 100.0, 40.0, 50.0, 35.0, 95.0, 20.0, 75.0, 145.0, 95.0, 100.0, 50.0, 50.0, 20.0, 70.0, 20.0, 195.0, 150.0, 100.0, 140.0, 40.0, 20.0, 40.0, 20.0, 0.0, 45.0, 40.0, 50.0, 200.0, 35.0, 200.0, 100.0, 75.0, 95.0, 195.0, 95.0, 75.0, 20.0, 20.0, 195.0, 150.0, 20.0, 90.0, 50.0, 110.0, 50.0, 50.0, 100.0, 20.0, 115.0, 200.0, 30.0, 20.0, 145.0, 40.0, 20.0, 0.0, 0.0, 20.0, 75.0, 140.0, 150.0, 20.0, 95.0, 50.0, 200.0, 20.0, 75.0, 20.0, 75.0, 40.0, 20.0, 20.0, 35.0, 195.0, 20.0, 80.0, 50.0, 95.0, 50.0, 20.0, 50.0, 35.0, 0.0, 90.0, 75.0, 30.0, 100.0, 40.0, 50.0, 20.0, 145.0, 30.0, 50.0, 35.0, 95.0, 45.0, 0.0, 195.0, 0.0, 100.0, 175.0, 75.0, 110.0, 190.0, 0.0, 0.0, 195.0, 20.0, 95.0, 50.0, 40.0, 0.0, 20.0, 120.0, 85.0, 20.0, 60.0, 40.0, 200.0, 20.0, 0.0, 35.0, 0.0, 60.0, 30.0, 35.0, 45.0, 55.0, 0.0, 20.0, 0.0, 55.0, 0.0, 50.0, 200.0, 0.0, 0.0, 0.0, 0.0, 0.0, 125.0, 35.0, 80.0, 50.0, 80.0, 20.0, 20.0, 145.0, 100.0, 85.0, 25.0, 50.0, 200.0, 0.0, 20.0, 50.0, 0.0, 30.0, 20.0, 20.0, 30.0, 25.0, 0.0, 30.0, 0.0, 20.0, 0.0, 75.0, 35.0, 95.0, 25.0, 195.0, 95.0, 50.0, 200.0, 50.0, 55.0, 195.0, 40.0, 85.0, 20.0, 40.0, 45.0, 25.0, 125.0, 80.0, 200.0, 45.0, 150.0, 45.0, 200.0, 65.0, 35.0, 195.0, 20.0, 50.0, 200.0, 60.0, 0.0, 30.0, 145.0, 50.0, 40.0, 0.0, 20.0, 20.0, 40.0, 20.0, 35.0, 200.0, 25.0, 100.0, 20.0, 75.0, 95.0, 30.0, 40.0, 0.0, 200.0, 95.0, 85.0, 20.0, 55.0, 85.0, 120.0, 40.0, 50.0, 75.0, 50.0, 100.0, 40.0, 50.0, 50.0, 20.0, 100.0, 50.0, 20.0, 40.0, 195.0, 200.0, 200.0, 195.0, 40.0, 50.0, 50.0, 95.0, 95.0, 35.0, 200.0, 20.0, 20.0, 20.0, 50.0, 50.0, 85.0, 20.0, 40.0, 85.0, 20.0, 95.0, 50.0, 30.0, 120.0, 20.0, 20.0, 45.0, 25.0, 30.0, 40.0, 90.0, 0.0, 0.0, 95.0, 50.0, 20.0, 40.0, 0.0, 200.0, 35.0, 20.0, 25.0, 30.0, 45.0, 0.0, 40.0, 50.0, 20.0, 100.0, 40.0, 50.0], \"x0\": \" \", \"xaxis\": \"x\", \"y\": [\"Business Finance\", \"Business Finance\", \"Business Finance\", \"Business Finance\", \"Business Finance\", \"Business Finance\", \"Business Finance\", \"Business Finance\", \"Business Finance\", \"Business Finance\", \"Business Finance\", \"Business Finance\", \"Business Finance\", \"Business Finance\", \"Business Finance\", \"Business Finance\", \"Business Finance\", \"Business Finance\", \"Business Finance\", \"Business Finance\", \"Business Finance\", \"Business Finance\", \"Business Finance\", \"Business Finance\", \"Business Finance\", \"Business Finance\", \"Business Finance\", \"Business Finance\", \"Business Finance\", \"Business Finance\", \"Business Finance\", \"Business Finance\", \"Business Finance\", \"Business Finance\", \"Business Finance\", \"Business Finance\", \"Business Finance\", \"Business Finance\", \"Business Finance\", \"Business Finance\", \"Business Finance\", \"Business Finance\", \"Business Finance\", \"Business Finance\", \"Business Finance\", \"Business Finance\", \"Business Finance\", \"Business Finance\", \"Business Finance\", \"Business Finance\", \"Business Finance\", \"Business Finance\", \"Business Finance\", \"Business Finance\", \"Business Finance\", \"Business Finance\", \"Business Finance\", \"Business Finance\", \"Business Finance\", \"Business Finance\", \"Business Finance\", \"Business Finance\", \"Business Finance\", \"Business Finance\", \"Business Finance\", \"Business Finance\", \"Business Finance\", \"Business Finance\", \"Business Finance\", \"Business Finance\", \"Business Finance\", \"Business Finance\", \"Business Finance\", \"Business Finance\", \"Business Finance\", \"Business Finance\", \"Business Finance\", \"Business Finance\", \"Business Finance\", \"Business Finance\", \"Business Finance\", \"Business Finance\", \"Business Finance\", \"Business Finance\", \"Business Finance\", \"Business Finance\", \"Business Finance\", \"Business Finance\", \"Business Finance\", \"Business Finance\", \"Business Finance\", \"Business Finance\", \"Business Finance\", \"Business Finance\", \"Business Finance\", \"Business Finance\", \"Business Finance\", \"Business Finance\", \"Business Finance\", \"Business Finance\", \"Business Finance\", \"Business Finance\", \"Business Finance\", \"Business Finance\", \"Business Finance\", \"Business Finance\", \"Business Finance\", \"Business Finance\", \"Business Finance\", \"Business Finance\", \"Business Finance\", \"Business Finance\", \"Business Finance\", \"Business Finance\", \"Business Finance\", \"Business Finance\", \"Business Finance\", \"Business Finance\", \"Business Finance\", \"Business Finance\", \"Business Finance\", \"Business Finance\", \"Business Finance\", \"Business Finance\", \"Business Finance\", \"Business Finance\", \"Business Finance\", \"Business Finance\", \"Business Finance\", \"Business Finance\", \"Business Finance\", \"Business Finance\", \"Business Finance\", \"Business Finance\", \"Business Finance\", \"Business Finance\", \"Business Finance\", \"Business Finance\", \"Business Finance\", \"Business Finance\", \"Business Finance\", \"Business Finance\", \"Business Finance\", \"Business Finance\", \"Business Finance\", \"Business Finance\", \"Business Finance\", \"Business Finance\", \"Business Finance\", \"Business Finance\", \"Business Finance\", \"Business Finance\", \"Business Finance\", \"Business Finance\", \"Business Finance\", \"Business Finance\", \"Business Finance\", \"Business Finance\", \"Business Finance\", \"Business Finance\", \"Business Finance\", \"Business Finance\", \"Business Finance\", \"Business Finance\", \"Business Finance\", \"Business Finance\", \"Business Finance\", \"Business Finance\", \"Business Finance\", \"Business Finance\", \"Business Finance\", \"Business Finance\", \"Business Finance\", \"Business Finance\", \"Business Finance\", \"Business Finance\", \"Business Finance\", \"Business Finance\", \"Business Finance\", \"Business Finance\", \"Business Finance\", \"Business Finance\", \"Business Finance\", \"Business Finance\", \"Business Finance\", \"Business Finance\", \"Business Finance\", \"Business Finance\", \"Business Finance\", \"Business Finance\", \"Business Finance\", \"Business Finance\", \"Business Finance\", \"Business Finance\", \"Business Finance\", \"Business Finance\", \"Business Finance\", \"Business Finance\", \"Business Finance\", \"Business Finance\", \"Business Finance\", \"Business Finance\", \"Business Finance\", \"Business Finance\", \"Business Finance\", \"Business Finance\", \"Business Finance\", \"Business Finance\", \"Business Finance\", \"Business Finance\", \"Business Finance\", \"Business Finance\", \"Business Finance\", \"Business Finance\", \"Business Finance\", \"Business Finance\", \"Business Finance\", \"Business Finance\", \"Business Finance\", \"Business Finance\", \"Business Finance\", \"Business Finance\", \"Business Finance\", \"Business Finance\", \"Business Finance\", \"Business Finance\", \"Business Finance\", \"Business Finance\", \"Business Finance\", \"Business Finance\", \"Business Finance\", \"Business Finance\", \"Business Finance\", \"Business Finance\", \"Business Finance\", \"Business Finance\", \"Business Finance\", \"Business Finance\", \"Business Finance\", \"Business Finance\", \"Business Finance\", \"Business Finance\", \"Business Finance\", \"Business Finance\", \"Business Finance\", \"Business Finance\", \"Business Finance\", \"Business Finance\", \"Business Finance\", \"Business Finance\", \"Business Finance\", \"Business Finance\", \"Business Finance\", \"Business Finance\", \"Business Finance\", \"Business Finance\", \"Business Finance\", \"Business Finance\", \"Business Finance\", \"Business Finance\", \"Business Finance\", \"Business Finance\", \"Business Finance\", \"Business Finance\", \"Business Finance\", \"Business Finance\", \"Business Finance\", \"Business Finance\", \"Business Finance\", \"Business Finance\", \"Business Finance\", \"Business Finance\", \"Business Finance\", \"Business Finance\", \"Business Finance\", \"Business Finance\", \"Business Finance\", \"Business Finance\", \"Business Finance\", \"Business Finance\", \"Business Finance\", \"Business Finance\", \"Business Finance\", \"Business Finance\", \"Business Finance\", \"Business Finance\", \"Business Finance\", \"Business Finance\", \"Business Finance\", \"Business Finance\", \"Business Finance\", \"Business Finance\", \"Business Finance\", \"Business Finance\", \"Business Finance\", \"Business Finance\", \"Business Finance\", \"Business Finance\", \"Business Finance\", \"Business Finance\", \"Business Finance\", \"Business Finance\", \"Business Finance\", \"Business Finance\", \"Business Finance\", \"Business Finance\", \"Business Finance\", \"Business Finance\", \"Business Finance\", \"Business Finance\", \"Business Finance\", \"Business Finance\", \"Business Finance\", \"Business Finance\", \"Business Finance\", \"Business Finance\", \"Business Finance\", \"Business Finance\", \"Business Finance\", \"Business Finance\", \"Business Finance\", \"Business Finance\", \"Business Finance\", \"Business Finance\", \"Business Finance\", \"Business Finance\", \"Business Finance\", \"Business Finance\", \"Business Finance\", \"Business Finance\", \"Business Finance\", \"Business Finance\", \"Business Finance\", \"Business Finance\", \"Business Finance\", \"Business Finance\", \"Business Finance\", \"Business Finance\", \"Business Finance\", \"Business Finance\", \"Business Finance\", \"Business Finance\", \"Business Finance\", \"Business Finance\", \"Business Finance\", \"Business Finance\", \"Business Finance\", \"Business Finance\", \"Business Finance\", \"Business Finance\", \"Business Finance\", \"Business Finance\", \"Business Finance\", \"Business Finance\", \"Business Finance\", \"Business Finance\", \"Business Finance\", \"Business Finance\", \"Business Finance\", \"Business Finance\", \"Business Finance\", \"Business Finance\", \"Business Finance\", \"Business Finance\", \"Business Finance\", \"Business Finance\", \"Business Finance\", \"Business Finance\", \"Business Finance\", \"Business Finance\", \"Business Finance\", \"Business Finance\", \"Business Finance\", \"Business Finance\", \"Business Finance\", \"Business Finance\", \"Business Finance\", \"Business Finance\", \"Business Finance\", \"Business Finance\", \"Business Finance\", \"Business Finance\", \"Business Finance\", \"Business Finance\", \"Business Finance\", \"Business Finance\", \"Business Finance\", \"Business Finance\", \"Business Finance\", \"Business Finance\", \"Business Finance\", \"Business Finance\", \"Business Finance\", \"Business Finance\", \"Business Finance\", \"Business Finance\", \"Business Finance\", \"Business Finance\", \"Business Finance\", \"Business Finance\", \"Business Finance\", \"Business Finance\", \"Business Finance\", \"Business Finance\", \"Business Finance\", \"Business Finance\", \"Business Finance\", \"Business Finance\", \"Business Finance\", \"Business Finance\", \"Business Finance\", \"Business Finance\", \"Business Finance\", \"Business Finance\", \"Business Finance\", \"Business Finance\", \"Business Finance\", \"Business Finance\", \"Business Finance\", \"Business Finance\", \"Business Finance\", \"Business Finance\", \"Business Finance\", \"Business Finance\", \"Business Finance\", \"Business Finance\", \"Business Finance\", \"Business Finance\", \"Business Finance\", \"Business Finance\", \"Business Finance\", \"Business Finance\", \"Business Finance\", \"Business Finance\", \"Business Finance\", \"Business Finance\", \"Business Finance\", \"Business Finance\", \"Business Finance\", \"Business Finance\", \"Business Finance\", \"Business Finance\", \"Business Finance\", \"Business Finance\", \"Business Finance\", \"Business Finance\", \"Business Finance\", \"Business Finance\", \"Business Finance\", \"Business Finance\", \"Business Finance\", \"Business Finance\", \"Business Finance\", \"Business Finance\", \"Business Finance\", \"Business Finance\", \"Business Finance\", \"Business Finance\", \"Business Finance\", \"Business Finance\", \"Business Finance\", \"Business Finance\", \"Business Finance\", \"Business Finance\", \"Business Finance\", \"Business Finance\", \"Business Finance\", \"Business Finance\", \"Business Finance\", \"Business Finance\", \"Business Finance\", \"Business Finance\", \"Business Finance\", \"Business Finance\", \"Business Finance\", \"Business Finance\", \"Business Finance\", \"Business Finance\", \"Business Finance\", \"Business Finance\", \"Business Finance\", \"Business Finance\", \"Business Finance\", \"Business Finance\", \"Business Finance\", \"Business Finance\", \"Business Finance\", \"Business Finance\", \"Business Finance\", \"Business Finance\", \"Business Finance\", \"Business Finance\", \"Business Finance\", \"Business Finance\", \"Business Finance\", \"Business Finance\", \"Business Finance\", \"Business Finance\", \"Business Finance\", \"Business Finance\", \"Business Finance\", \"Business Finance\", \"Business Finance\", \"Business Finance\", \"Business Finance\", \"Business Finance\", \"Business Finance\", \"Business Finance\", \"Business Finance\", \"Business Finance\", \"Business Finance\", \"Business Finance\", \"Business Finance\", \"Business Finance\", \"Business Finance\", \"Business Finance\", \"Business Finance\", \"Business Finance\", \"Business Finance\", \"Business Finance\", \"Business Finance\", \"Business Finance\", \"Business Finance\", \"Business Finance\", \"Business Finance\", \"Business Finance\", \"Business Finance\", \"Business Finance\", \"Business Finance\", \"Business Finance\", \"Business Finance\", \"Business Finance\", \"Business Finance\", \"Business Finance\", \"Business Finance\", \"Business Finance\", \"Business Finance\", \"Business Finance\", \"Business Finance\", \"Business Finance\", \"Business Finance\", \"Business Finance\", \"Business Finance\", \"Business Finance\", \"Business Finance\", \"Business Finance\", \"Business Finance\", \"Business Finance\", \"Business Finance\", \"Business Finance\", \"Business Finance\", \"Business Finance\", \"Business Finance\", \"Business Finance\", \"Business Finance\", \"Business Finance\", \"Business Finance\", \"Business Finance\", \"Business Finance\", \"Business Finance\", \"Business Finance\", \"Business Finance\", \"Business Finance\", \"Business Finance\", \"Business Finance\", \"Business Finance\", \"Business Finance\", \"Business Finance\", \"Business Finance\", \"Business Finance\", \"Business Finance\", \"Business Finance\", \"Business Finance\", \"Business Finance\", \"Business Finance\", \"Business Finance\", \"Business Finance\", \"Business Finance\", \"Business Finance\", \"Business Finance\", \"Business Finance\", \"Business Finance\", \"Business Finance\", \"Business Finance\", \"Business Finance\", \"Business Finance\", \"Business Finance\", \"Business Finance\", \"Business Finance\", \"Business Finance\", \"Business Finance\", \"Business Finance\", \"Business Finance\", \"Business Finance\", \"Business Finance\", \"Business Finance\", \"Business Finance\", \"Business Finance\", \"Business Finance\", \"Business Finance\", \"Business Finance\", \"Business Finance\", \"Business Finance\", \"Business Finance\", \"Business Finance\", \"Business Finance\", \"Business Finance\", \"Business Finance\", \"Business Finance\", \"Business Finance\", \"Business Finance\", \"Business Finance\", \"Business Finance\", \"Business Finance\", \"Business Finance\", \"Business Finance\", \"Business Finance\", \"Business Finance\", \"Business Finance\", \"Business Finance\", \"Business Finance\", \"Business Finance\", \"Business Finance\", \"Business Finance\", \"Business Finance\", \"Business Finance\", \"Business Finance\", \"Business Finance\", \"Business Finance\", \"Business Finance\", \"Business Finance\", \"Business Finance\", \"Business Finance\", \"Business Finance\", \"Business Finance\", \"Business Finance\", \"Business Finance\", \"Business Finance\", \"Business Finance\", \"Business Finance\", \"Business Finance\", \"Business Finance\", \"Business Finance\", \"Business Finance\", \"Business Finance\", \"Graphic Design\", \"Graphic Design\", \"Graphic Design\", \"Graphic Design\", \"Graphic Design\", \"Graphic Design\", \"Graphic Design\", \"Graphic Design\", \"Graphic Design\", \"Graphic Design\", \"Graphic Design\", \"Graphic Design\", \"Graphic Design\", \"Graphic Design\", \"Graphic Design\", \"Graphic Design\", \"Graphic Design\", \"Graphic Design\", \"Graphic Design\", \"Graphic Design\", \"Graphic Design\", \"Graphic Design\", \"Graphic Design\", \"Graphic Design\", \"Graphic Design\", \"Graphic Design\", \"Graphic Design\", \"Graphic Design\", \"Graphic Design\", \"Graphic Design\", \"Graphic Design\", \"Graphic Design\", \"Graphic Design\", \"Graphic Design\", \"Graphic Design\", \"Graphic Design\", \"Graphic Design\", \"Graphic Design\", \"Graphic Design\", \"Graphic Design\", \"Graphic Design\", \"Graphic Design\", \"Graphic Design\", \"Graphic Design\", \"Graphic Design\", \"Graphic Design\", \"Graphic Design\", \"Graphic Design\", \"Graphic Design\", \"Graphic Design\", \"Graphic Design\", \"Graphic Design\", \"Graphic Design\", \"Graphic Design\", \"Graphic Design\", \"Graphic Design\", \"Graphic Design\", \"Graphic Design\", \"Graphic Design\", \"Graphic Design\", \"Graphic Design\", \"Graphic Design\", \"Graphic Design\", \"Graphic Design\", \"Graphic Design\", \"Graphic Design\", \"Graphic Design\", \"Graphic Design\", \"Graphic Design\", \"Graphic Design\", \"Graphic Design\", \"Graphic Design\", \"Graphic Design\", \"Graphic Design\", \"Graphic Design\", \"Graphic Design\", \"Graphic Design\", \"Graphic Design\", \"Graphic Design\", \"Graphic Design\", \"Graphic Design\", \"Graphic Design\", \"Graphic Design\", \"Graphic Design\", \"Graphic Design\", \"Graphic Design\", \"Graphic Design\", \"Graphic Design\", \"Graphic Design\", \"Graphic Design\", \"Graphic Design\", \"Graphic Design\", \"Graphic Design\", \"Graphic Design\", \"Graphic Design\", \"Graphic Design\", \"Graphic Design\", \"Graphic Design\", \"Graphic Design\", \"Graphic Design\", \"Graphic Design\", \"Graphic Design\", \"Graphic Design\", \"Graphic Design\", \"Graphic Design\", \"Graphic Design\", \"Graphic Design\", \"Graphic Design\", \"Graphic Design\", \"Graphic Design\", \"Graphic Design\", \"Graphic Design\", \"Graphic Design\", \"Graphic Design\", \"Graphic Design\", \"Graphic Design\", \"Graphic Design\", \"Graphic Design\", \"Graphic Design\", \"Graphic Design\", \"Graphic Design\", \"Graphic Design\", \"Graphic Design\", \"Graphic Design\", \"Graphic Design\", \"Graphic Design\", \"Graphic Design\", \"Graphic Design\", \"Graphic Design\", \"Graphic Design\", \"Graphic Design\", \"Graphic Design\", \"Graphic Design\", \"Graphic Design\", \"Graphic Design\", \"Graphic Design\", \"Graphic Design\", \"Graphic Design\", \"Graphic Design\", \"Graphic Design\", \"Graphic Design\", \"Graphic Design\", \"Graphic Design\", \"Graphic Design\", \"Graphic Design\", \"Graphic Design\", \"Graphic Design\", \"Graphic Design\", \"Graphic Design\", \"Graphic Design\", \"Graphic Design\", \"Graphic Design\", \"Graphic Design\", \"Graphic Design\", \"Graphic Design\", \"Graphic Design\", \"Graphic Design\", \"Graphic Design\", \"Graphic Design\", \"Graphic Design\", \"Graphic Design\", \"Graphic Design\", \"Graphic Design\", \"Graphic Design\", \"Graphic Design\", \"Graphic Design\", \"Graphic Design\", \"Graphic Design\", \"Graphic Design\", \"Graphic Design\", \"Graphic Design\", \"Graphic Design\", \"Graphic Design\", \"Graphic Design\", \"Graphic Design\", \"Graphic Design\", \"Graphic Design\", \"Graphic Design\", \"Graphic Design\", \"Graphic Design\", \"Graphic Design\", \"Graphic Design\", \"Graphic Design\", \"Graphic Design\", \"Graphic Design\", \"Graphic Design\", \"Graphic Design\", \"Graphic Design\", \"Graphic Design\", \"Graphic Design\", \"Graphic Design\", \"Graphic Design\", \"Graphic Design\", \"Graphic Design\", \"Graphic Design\", \"Graphic Design\", \"Graphic Design\", \"Graphic Design\", \"Graphic Design\", \"Graphic Design\", \"Graphic Design\", \"Graphic Design\", \"Graphic Design\", \"Graphic Design\", \"Graphic Design\", \"Graphic Design\", \"Graphic Design\", \"Graphic Design\", \"Graphic Design\", \"Graphic Design\", \"Graphic Design\", \"Graphic Design\", \"Graphic Design\", \"Graphic Design\", \"Graphic Design\", \"Graphic Design\", \"Graphic Design\", \"Graphic Design\", \"Graphic Design\", \"Graphic Design\", \"Graphic Design\", \"Graphic Design\", \"Graphic Design\", \"Graphic Design\", \"Graphic Design\", \"Graphic Design\", \"Graphic Design\", \"Graphic Design\", \"Graphic Design\", \"Graphic Design\", \"Graphic Design\", \"Graphic Design\", \"Graphic Design\", \"Graphic Design\", \"Graphic Design\", \"Graphic Design\", \"Graphic Design\", \"Graphic Design\", \"Graphic Design\", \"Graphic Design\", \"Graphic Design\", \"Graphic Design\", \"Graphic Design\", \"Graphic Design\", \"Graphic Design\", \"Graphic Design\", \"Graphic Design\", \"Graphic Design\", \"Graphic Design\", \"Graphic Design\", \"Graphic Design\", \"Graphic Design\", \"Graphic Design\", \"Graphic Design\", \"Graphic Design\", \"Graphic Design\", \"Graphic Design\", \"Graphic Design\", \"Graphic Design\", \"Graphic Design\", \"Graphic Design\", \"Musical Instruments\", \"Musical Instruments\", \"Musical Instruments\", \"Musical Instruments\", \"Musical Instruments\", \"Musical Instruments\", \"Musical Instruments\", \"Musical Instruments\", \"Musical Instruments\", \"Musical Instruments\", \"Musical Instruments\", \"Musical Instruments\", \"Musical Instruments\", \"Musical Instruments\", \"Musical Instruments\", \"Musical Instruments\", \"Musical Instruments\", \"Musical Instruments\", \"Musical Instruments\", \"Musical Instruments\", \"Musical Instruments\", \"Musical Instruments\", \"Musical Instruments\", \"Musical Instruments\", \"Musical Instruments\", \"Musical Instruments\", \"Musical Instruments\", \"Musical Instruments\", \"Musical Instruments\", \"Musical Instruments\", \"Musical Instruments\", \"Musical Instruments\", \"Musical Instruments\", \"Musical Instruments\", \"Musical Instruments\", \"Musical Instruments\", \"Musical Instruments\", \"Musical Instruments\", \"Musical Instruments\", \"Musical Instruments\", \"Musical Instruments\", \"Musical Instruments\", \"Musical Instruments\", \"Musical Instruments\", \"Musical Instruments\", \"Musical Instruments\", \"Musical Instruments\", \"Musical Instruments\", \"Musical Instruments\", \"Musical Instruments\", \"Musical Instruments\", \"Musical Instruments\", \"Musical Instruments\", \"Musical Instruments\", \"Musical Instruments\", \"Musical Instruments\", \"Musical Instruments\", \"Musical Instruments\", \"Musical Instruments\", \"Musical Instruments\", \"Musical Instruments\", \"Musical Instruments\", \"Musical Instruments\", \"Musical Instruments\", \"Musical Instruments\", \"Musical Instruments\", \"Musical Instruments\", \"Musical Instruments\", \"Musical Instruments\", \"Musical Instruments\", \"Musical Instruments\", \"Musical Instruments\", \"Musical Instruments\", \"Musical Instruments\", \"Musical Instruments\", \"Musical Instruments\", \"Musical Instruments\", \"Musical Instruments\", \"Musical Instruments\", \"Musical Instruments\", \"Musical Instruments\", \"Musical Instruments\", \"Musical Instruments\", \"Musical Instruments\", \"Musical Instruments\", \"Musical Instruments\", \"Musical Instruments\", \"Musical Instruments\", \"Musical Instruments\", \"Musical Instruments\", \"Musical Instruments\", \"Musical Instruments\", \"Musical Instruments\", \"Musical Instruments\", \"Musical Instruments\", \"Musical Instruments\", \"Musical Instruments\", \"Musical Instruments\", \"Musical Instruments\", \"Musical Instruments\", \"Musical Instruments\", \"Musical Instruments\", \"Musical Instruments\", \"Musical Instruments\", \"Musical Instruments\", \"Musical Instruments\", \"Musical Instruments\", \"Musical Instruments\", \"Musical Instruments\", \"Musical Instruments\", \"Musical Instruments\", \"Musical Instruments\", \"Musical Instruments\", \"Musical Instruments\", \"Musical Instruments\", \"Musical Instruments\", \"Musical Instruments\", \"Musical Instruments\", \"Musical Instruments\", \"Musical Instruments\", \"Musical Instruments\", \"Musical Instruments\", \"Musical Instruments\", \"Musical Instruments\", \"Musical Instruments\", \"Musical Instruments\", \"Musical Instruments\", \"Musical Instruments\", \"Musical Instruments\", \"Musical Instruments\", \"Musical Instruments\", \"Musical Instruments\", \"Musical Instruments\", \"Musical Instruments\", \"Musical Instruments\", \"Musical Instruments\", \"Musical Instruments\", \"Musical Instruments\", \"Musical Instruments\", \"Musical Instruments\", \"Musical Instruments\", \"Musical Instruments\", \"Musical Instruments\", \"Musical Instruments\", \"Musical Instruments\", \"Musical Instruments\", \"Musical Instruments\", \"Musical Instruments\", \"Musical Instruments\", \"Musical Instruments\", \"Musical Instruments\", \"Musical Instruments\", \"Musical Instruments\", \"Musical Instruments\", \"Musical Instruments\", \"Musical Instruments\", \"Musical Instruments\", \"Musical Instruments\", \"Musical Instruments\", \"Musical Instruments\", \"Musical Instruments\", \"Musical Instruments\", \"Musical Instruments\", \"Musical Instruments\", \"Musical Instruments\", \"Musical Instruments\", \"Musical Instruments\", \"Musical Instruments\", \"Musical Instruments\", \"Musical Instruments\", \"Musical Instruments\", \"Musical Instruments\", \"Musical Instruments\", \"Musical Instruments\", \"Musical Instruments\", \"Musical Instruments\", \"Musical Instruments\", \"Musical Instruments\", \"Musical Instruments\", \"Musical Instruments\", \"Musical Instruments\", \"Musical Instruments\", \"Musical Instruments\", \"Musical Instruments\", \"Musical Instruments\", \"Musical Instruments\", \"Musical Instruments\", \"Musical Instruments\", \"Musical Instruments\", \"Musical Instruments\", \"Musical Instruments\", \"Musical Instruments\", \"Musical Instruments\", \"Musical Instruments\", \"Musical Instruments\", \"Musical Instruments\", \"Musical Instruments\", \"Musical Instruments\", \"Musical Instruments\", \"Musical Instruments\", \"Musical Instruments\", \"Musical Instruments\", \"Musical Instruments\", \"Musical Instruments\", \"Musical Instruments\", \"Musical Instruments\", \"Musical Instruments\", \"Musical Instruments\", \"Musical Instruments\", \"Musical Instruments\", \"Musical Instruments\", \"Musical Instruments\", \"Musical Instruments\", \"Musical Instruments\", \"Musical Instruments\", \"Musical Instruments\", \"Musical Instruments\", \"Musical Instruments\", \"Musical Instruments\", \"Musical Instruments\", \"Musical Instruments\", \"Musical Instruments\", \"Musical Instruments\", \"Musical Instruments\", \"Musical Instruments\", \"Musical Instruments\", \"Musical Instruments\", \"Musical Instruments\", \"Musical Instruments\", \"Musical Instruments\", \"Musical Instruments\", \"Musical Instruments\", \"Musical Instruments\", \"Musical Instruments\", \"Musical Instruments\", \"Musical Instruments\", \"Musical Instruments\", \"Musical Instruments\", \"Musical Instruments\", \"Musical Instruments\", \"Musical Instruments\", \"Musical Instruments\", \"Musical Instruments\", \"Musical Instruments\", \"Musical Instruments\", \"Musical Instruments\", \"Musical Instruments\", \"Musical Instruments\", \"Musical Instruments\", \"Musical Instruments\", \"Musical Instruments\", \"Musical Instruments\", \"Musical Instruments\", \"Musical Instruments\", \"Musical Instruments\", \"Musical Instruments\", \"Musical Instruments\", \"Musical Instruments\", \"Musical Instruments\", \"Musical Instruments\", \"Musical Instruments\", \"Musical Instruments\", \"Web Development\", \"Web Development\", \"Web Development\", \"Web Development\", \"Web Development\", \"Web Development\", \"Web Development\", \"Web Development\", \"Web Development\", \"Web Development\", \"Web Development\", \"Web Development\", \"Web Development\", \"Web Development\", \"Web Development\", \"Web Development\", \"Web Development\", \"Web Development\", \"Web Development\", \"Web Development\", \"Web Development\", \"Web Development\", \"Web Development\", \"Web Development\", \"Web Development\", \"Web Development\", \"Web Development\", \"Web Development\", \"Web Development\", \"Web Development\", \"Web Development\", \"Web Development\", \"Web Development\", \"Web Development\", \"Web Development\", \"Web Development\", \"Web Development\", \"Web Development\", \"Web Development\", \"Web Development\", \"Web Development\", \"Web Development\", \"Web Development\", \"Web Development\", \"Web Development\", \"Web Development\", \"Web Development\", \"Web Development\", \"Web Development\", \"Web Development\", \"Web Development\", \"Web Development\", \"Web Development\", \"Web Development\", \"Web Development\", \"Web Development\", \"Web Development\", \"Web Development\", \"Web Development\", \"Web Development\", \"Web Development\", \"Web Development\", \"Web Development\", \"Web Development\", \"Web Development\", \"Web Development\", \"Web Development\", \"Web Development\", \"Web Development\", \"Web Development\", \"Web Development\", \"Web Development\", \"Web Development\", \"Web Development\", \"Web Development\", \"Web Development\", \"Web Development\", \"Web Development\", \"Web Development\", \"Web Development\", \"Web Development\", \"Web Development\", \"Web Development\", \"Web Development\", \"Web Development\", \"Web Development\", \"Web Development\", \"Web Development\", \"Web Development\", \"Web Development\", \"Web Development\", \"Web Development\", \"Web Development\", \"Web Development\", \"Web Development\", \"Web Development\", \"Web Development\", \"Web Development\", \"Web Development\", \"Web Development\", \"Web Development\", \"Web Development\", \"Web Development\", \"Web Development\", \"Web Development\", \"Web Development\", \"Web Development\", \"Web Development\", \"Web Development\", \"Web Development\", \"Web Development\", \"Web Development\", \"Web Development\", \"Web Development\", \"Web Development\", \"Web Development\", \"Web Development\", \"Web Development\", \"Web Development\", \"Web Development\", \"Web Development\", \"Web Development\", \"Web Development\", \"Web Development\", \"Web Development\", \"Web Development\", \"Web Development\", \"Web Development\", \"Web Development\", \"Web Development\", \"Web Development\", \"Web Development\", \"Web Development\", \"Web Development\", \"Web Development\", \"Web Development\", \"Web Development\", \"Web Development\", \"Web Development\", \"Web Development\", \"Web Development\", \"Web Development\", \"Web Development\", \"Web Development\", \"Web Development\", \"Web Development\", \"Web Development\", \"Web Development\", \"Web Development\", \"Web Development\", \"Web Development\", \"Web Development\", \"Web Development\", \"Web Development\", \"Web Development\", \"Web Development\", \"Web Development\", \"Web Development\", \"Web Development\", \"Web Development\", \"Web Development\", \"Web Development\", \"Web Development\", \"Web Development\", \"Web Development\", \"Web Development\", \"Web Development\", \"Web Development\", \"Web Development\", \"Web Development\", \"Web Development\", \"Web Development\", \"Web Development\", \"Web Development\", \"Web Development\", \"Web Development\", \"Web Development\", \"Web Development\", \"Web Development\", \"Web Development\", \"Web Development\", \"Web Development\", \"Web Development\", \"Web Development\", \"Web Development\", \"Web Development\", \"Web Development\", \"Web Development\", \"Web Development\", \"Web Development\", \"Web Development\", \"Web Development\", \"Web Development\", \"Web Development\", \"Web Development\", \"Web Development\", \"Web Development\", \"Web Development\", \"Web Development\", \"Web Development\", \"Web Development\", \"Web Development\", \"Web Development\", \"Web Development\", \"Web Development\", \"Web Development\", \"Web Development\", \"Web Development\", \"Web Development\", \"Web Development\", \"Web Development\", \"Web Development\", \"Web Development\", \"Web Development\", \"Web Development\", \"Web Development\", \"Web Development\", \"Web Development\", \"Web Development\", \"Web Development\", \"Web Development\", \"Web Development\", \"Web Development\", \"Web Development\", \"Web Development\", \"Web Development\", \"Web Development\", \"Web Development\", \"Web Development\", \"Web Development\", \"Web Development\", \"Web Development\", \"Web Development\", \"Web Development\", \"Web Development\", \"Web Development\", \"Web Development\", \"Web Development\", \"Web Development\", \"Web Development\", \"Web Development\", \"Web Development\", \"Web Development\", \"Web Development\", \"Web Development\", \"Web Development\", \"Web Development\", \"Web Development\", \"Web Development\", \"Web Development\", \"Web Development\", \"Web Development\", \"Web Development\", \"Web Development\", \"Web Development\", \"Web Development\", \"Web Development\", \"Web Development\", \"Web Development\", \"Web Development\", \"Web Development\", \"Web Development\", \"Web Development\", \"Web Development\", \"Web Development\", \"Web Development\", \"Web Development\", \"Web Development\", \"Web Development\", \"Web Development\", \"Web Development\", \"Web Development\", \"Web Development\", \"Web Development\", \"Web Development\", \"Web Development\", \"Web Development\", \"Web Development\", \"Web Development\", \"Web Development\", \"Web Development\", \"Web Development\", \"Web Development\", \"Web Development\", \"Web Development\", \"Web Development\", \"Web Development\", \"Web Development\", \"Web Development\", \"Web Development\", \"Web Development\", \"Web Development\", \"Web Development\", \"Web Development\", \"Web Development\", \"Web Development\", \"Web Development\", \"Web Development\", \"Web Development\", \"Web Development\", \"Web Development\", \"Web Development\", \"Web Development\", \"Web Development\", \"Web Development\", \"Web Development\", \"Web Development\", \"Web Development\", \"Web Development\", \"Web Development\", \"Web Development\", \"Web Development\", \"Web Development\", \"Web Development\", \"Web Development\", \"Web Development\", \"Web Development\", \"Web Development\", \"Web Development\", \"Web Development\", \"Web Development\", \"Web Development\", \"Web Development\", \"Web Development\", \"Web Development\", \"Web Development\", \"Web Development\", \"Web Development\", \"Web Development\", \"Web Development\", \"Web Development\", \"Web Development\", \"Web Development\", \"Web Development\", \"Web Development\", \"Web Development\", \"Web Development\", \"Web Development\", \"Web Development\", \"Web Development\", \"Web Development\", \"Web Development\", \"Web Development\", \"Web Development\", \"Web Development\", \"Web Development\", \"Web Development\", \"Web Development\", \"Web Development\", \"Web Development\", \"Web Development\", \"Web Development\", \"Web Development\", \"Web Development\", \"Web Development\", \"Web Development\", \"Web Development\", \"Web Development\", \"Web Development\", \"Web Development\", \"Web Development\", \"Web Development\", \"Web Development\", \"Web Development\", \"Web Development\", \"Web Development\", \"Web Development\", \"Web Development\", \"Web Development\", \"Web Development\", \"Web Development\", \"Web Development\", \"Web Development\", \"Web Development\", \"Web Development\", \"Web Development\", \"Web Development\", \"Web Development\", \"Web Development\", \"Web Development\", \"Web Development\", \"Web Development\", \"Web Development\", \"Web Development\", \"Web Development\", \"Web Development\", \"Web Development\", \"Web Development\", \"Web Development\", \"Web Development\", \"Web Development\", \"Web Development\", \"Web Development\", \"Web Development\", \"Web Development\", \"Web Development\", \"Web Development\", \"Web Development\", \"Web Development\", \"Web Development\", \"Web Development\", \"Web Development\", \"Web Development\", \"Web Development\", \"Web Development\", \"Web Development\", \"Web Development\", \"Web Development\", \"Web Development\", \"Web Development\", \"Web Development\", \"Web Development\", \"Web Development\", \"Web Development\", \"Web Development\", \"Web Development\", \"Web Development\", \"Web Development\", \"Web Development\", \"Web Development\", \"Web Development\", \"Web Development\", \"Web Development\", \"Web Development\", \"Web Development\", \"Web Development\", \"Web Development\", \"Web Development\", \"Web Development\", \"Web Development\", \"Web Development\", \"Web Development\", \"Web Development\", \"Web Development\", \"Web Development\", \"Web Development\", \"Web Development\", \"Web Development\", \"Web Development\", \"Web Development\", \"Web Development\", \"Web Development\", \"Web Development\", \"Web Development\", \"Web Development\", \"Web Development\", \"Web Development\", \"Web Development\", \"Web Development\", \"Web Development\", \"Web Development\", \"Web Development\", \"Web Development\", \"Web Development\", \"Web Development\", \"Web Development\", \"Web Development\", \"Web Development\", \"Web Development\", \"Web Development\", \"Web Development\", \"Web Development\", \"Web Development\", \"Web Development\", \"Web Development\", \"Web Development\", \"Web Development\", \"Web Development\", \"Web Development\", \"Web Development\", \"Web Development\", \"Web Development\", \"Web Development\", \"Web Development\", \"Web Development\", \"Web Development\", \"Web Development\", \"Web Development\", \"Web Development\", \"Web Development\", \"Web Development\", \"Web Development\", \"Web Development\", \"Web Development\", \"Web Development\", \"Web Development\"], \"y0\": \" \", \"yaxis\": \"y\"}, {\"alignmentgroup\": \"True\", \"hoverlabel\": {\"namelength\": 0}, \"hovertemplate\": \"level=Intermediate Level<br>price=%{x}<br>subject=%{y}\", \"legendgroup\": \"level=Intermediate Level\", \"marker\": {\"color\": \"#EF553B\"}, \"name\": \"level=Intermediate Level\", \"notched\": false, \"offsetgroup\": \"level=Intermediate Level\", \"orientation\": \"h\", \"showlegend\": true, \"type\": \"box\", \"x\": [45.0, 200.0, 75.0, 175.0, 115.0, 125.0, 145.0, 20.0, 20.0, 20.0, 0.0, 200.0, 20.0, 20.0, 60.0, 200.0, 125.0, 50.0, 120.0, 20.0, 66.02779306549257, 66.02779306549257, 0.0, 0.0, 95.0, 66.02779306549257, 65.0, 50.0, 50.0, 125.0, 30.0, 50.0, 200.0, 20.0, 120.0, 0.0, 25.0, 60.0, 200.0, 66.02779306549257, 45.0, 200.0, 50.0, 60.0, 80.0, 25.0, 66.02779306549257, 66.02779306549257, 50.0, 95.0, 55.0, 40.0, 50.0, 30.0, 100.0, 60.0, 20.0, 25.0, 50.0, 50.0, 100.0, 40.0, 50.0, 40.0, 20.0, 30.0, 20.0, 60.0, 150.0, 40.0, 125.0, 30.0, 40.0, 200.0, 20.0, 50.0, 50.0, 200.0, 120.0, 200.0, 100.0, 0.0, 60.0, 50.0, 50.0, 100.0, 50.0, 20.0, 50.0, 60.0, 20.0, 200.0, 30.0, 20.0, 20.0, 20.0, 20.0, 20.0, 35.0, 70.0, 20.0, 150.0, 200.0, 20.0, 20.0, 30.0, 35.0, 0.0, 45.0, 20.0, 50.0, 25.0, 55.0, 50.0, 25.0, 195.0, 50.0, 40.0, 50.0, 20.0, 20.0, 20.0, 20.0, 25.0, 195.0, 25.0, 25.0, 20.0, 95.0, 20.0, 150.0, 0.0, 100.0, 100.0, 0.0, 30.0, 25.0, 20.0, 20.0, 95.0, 45.0, 150.0, 20.0, 20.0, 20.0, 20.0, 20.0, 20.0, 20.0, 45.0, 20.0, 25.0, 20.0, 20.0, 50.0, 25.0, 50.0, 20.0, 20.0, 20.0, 30.0, 195.0, 195.0, 20.0, 95.0, 20.0, 85.0, 20.0, 25.0, 45.0, 20.0, 35.0, 75.0, 20.0, 0.0, 40.0, 20.0, 50.0, 75.0, 40.0, 40.0, 70.0, 55.0, 40.0, 40.0, 0.0, 95.0, 40.0, 0.0, 50.0, 200.0, 50.0, 50.0, 75.0, 50.0, 95.0, 50.0, 75.0, 75.0, 75.0, 75.0, 50.0, 65.0, 65.0, 35.0, 0.0, 45.0, 40.0, 60.0, 30.0, 30.0, 35.0, 40.0, 20.0, 30.0, 50.0, 30.0, 20.0, 50.0, 35.0, 55.0, 25.0, 195.0, 50.0, 35.0, 50.0, 35.0, 195.0, 40.0, 35.0, 50.0, 50.0, 20.0, 50.0, 35.0, 20.0, 35.0, 50.0, 50.0, 80.0, 25.0, 50.0, 195.0, 40.0, 20.0, 50.0, 40.0, 35.0, 40.0, 35.0, 40.0, 50.0, 35.0, 60.0, 60.0, 50.0, 30.0, 40.0, 25.0, 20.0, 40.0, 20.0, 0.0, 25.0, 40.0, 20.0, 45.0, 30.0, 50.0, 95.0, 200.0, 60.0, 20.0, 20.0, 175.0, 60.0, 80.0, 200.0, 40.0, 195.0, 50.0, 50.0, 0.0, 100.0, 0.0, 0.0, 30.0, 200.0, 20.0, 165.0, 20.0, 50.0, 100.0, 95.0, 40.0, 25.0, 40.0, 50.0, 0.0, 195.0, 20.0, 20.0, 0.0, 50.0, 40.0, 50.0, 200.0, 20.0, 20.0, 25.0, 0.0, 0.0, 95.0, 95.0, 70.0, 195.0, 40.0, 20.0, 195.0, 110.0, 50.0, 50.0, 0.0, 120.0, 30.0, 20.0, 0.0, 0.0, 60.0, 30.0, 0.0, 75.0, 165.0, 0.0, 30.0, 55.0, 200.0, 100.0, 0.0, 25.0, 50.0, 200.0, 40.0, 95.0, 35.0, 20.0, 25.0, 35.0, 20.0, 125.0, 0.0, 125.0, 25.0, 0.0, 150.0, 60.0, 60.0, 20.0, 25.0, 20.0, 20.0, 50.0, 20.0, 65.0, 0.0, 95.0, 20.0, 75.0, 20.0], \"x0\": \" \", \"xaxis\": \"x\", \"y\": [\"Business Finance\", \"Business Finance\", \"Business Finance\", \"Business Finance\", \"Business Finance\", \"Business Finance\", \"Business Finance\", \"Business Finance\", \"Business Finance\", \"Business Finance\", \"Business Finance\", \"Business Finance\", \"Business Finance\", \"Business Finance\", \"Business Finance\", \"Business Finance\", \"Business Finance\", \"Business Finance\", \"Business Finance\", \"Business Finance\", \"Business Finance\", \"Business Finance\", \"Business Finance\", \"Business Finance\", \"Business Finance\", \"Business Finance\", \"Business Finance\", \"Business Finance\", \"Business Finance\", \"Business Finance\", \"Business Finance\", \"Business Finance\", \"Business Finance\", \"Business Finance\", \"Business Finance\", \"Business Finance\", \"Business Finance\", \"Business Finance\", \"Business Finance\", \"Business Finance\", \"Business Finance\", \"Business Finance\", \"Business Finance\", \"Business Finance\", \"Business Finance\", \"Business Finance\", \"Business Finance\", \"Business Finance\", \"Business Finance\", \"Business Finance\", \"Business Finance\", \"Business Finance\", \"Business Finance\", \"Business Finance\", \"Business Finance\", \"Business Finance\", \"Business Finance\", \"Business Finance\", \"Business Finance\", \"Business Finance\", \"Business Finance\", \"Business Finance\", \"Business Finance\", \"Business Finance\", \"Business Finance\", \"Business Finance\", \"Business Finance\", \"Business Finance\", \"Business Finance\", \"Business Finance\", \"Business Finance\", \"Business Finance\", \"Business Finance\", \"Business Finance\", \"Business Finance\", \"Business Finance\", \"Business Finance\", \"Business Finance\", \"Business Finance\", \"Business Finance\", \"Business Finance\", \"Business Finance\", \"Business Finance\", \"Business Finance\", \"Business Finance\", \"Business Finance\", \"Business Finance\", \"Business Finance\", \"Business Finance\", \"Business Finance\", \"Business Finance\", \"Business Finance\", \"Business Finance\", \"Business Finance\", \"Business Finance\", \"Business Finance\", \"Business Finance\", \"Business Finance\", \"Business Finance\", \"Business Finance\", \"Business Finance\", \"Business Finance\", \"Business Finance\", \"Business Finance\", \"Business Finance\", \"Business Finance\", \"Business Finance\", \"Business Finance\", \"Business Finance\", \"Business Finance\", \"Business Finance\", \"Business Finance\", \"Business Finance\", \"Business Finance\", \"Business Finance\", \"Business Finance\", \"Business Finance\", \"Business Finance\", \"Business Finance\", \"Business Finance\", \"Business Finance\", \"Business Finance\", \"Business Finance\", \"Graphic Design\", \"Graphic Design\", \"Graphic Design\", \"Graphic Design\", \"Graphic Design\", \"Graphic Design\", \"Graphic Design\", \"Graphic Design\", \"Graphic Design\", \"Graphic Design\", \"Graphic Design\", \"Graphic Design\", \"Graphic Design\", \"Graphic Design\", \"Graphic Design\", \"Graphic Design\", \"Graphic Design\", \"Graphic Design\", \"Graphic Design\", \"Graphic Design\", \"Graphic Design\", \"Graphic Design\", \"Graphic Design\", \"Graphic Design\", \"Graphic Design\", \"Graphic Design\", \"Graphic Design\", \"Graphic Design\", \"Graphic Design\", \"Graphic Design\", \"Graphic Design\", \"Graphic Design\", \"Graphic Design\", \"Graphic Design\", \"Graphic Design\", \"Graphic Design\", \"Graphic Design\", \"Graphic Design\", \"Graphic Design\", \"Graphic Design\", \"Graphic Design\", \"Graphic Design\", \"Graphic Design\", \"Graphic Design\", \"Graphic Design\", \"Graphic Design\", \"Graphic Design\", \"Graphic Design\", \"Graphic Design\", \"Graphic Design\", \"Graphic Design\", \"Musical Instruments\", \"Musical Instruments\", \"Musical Instruments\", \"Musical Instruments\", \"Musical Instruments\", \"Musical Instruments\", \"Musical Instruments\", \"Musical Instruments\", \"Musical Instruments\", \"Musical Instruments\", \"Musical Instruments\", \"Musical Instruments\", \"Musical Instruments\", \"Musical Instruments\", \"Musical Instruments\", \"Musical Instruments\", \"Musical Instruments\", \"Musical Instruments\", \"Musical Instruments\", \"Musical Instruments\", \"Musical Instruments\", \"Musical Instruments\", \"Musical Instruments\", \"Musical Instruments\", \"Musical Instruments\", \"Musical Instruments\", \"Musical Instruments\", \"Musical Instruments\", \"Musical Instruments\", \"Musical Instruments\", \"Musical Instruments\", \"Musical Instruments\", \"Musical Instruments\", \"Musical Instruments\", \"Musical Instruments\", \"Musical Instruments\", \"Musical Instruments\", \"Musical Instruments\", \"Musical Instruments\", \"Musical Instruments\", \"Musical Instruments\", \"Musical Instruments\", \"Musical Instruments\", \"Musical Instruments\", \"Musical Instruments\", \"Musical Instruments\", \"Musical Instruments\", \"Musical Instruments\", \"Musical Instruments\", \"Musical Instruments\", \"Musical Instruments\", \"Musical Instruments\", \"Musical Instruments\", \"Musical Instruments\", \"Musical Instruments\", \"Musical Instruments\", \"Musical Instruments\", \"Musical Instruments\", \"Musical Instruments\", \"Musical Instruments\", \"Musical Instruments\", \"Musical Instruments\", \"Musical Instruments\", \"Musical Instruments\", \"Musical Instruments\", \"Musical Instruments\", \"Musical Instruments\", \"Musical Instruments\", \"Musical Instruments\", \"Musical Instruments\", \"Musical Instruments\", \"Musical Instruments\", \"Musical Instruments\", \"Musical Instruments\", \"Musical Instruments\", \"Musical Instruments\", \"Musical Instruments\", \"Musical Instruments\", \"Musical Instruments\", \"Musical Instruments\", \"Musical Instruments\", \"Musical Instruments\", \"Musical Instruments\", \"Musical Instruments\", \"Musical Instruments\", \"Musical Instruments\", \"Musical Instruments\", \"Musical Instruments\", \"Musical Instruments\", \"Musical Instruments\", \"Musical Instruments\", \"Musical Instruments\", \"Musical Instruments\", \"Musical Instruments\", \"Web Development\", \"Web Development\", \"Web Development\", \"Web Development\", \"Web Development\", \"Web Development\", \"Web Development\", \"Web Development\", \"Web Development\", \"Web Development\", \"Web Development\", \"Web Development\", \"Web Development\", \"Web Development\", \"Web Development\", \"Web Development\", \"Web Development\", \"Web Development\", \"Web Development\", \"Web Development\", \"Web Development\", \"Web Development\", \"Web Development\", \"Web Development\", \"Web Development\", \"Web Development\", \"Web Development\", \"Web Development\", \"Web Development\", \"Web Development\", \"Web Development\", \"Web Development\", \"Web Development\", \"Web Development\", \"Web Development\", \"Web Development\", \"Web Development\", \"Web Development\", \"Web Development\", \"Web Development\", \"Web Development\", \"Web Development\", \"Web Development\", \"Web Development\", \"Web Development\", \"Web Development\", \"Web Development\", \"Web Development\", \"Web Development\", \"Web Development\", \"Web Development\", \"Web Development\", \"Web Development\", \"Web Development\", \"Web Development\", \"Web Development\", \"Web Development\", \"Web Development\", \"Web Development\", \"Web Development\", \"Web Development\", \"Web Development\", \"Web Development\", \"Web Development\", \"Web Development\", \"Web Development\", \"Web Development\", \"Web Development\", \"Web Development\", \"Web Development\", \"Web Development\", \"Web Development\", \"Web Development\", \"Web Development\", \"Web Development\", \"Web Development\", \"Web Development\", \"Web Development\", \"Web Development\", \"Web Development\", \"Web Development\", \"Web Development\", \"Web Development\", \"Web Development\", \"Web Development\", \"Web Development\", \"Web Development\", \"Web Development\", \"Web Development\", \"Web Development\", \"Web Development\", \"Web Development\", \"Web Development\", \"Web Development\", \"Web Development\", \"Web Development\", \"Web Development\", \"Web Development\", \"Web Development\", \"Web Development\", \"Web Development\"], \"y0\": \" \", \"yaxis\": \"y\"}, {\"alignmentgroup\": \"True\", \"hoverlabel\": {\"namelength\": 0}, \"hovertemplate\": \"level=Beginner Level<br>price=%{x}<br>subject=%{y}\", \"legendgroup\": \"level=Beginner Level\", \"marker\": {\"color\": \"#00cc96\"}, \"name\": \"level=Beginner Level\", \"notched\": false, \"offsetgroup\": \"level=Beginner Level\", \"orientation\": \"h\", \"showlegend\": true, \"type\": \"box\", \"x\": [66.02779306549257, 20.0, 95.0, 50.0, 140.0, 95.0, 195.0, 95.0, 66.02779306549257, 66.02779306549257, 95.0, 195.0, 20.0, 150.0, 0.0, 66.02779306549257, 20.0, 20.0, 0.0, 50.0, 195.0, 95.0, 0.0, 50.0, 0.0, 35.0, 200.0, 105.0, 20.0, 200.0, 66.02779306549257, 66.02779306549257, 20.0, 200.0, 35.0, 120.0, 125.0, 20.0, 200.0, 45.0, 66.02779306549257, 0.0, 0.0, 200.0, 20.0, 20.0, 20.0, 0.0, 0.0, 20.0, 30.0, 150.0, 200.0, 125.0, 35.0, 30.0, 50.0, 20.0, 20.0, 50.0, 0.0, 35.0, 70.0, 66.02779306549257, 66.02779306549257, 30.0, 20.0, 200.0, 50.0, 66.02779306549257, 0.0, 20.0, 0.0, 0.0, 66.02779306549257, 100.0, 30.0, 75.0, 0.0, 50.0, 25.0, 25.0, 125.0, 20.0, 200.0, 30.0, 20.0, 66.02779306549257, 200.0, 20.0, 20.0, 0.0, 40.0, 30.0, 95.0, 0.0, 20.0, 20.0, 20.0, 40.0, 25.0, 50.0, 200.0, 0.0, 0.0, 95.0, 20.0, 195.0, 20.0, 20.0, 40.0, 50.0, 20.0, 200.0, 0.0, 20.0, 30.0, 100.0, 20.0, 20.0, 20.0, 20.0, 20.0, 20.0, 200.0, 20.0, 25.0, 80.0, 20.0, 20.0, 20.0, 20.0, 50.0, 20.0, 195.0, 0.0, 200.0, 45.0, 20.0, 50.0, 95.0, 45.0, 20.0, 50.0, 20.0, 20.0, 90.0, 50.0, 20.0, 40.0, 20.0, 50.0, 25.0, 50.0, 50.0, 40.0, 50.0, 0.0, 20.0, 20.0, 45.0, 100.0, 0.0, 0.0, 30.0, 0.0, 200.0, 50.0, 20.0, 40.0, 35.0, 20.0, 100.0, 50.0, 75.0, 20.0, 140.0, 170.0, 60.0, 50.0, 20.0, 20.0, 50.0, 0.0, 25.0, 0.0, 50.0, 0.0, 0.0, 25.0, 20.0, 0.0, 20.0, 195.0, 20.0, 50.0, 40.0, 0.0, 30.0, 0.0, 25.0, 90.0, 20.0, 25.0, 50.0, 60.0, 50.0, 20.0, 0.0, 75.0, 30.0, 20.0, 30.0, 20.0, 25.0, 45.0, 20.0, 20.0, 35.0, 20.0, 20.0, 20.0, 0.0, 30.0, 50.0, 50.0, 20.0, 200.0, 40.0, 20.0, 0.0, 20.0, 50.0, 20.0, 20.0, 40.0, 20.0, 20.0, 40.0, 50.0, 25.0, 50.0, 20.0, 40.0, 50.0, 45.0, 25.0, 20.0, 20.0, 20.0, 30.0, 20.0, 20.0, 0.0, 75.0, 25.0, 45.0, 25.0, 30.0, 200.0, 130.0, 140.0, 30.0, 20.0, 140.0, 85.0, 25.0, 175.0, 40.0, 195.0, 50.0, 20.0, 125.0, 0.0, 20.0, 85.0, 100.0, 75.0, 0.0, 20.0, 65.0, 40.0, 195.0, 100.0, 20.0, 35.0, 40.0, 20.0, 20.0, 20.0, 50.0, 50.0, 20.0, 30.0, 20.0, 100.0, 90.0, 25.0, 40.0, 0.0, 25.0, 50.0, 25.0, 180.0, 0.0, 95.0, 195.0, 20.0, 30.0, 50.0, 50.0, 25.0, 20.0, 30.0, 25.0, 20.0, 20.0, 20.0, 20.0, 20.0, 0.0, 0.0, 0.0, 0.0, 50.0, 30.0, 20.0, 200.0, 200.0, 20.0, 45.0, 30.0, 0.0, 0.0, 75.0, 0.0, 30.0, 0.0, 50.0, 20.0, 100.0, 105.0, 25.0, 95.0, 0.0, 20.0, 20.0, 20.0, 30.0, 40.0, 0.0, 75.0, 0.0, 20.0, 80.0, 200.0, 125.0, 50.0, 20.0, 20.0, 20.0, 20.0, 100.0, 30.0, 100.0, 60.0, 30.0, 20.0, 200.0, 20.0, 80.0, 195.0, 25.0, 35.0, 0.0, 0.0, 20.0, 100.0, 0.0, 25.0, 120.0, 35.0, 20.0, 20.0, 30.0, 30.0, 135.0, 75.0, 20.0, 95.0, 0.0, 95.0, 50.0, 70.0, 20.0, 45.0, 100.0, 50.0, 95.0, 55.0, 115.0, 20.0, 50.0, 30.0, 55.0, 95.0, 0.0, 95.0, 20.0, 20.0, 20.0, 20.0, 20.0, 20.0, 20.0, 40.0, 20.0, 35.0, 20.0, 20.0, 20.0, 20.0, 65.0, 30.0, 65.0, 200.0, 50.0, 155.0, 20.0, 75.0, 40.0, 20.0, 20.0, 20.0, 20.0, 30.0, 40.0, 200.0, 200.0, 180.0, 195.0, 20.0, 50.0, 20.0, 20.0, 100.0, 20.0, 95.0, 35.0, 25.0, 25.0, 30.0, 20.0, 40.0, 20.0, 25.0, 30.0, 20.0, 20.0, 90.0, 100.0, 20.0, 40.0, 200.0, 25.0, 35.0, 30.0, 20.0, 50.0, 20.0, 30.0, 20.0, 50.0, 45.0, 25.0, 20.0, 20.0, 125.0, 50.0, 195.0, 20.0, 40.0, 200.0, 100.0, 20.0, 35.0, 20.0, 20.0, 20.0, 50.0, 200.0, 120.0, 0.0, 95.0, 65.0, 20.0, 20.0, 20.0, 30.0, 25.0, 100.0, 20.0, 20.0, 95.0, 50.0, 20.0, 35.0, 25.0, 20.0, 20.0, 20.0, 20.0, 20.0, 20.0, 20.0, 20.0, 50.0, 20.0, 20.0, 195.0, 200.0, 40.0, 25.0, 30.0, 20.0, 25.0, 20.0, 20.0, 20.0, 20.0, 0.0, 150.0, 30.0, 0.0, 20.0, 30.0, 0.0, 0.0, 35.0, 20.0, 40.0, 95.0, 20.0, 55.0, 50.0, 20.0, 40.0, 20.0, 20.0, 100.0, 50.0, 95.0, 50.0, 50.0, 0.0, 50.0, 40.0, 50.0, 100.0, 100.0, 50.0, 55.0, 40.0, 0.0, 40.0, 40.0, 50.0, 35.0, 50.0, 20.0, 40.0, 100.0, 65.0, 40.0, 0.0, 20.0, 0.0, 0.0, 40.0, 70.0, 0.0, 30.0, 120.0, 70.0, 150.0, 20.0, 0.0, 50.0, 20.0, 0.0, 50.0, 20.0, 200.0, 50.0, 0.0, 20.0, 40.0, 50.0, 20.0, 70.0, 120.0, 30.0, 0.0, 50.0, 50.0, 25.0, 0.0, 0.0, 40.0, 20.0, 20.0, 0.0, 200.0, 35.0, 200.0, 50.0, 50.0, 0.0, 40.0, 60.0, 55.0, 45.0, 40.0, 0.0, 40.0, 45.0, 20.0, 50.0, 50.0, 95.0, 25.0, 100.0, 55.0, 20.0, 45.0, 30.0, 0.0, 25.0, 20.0, 85.0, 50.0, 0.0, 150.0, 45.0, 20.0, 45.0, 75.0, 25.0, 40.0, 20.0, 20.0, 20.0, 95.0, 20.0, 50.0, 60.0, 65.0, 95.0, 35.0, 95.0, 50.0, 25.0, 100.0, 30.0, 0.0, 20.0, 20.0, 20.0, 50.0, 20.0, 20.0, 70.0, 20.0, 20.0, 20.0, 20.0, 80.0, 20.0, 30.0, 20.0, 20.0, 0.0, 90.0, 0.0, 20.0, 25.0, 0.0, 40.0, 35.0, 40.0, 45.0, 20.0, 70.0, 100.0, 85.0, 20.0, 55.0, 50.0, 95.0, 0.0, 20.0, 40.0, 20.0, 20.0, 40.0, 35.0, 35.0, 100.0, 95.0, 20.0, 20.0, 25.0, 40.0, 25.0, 20.0, 40.0, 20.0, 100.0, 20.0, 25.0, 20.0, 20.0, 95.0, 20.0, 105.0, 50.0, 50.0, 20.0, 30.0, 60.0, 20.0, 25.0, 115.0, 20.0, 20.0, 45.0, 50.0, 40.0, 45.0, 50.0, 40.0, 55.0, 20.0, 20.0, 20.0, 20.0, 35.0, 20.0, 30.0, 20.0, 40.0, 20.0, 180.0, 80.0, 0.0, 20.0, 20.0, 50.0, 20.0, 20.0, 50.0, 95.0, 20.0, 20.0, 20.0, 40.0, 20.0, 25.0, 95.0, 40.0, 20.0, 20.0, 40.0, 30.0, 95.0, 20.0, 20.0, 20.0, 25.0, 20.0, 35.0, 20.0, 0.0, 20.0, 25.0, 40.0, 20.0, 0.0, 0.0, 0.0, 20.0, 100.0, 20.0, 95.0, 20.0, 200.0, 20.0, 95.0, 30.0, 35.0, 20.0, 25.0, 25.0, 0.0, 20.0, 40.0, 40.0, 180.0, 20.0, 20.0, 55.0, 20.0, 20.0, 20.0, 40.0, 40.0, 200.0, 20.0, 20.0, 40.0, 200.0, 20.0, 100.0, 20.0, 120.0, 20.0, 100.0, 20.0, 115.0, 50.0, 0.0, 0.0, 0.0, 30.0, 50.0, 0.0, 20.0, 40.0, 20.0, 50.0, 50.0, 150.0, 200.0, 200.0, 195.0, 95.0, 0.0, 85.0, 200.0, 95.0, 95.0, 50.0, 75.0, 195.0, 30.0, 20.0, 200.0, 100.0, 20.0, 95.0, 100.0, 25.0, 40.0, 0.0, 0.0, 30.0, 45.0, 25.0, 20.0, 200.0, 200.0, 20.0, 45.0, 20.0, 200.0, 195.0, 30.0, 200.0, 35.0, 75.0, 30.0, 20.0, 20.0, 20.0, 200.0, 0.0, 0.0, 0.0, 20.0, 35.0, 150.0, 20.0, 20.0, 35.0, 35.0, 200.0, 40.0, 50.0, 200.0, 20.0, 25.0, 0.0, 20.0, 0.0, 95.0, 80.0, 20.0, 195.0, 50.0, 0.0, 50.0, 60.0, 65.0, 25.0, 35.0, 65.0, 25.0, 20.0, 20.0, 115.0, 40.0, 95.0, 20.0, 120.0, 200.0, 200.0, 150.0, 65.0, 40.0, 75.0, 20.0, 125.0, 45.0, 195.0, 0.0, 200.0, 0.0, 50.0, 0.0, 35.0, 50.0, 40.0, 20.0, 50.0, 195.0, 75.0, 0.0, 25.0, 75.0, 0.0, 0.0, 100.0, 20.0, 20.0, 0.0, 65.0, 25.0, 20.0, 50.0, 20.0, 25.0, 195.0, 20.0, 200.0, 20.0, 20.0, 200.0, 145.0, 100.0, 0.0, 200.0, 95.0, 0.0, 40.0, 45.0, 75.0, 20.0, 40.0, 80.0, 100.0, 150.0, 200.0, 75.0, 170.0, 75.0, 20.0, 75.0, 20.0, 50.0, 55.0, 20.0, 50.0, 0.0, 20.0, 100.0, 200.0, 105.0, 200.0, 150.0, 100.0, 20.0, 25.0, 100.0, 90.0, 195.0, 30.0, 35.0, 40.0, 0.0, 40.0, 195.0, 30.0, 85.0, 145.0, 55.0, 45.0, 40.0, 50.0, 160.0, 0.0, 125.0, 0.0, 35.0, 80.0, 20.0, 30.0, 35.0, 50.0, 35.0, 145.0, 200.0, 0.0, 0.0, 75.0, 0.0, 65.0, 0.0, 0.0, 0.0, 0.0, 0.0, 0.0, 95.0, 0.0, 95.0, 0.0, 175.0, 85.0, 20.0, 0.0, 0.0, 100.0, 200.0, 0.0, 25.0, 0.0, 0.0, 35.0, 0.0, 0.0, 0.0, 20.0, 100.0, 45.0, 100.0, 195.0, 200.0, 90.0, 90.0, 120.0, 120.0, 55.0, 85.0, 20.0, 0.0, 25.0, 20.0, 95.0, 0.0, 0.0, 50.0, 45.0, 0.0, 0.0, 40.0, 0.0, 45.0, 95.0, 20.0, 40.0, 0.0, 0.0, 0.0, 200.0, 50.0, 50.0, 50.0, 100.0, 200.0, 100.0, 150.0, 195.0, 75.0, 65.0, 0.0, 0.0, 100.0, 0.0, 30.0, 20.0, 25.0, 50.0, 0.0, 20.0, 200.0, 120.0, 20.0, 20.0, 0.0, 20.0, 0.0, 105.0, 20.0, 95.0, 20.0, 20.0, 50.0, 20.0, 95.0, 35.0, 65.0, 20.0, 200.0, 20.0, 20.0, 20.0, 75.0, 50.0, 20.0, 0.0, 200.0, 100.0, 95.0, 20.0, 0.0, 20.0, 30.0, 200.0, 45.0, 20.0, 100.0, 30.0, 0.0, 25.0, 45.0], \"x0\": \" \", \"xaxis\": \"x\", \"y\": [\"Business Finance\", \"Business Finance\", \"Business Finance\", \"Business Finance\", \"Business Finance\", \"Business Finance\", \"Business Finance\", \"Business Finance\", \"Business Finance\", \"Business Finance\", \"Business Finance\", \"Business Finance\", \"Business Finance\", \"Business Finance\", \"Business Finance\", \"Business Finance\", \"Business Finance\", \"Business Finance\", \"Business Finance\", \"Business Finance\", \"Business Finance\", \"Business Finance\", \"Business Finance\", \"Business Finance\", \"Business Finance\", \"Business Finance\", \"Business Finance\", \"Business Finance\", \"Business Finance\", \"Business Finance\", \"Business Finance\", \"Business Finance\", \"Business Finance\", \"Business Finance\", \"Business Finance\", \"Business Finance\", \"Business Finance\", \"Business Finance\", \"Business Finance\", \"Business Finance\", \"Business Finance\", \"Business Finance\", \"Business Finance\", \"Business Finance\", \"Business Finance\", \"Business Finance\", \"Business Finance\", \"Business Finance\", \"Business Finance\", \"Business Finance\", \"Business Finance\", \"Business Finance\", \"Business Finance\", \"Business Finance\", \"Business Finance\", \"Business Finance\", \"Business Finance\", \"Business Finance\", \"Business Finance\", \"Business Finance\", \"Business Finance\", \"Business Finance\", \"Business Finance\", \"Business Finance\", \"Business Finance\", \"Business Finance\", \"Business Finance\", \"Business Finance\", \"Business Finance\", \"Business Finance\", \"Business Finance\", \"Business Finance\", \"Business Finance\", \"Business Finance\", \"Business Finance\", \"Business Finance\", \"Business Finance\", \"Business Finance\", \"Business Finance\", \"Business Finance\", \"Business Finance\", \"Business Finance\", \"Business Finance\", \"Business Finance\", \"Business Finance\", \"Business Finance\", \"Business Finance\", \"Business Finance\", \"Business Finance\", \"Business Finance\", \"Business Finance\", \"Business Finance\", \"Business Finance\", \"Business Finance\", \"Business Finance\", \"Business Finance\", \"Business Finance\", \"Business Finance\", \"Business Finance\", \"Business Finance\", \"Business Finance\", \"Business Finance\", \"Business Finance\", \"Business Finance\", \"Business Finance\", \"Business Finance\", \"Business Finance\", \"Business Finance\", \"Business Finance\", \"Business Finance\", \"Business Finance\", \"Business Finance\", \"Business Finance\", \"Business Finance\", \"Business Finance\", \"Business Finance\", \"Business Finance\", \"Business Finance\", \"Business Finance\", \"Business Finance\", \"Business Finance\", \"Business Finance\", \"Business Finance\", \"Business Finance\", \"Business Finance\", \"Business Finance\", \"Business Finance\", \"Business Finance\", \"Business Finance\", \"Business Finance\", \"Business Finance\", \"Business Finance\", \"Business Finance\", \"Business Finance\", \"Business Finance\", \"Business Finance\", \"Business Finance\", \"Business Finance\", \"Business Finance\", \"Business Finance\", \"Business Finance\", \"Business Finance\", \"Business Finance\", \"Business Finance\", \"Business Finance\", \"Business Finance\", \"Business Finance\", \"Business Finance\", \"Business Finance\", \"Business Finance\", \"Business Finance\", \"Business Finance\", \"Business Finance\", \"Business Finance\", \"Business Finance\", \"Business Finance\", \"Business Finance\", \"Business Finance\", \"Business Finance\", \"Business Finance\", \"Business Finance\", \"Business Finance\", \"Business Finance\", \"Business Finance\", \"Business Finance\", \"Business Finance\", \"Business Finance\", \"Business Finance\", \"Business Finance\", \"Business Finance\", \"Business Finance\", \"Business Finance\", \"Business Finance\", \"Business Finance\", \"Business Finance\", \"Business Finance\", \"Business Finance\", \"Business Finance\", \"Business Finance\", \"Business Finance\", \"Business Finance\", \"Business Finance\", \"Business Finance\", \"Business Finance\", \"Business Finance\", \"Business Finance\", \"Business Finance\", \"Business Finance\", \"Business Finance\", \"Business Finance\", \"Business Finance\", \"Business Finance\", \"Business Finance\", \"Business Finance\", \"Business Finance\", \"Business Finance\", \"Business Finance\", \"Business Finance\", \"Business Finance\", \"Business Finance\", \"Business Finance\", \"Business Finance\", \"Business Finance\", \"Business Finance\", \"Business Finance\", \"Business Finance\", \"Business Finance\", \"Business Finance\", \"Business Finance\", \"Business Finance\", \"Business Finance\", \"Business Finance\", \"Business Finance\", \"Business Finance\", \"Business Finance\", \"Business Finance\", \"Business Finance\", \"Business Finance\", \"Business Finance\", \"Business Finance\", \"Business Finance\", \"Business Finance\", \"Business Finance\", \"Business Finance\", \"Business Finance\", \"Business Finance\", \"Business Finance\", \"Business Finance\", \"Business Finance\", \"Business Finance\", \"Business Finance\", \"Business Finance\", \"Business Finance\", \"Business Finance\", \"Business Finance\", \"Business Finance\", \"Business Finance\", \"Business Finance\", \"Business Finance\", \"Business Finance\", \"Business Finance\", \"Business Finance\", \"Business Finance\", \"Business Finance\", \"Business Finance\", \"Business Finance\", \"Business Finance\", \"Business Finance\", \"Business Finance\", \"Business Finance\", \"Business Finance\", \"Business Finance\", \"Business Finance\", \"Business Finance\", \"Business Finance\", \"Business Finance\", \"Business Finance\", \"Business Finance\", \"Business Finance\", \"Business Finance\", \"Business Finance\", \"Business Finance\", \"Business Finance\", \"Business Finance\", \"Business Finance\", \"Business Finance\", \"Business Finance\", \"Business Finance\", \"Business Finance\", \"Business Finance\", \"Business Finance\", \"Business Finance\", \"Business Finance\", \"Business Finance\", \"Business Finance\", \"Business Finance\", \"Business Finance\", \"Business Finance\", \"Business Finance\", \"Business Finance\", \"Business Finance\", \"Business Finance\", \"Business Finance\", \"Business Finance\", \"Business Finance\", \"Business Finance\", \"Business Finance\", \"Business Finance\", \"Business Finance\", \"Business Finance\", \"Business Finance\", \"Business Finance\", \"Business Finance\", \"Business Finance\", \"Business Finance\", \"Business Finance\", \"Business Finance\", \"Business Finance\", \"Business Finance\", \"Business Finance\", \"Business Finance\", \"Business Finance\", \"Business Finance\", \"Graphic Design\", \"Graphic Design\", \"Graphic Design\", \"Graphic Design\", \"Graphic Design\", \"Graphic Design\", \"Graphic Design\", \"Graphic Design\", \"Graphic Design\", \"Graphic Design\", \"Graphic Design\", \"Graphic Design\", \"Graphic Design\", \"Graphic Design\", \"Graphic Design\", \"Graphic Design\", \"Graphic Design\", \"Graphic Design\", \"Graphic Design\", \"Graphic Design\", \"Graphic Design\", \"Graphic Design\", \"Graphic Design\", \"Graphic Design\", \"Graphic Design\", \"Graphic Design\", \"Graphic Design\", \"Graphic Design\", \"Graphic Design\", \"Graphic Design\", \"Graphic Design\", \"Graphic Design\", \"Graphic Design\", \"Graphic Design\", \"Graphic Design\", \"Graphic Design\", \"Graphic Design\", \"Graphic Design\", \"Graphic Design\", \"Graphic Design\", \"Graphic Design\", \"Graphic Design\", \"Graphic Design\", \"Graphic Design\", \"Graphic Design\", \"Graphic Design\", \"Graphic Design\", \"Graphic Design\", \"Graphic Design\", \"Graphic Design\", \"Graphic Design\", \"Graphic Design\", \"Graphic Design\", \"Graphic Design\", \"Graphic Design\", \"Graphic Design\", \"Graphic Design\", \"Graphic Design\", \"Graphic Design\", \"Graphic Design\", \"Graphic Design\", \"Graphic Design\", \"Graphic Design\", \"Graphic Design\", \"Graphic Design\", \"Graphic Design\", \"Graphic Design\", \"Graphic Design\", \"Graphic Design\", \"Graphic Design\", \"Graphic Design\", \"Graphic Design\", \"Graphic Design\", \"Graphic Design\", \"Graphic Design\", \"Graphic Design\", \"Graphic Design\", \"Graphic Design\", \"Graphic Design\", \"Graphic Design\", \"Graphic Design\", \"Graphic Design\", \"Graphic Design\", \"Graphic Design\", \"Graphic Design\", \"Graphic Design\", \"Graphic Design\", \"Graphic Design\", \"Graphic Design\", \"Graphic Design\", \"Graphic Design\", \"Graphic Design\", \"Graphic Design\", \"Graphic Design\", \"Graphic Design\", \"Graphic Design\", \"Graphic Design\", \"Graphic Design\", \"Graphic Design\", \"Graphic Design\", \"Graphic Design\", \"Graphic Design\", \"Graphic Design\", \"Graphic Design\", \"Graphic Design\", \"Graphic Design\", \"Graphic Design\", \"Graphic Design\", \"Graphic Design\", \"Graphic Design\", \"Graphic Design\", \"Graphic Design\", \"Graphic Design\", \"Graphic Design\", \"Graphic Design\", \"Graphic Design\", \"Graphic Design\", \"Graphic Design\", \"Graphic Design\", \"Graphic Design\", \"Graphic Design\", \"Graphic Design\", \"Graphic Design\", \"Graphic Design\", \"Graphic Design\", \"Graphic Design\", \"Graphic Design\", \"Graphic Design\", \"Graphic Design\", \"Graphic Design\", \"Graphic Design\", \"Graphic Design\", \"Graphic Design\", \"Graphic Design\", \"Graphic Design\", \"Graphic Design\", \"Graphic Design\", \"Graphic Design\", \"Graphic Design\", \"Graphic Design\", \"Graphic Design\", \"Graphic Design\", \"Graphic Design\", \"Graphic Design\", \"Graphic Design\", \"Graphic Design\", \"Graphic Design\", \"Graphic Design\", \"Graphic Design\", \"Graphic Design\", \"Graphic Design\", \"Graphic Design\", \"Graphic Design\", \"Graphic Design\", \"Graphic Design\", \"Graphic Design\", \"Graphic Design\", \"Graphic Design\", \"Graphic Design\", \"Graphic Design\", \"Graphic Design\", \"Graphic Design\", \"Graphic Design\", \"Graphic Design\", \"Graphic Design\", \"Graphic Design\", \"Graphic Design\", \"Graphic Design\", \"Graphic Design\", \"Graphic Design\", \"Graphic Design\", \"Graphic Design\", \"Graphic Design\", \"Graphic Design\", \"Graphic Design\", \"Graphic Design\", \"Graphic Design\", \"Graphic Design\", \"Graphic Design\", \"Graphic Design\", \"Graphic Design\", \"Graphic Design\", \"Graphic Design\", \"Graphic Design\", \"Graphic Design\", \"Graphic Design\", \"Graphic Design\", \"Graphic Design\", \"Graphic Design\", \"Graphic Design\", \"Graphic Design\", \"Graphic Design\", \"Graphic Design\", \"Graphic Design\", \"Graphic Design\", \"Graphic Design\", \"Graphic Design\", \"Graphic Design\", \"Graphic Design\", \"Graphic Design\", \"Graphic Design\", \"Graphic Design\", \"Graphic Design\", \"Graphic Design\", \"Graphic Design\", \"Graphic Design\", \"Graphic Design\", \"Graphic Design\", \"Graphic Design\", \"Graphic Design\", \"Graphic Design\", \"Graphic Design\", \"Graphic Design\", \"Graphic Design\", \"Graphic Design\", \"Graphic Design\", \"Graphic Design\", \"Graphic Design\", \"Graphic Design\", \"Graphic Design\", \"Graphic Design\", \"Graphic Design\", \"Graphic Design\", \"Graphic Design\", \"Graphic Design\", \"Graphic Design\", \"Graphic Design\", \"Musical Instruments\", \"Musical Instruments\", \"Musical Instruments\", \"Musical Instruments\", \"Musical Instruments\", \"Musical Instruments\", \"Musical Instruments\", \"Musical Instruments\", \"Musical Instruments\", \"Musical Instruments\", \"Musical Instruments\", \"Musical Instruments\", \"Musical Instruments\", \"Musical Instruments\", \"Musical Instruments\", \"Musical Instruments\", \"Musical Instruments\", \"Musical Instruments\", \"Musical Instruments\", \"Musical Instruments\", \"Musical Instruments\", \"Musical Instruments\", \"Musical Instruments\", \"Musical Instruments\", \"Musical Instruments\", \"Musical Instruments\", \"Musical Instruments\", \"Musical Instruments\", \"Musical Instruments\", \"Musical Instruments\", \"Musical Instruments\", \"Musical Instruments\", \"Musical Instruments\", \"Musical Instruments\", \"Musical Instruments\", \"Musical Instruments\", \"Musical Instruments\", \"Musical Instruments\", \"Musical Instruments\", \"Musical Instruments\", \"Musical Instruments\", \"Musical Instruments\", \"Musical Instruments\", \"Musical Instruments\", \"Musical Instruments\", \"Musical Instruments\", \"Musical Instruments\", \"Musical Instruments\", \"Musical Instruments\", \"Musical Instruments\", \"Musical Instruments\", \"Musical Instruments\", \"Musical Instruments\", \"Musical Instruments\", \"Musical Instruments\", \"Musical Instruments\", \"Musical Instruments\", \"Musical Instruments\", \"Musical Instruments\", \"Musical Instruments\", \"Musical Instruments\", \"Musical Instruments\", \"Musical Instruments\", \"Musical Instruments\", \"Musical Instruments\", \"Musical Instruments\", \"Musical Instruments\", \"Musical Instruments\", \"Musical Instruments\", \"Musical Instruments\", \"Musical Instruments\", \"Musical Instruments\", \"Musical Instruments\", \"Musical Instruments\", \"Musical Instruments\", \"Musical Instruments\", \"Musical Instruments\", \"Musical Instruments\", \"Musical Instruments\", \"Musical Instruments\", \"Musical Instruments\", \"Musical Instruments\", \"Musical Instruments\", \"Musical Instruments\", \"Musical Instruments\", \"Musical Instruments\", \"Musical Instruments\", \"Musical Instruments\", \"Musical Instruments\", \"Musical Instruments\", \"Musical Instruments\", \"Musical Instruments\", \"Musical Instruments\", \"Musical Instruments\", \"Musical Instruments\", \"Musical Instruments\", \"Musical Instruments\", \"Musical Instruments\", \"Musical Instruments\", \"Musical Instruments\", \"Musical Instruments\", \"Musical Instruments\", \"Musical Instruments\", \"Musical Instruments\", \"Musical Instruments\", \"Musical Instruments\", \"Musical Instruments\", \"Musical Instruments\", \"Musical Instruments\", \"Musical Instruments\", \"Musical Instruments\", \"Musical Instruments\", \"Musical Instruments\", \"Musical Instruments\", \"Musical Instruments\", \"Musical Instruments\", \"Musical Instruments\", \"Musical Instruments\", \"Musical Instruments\", \"Musical Instruments\", \"Musical Instruments\", \"Musical Instruments\", \"Musical Instruments\", \"Musical Instruments\", \"Musical Instruments\", \"Musical Instruments\", \"Musical Instruments\", \"Musical Instruments\", \"Musical Instruments\", \"Musical Instruments\", \"Musical Instruments\", \"Musical Instruments\", \"Musical Instruments\", \"Musical Instruments\", \"Musical Instruments\", \"Musical Instruments\", \"Musical Instruments\", \"Musical Instruments\", \"Musical Instruments\", \"Musical Instruments\", \"Musical Instruments\", \"Musical Instruments\", \"Musical Instruments\", \"Musical Instruments\", \"Musical Instruments\", \"Musical Instruments\", \"Musical Instruments\", \"Musical Instruments\", \"Musical Instruments\", \"Musical Instruments\", \"Musical Instruments\", \"Musical Instruments\", \"Musical Instruments\", \"Musical Instruments\", \"Musical Instruments\", \"Musical Instruments\", \"Musical Instruments\", \"Musical Instruments\", \"Musical Instruments\", \"Musical Instruments\", \"Musical Instruments\", \"Musical Instruments\", \"Musical Instruments\", \"Musical Instruments\", \"Musical Instruments\", \"Musical Instruments\", \"Musical Instruments\", \"Musical Instruments\", \"Musical Instruments\", \"Musical Instruments\", \"Musical Instruments\", \"Musical Instruments\", \"Musical Instruments\", \"Musical Instruments\", \"Musical Instruments\", \"Musical Instruments\", \"Musical Instruments\", \"Musical Instruments\", \"Musical Instruments\", \"Musical Instruments\", \"Musical Instruments\", \"Musical Instruments\", \"Musical Instruments\", \"Musical Instruments\", \"Musical Instruments\", \"Musical Instruments\", \"Musical Instruments\", \"Musical Instruments\", \"Musical Instruments\", \"Musical Instruments\", \"Musical Instruments\", \"Musical Instruments\", \"Musical Instruments\", \"Musical Instruments\", \"Musical Instruments\", \"Musical Instruments\", \"Musical Instruments\", \"Musical Instruments\", \"Musical Instruments\", \"Musical Instruments\", \"Musical Instruments\", \"Musical Instruments\", \"Musical Instruments\", \"Musical Instruments\", \"Musical Instruments\", \"Musical Instruments\", \"Musical Instruments\", \"Musical Instruments\", \"Musical Instruments\", \"Musical Instruments\", \"Musical Instruments\", \"Musical Instruments\", \"Musical Instruments\", \"Musical Instruments\", \"Musical Instruments\", \"Musical Instruments\", \"Musical Instruments\", \"Musical Instruments\", \"Musical Instruments\", \"Musical Instruments\", \"Musical Instruments\", \"Musical Instruments\", \"Musical Instruments\", \"Musical Instruments\", \"Musical Instruments\", \"Musical Instruments\", \"Musical Instruments\", \"Musical Instruments\", \"Musical Instruments\", \"Musical Instruments\", \"Musical Instruments\", \"Musical Instruments\", \"Musical Instruments\", \"Musical Instruments\", \"Musical Instruments\", \"Musical Instruments\", \"Musical Instruments\", \"Musical Instruments\", \"Musical Instruments\", \"Musical Instruments\", \"Musical Instruments\", \"Musical Instruments\", \"Musical Instruments\", \"Musical Instruments\", \"Musical Instruments\", \"Musical Instruments\", \"Musical Instruments\", \"Musical Instruments\", \"Musical Instruments\", \"Musical Instruments\", \"Musical Instruments\", \"Musical Instruments\", \"Musical Instruments\", \"Musical Instruments\", \"Musical Instruments\", \"Musical Instruments\", \"Musical Instruments\", \"Musical Instruments\", \"Musical Instruments\", \"Musical Instruments\", \"Musical Instruments\", \"Musical Instruments\", \"Musical Instruments\", \"Musical Instruments\", \"Musical Instruments\", \"Musical Instruments\", \"Musical Instruments\", \"Musical Instruments\", \"Musical Instruments\", \"Musical Instruments\", \"Musical Instruments\", \"Musical Instruments\", \"Musical Instruments\", \"Musical Instruments\", \"Musical Instruments\", \"Musical Instruments\", \"Musical Instruments\", \"Musical Instruments\", \"Musical Instruments\", \"Musical Instruments\", \"Musical Instruments\", \"Musical Instruments\", \"Musical Instruments\", \"Web Development\", \"Web Development\", \"Web Development\", \"Web Development\", \"Web Development\", \"Web Development\", \"Web Development\", \"Web Development\", \"Web Development\", \"Web Development\", \"Web Development\", \"Web Development\", \"Web Development\", \"Web Development\", \"Web Development\", \"Web Development\", \"Web Development\", \"Web Development\", \"Web Development\", \"Web Development\", \"Web Development\", \"Web Development\", \"Web Development\", \"Web Development\", \"Web Development\", \"Web Development\", \"Web Development\", \"Web Development\", \"Web Development\", \"Web Development\", \"Web Development\", \"Web Development\", \"Web Development\", \"Web Development\", \"Web Development\", \"Web Development\", \"Web Development\", \"Web Development\", \"Web Development\", \"Web Development\", \"Web Development\", \"Web Development\", \"Web Development\", \"Web Development\", \"Web Development\", \"Web Development\", \"Web Development\", \"Web Development\", \"Web Development\", \"Web Development\", \"Web Development\", \"Web Development\", \"Web Development\", \"Web Development\", \"Web Development\", \"Web Development\", \"Web Development\", \"Web Development\", \"Web Development\", \"Web Development\", \"Web Development\", \"Web Development\", \"Web Development\", \"Web Development\", \"Web Development\", \"Web Development\", \"Web Development\", \"Web Development\", \"Web Development\", \"Web Development\", \"Web Development\", \"Web Development\", \"Web Development\", \"Web Development\", \"Web Development\", \"Web Development\", \"Web Development\", \"Web Development\", \"Web Development\", \"Web Development\", \"Web Development\", \"Web Development\", \"Web Development\", \"Web Development\", \"Web Development\", \"Web Development\", \"Web Development\", \"Web Development\", \"Web Development\", \"Web Development\", \"Web Development\", \"Web Development\", \"Web Development\", \"Web Development\", \"Web Development\", \"Web Development\", \"Web Development\", \"Web Development\", \"Web Development\", \"Web Development\", \"Web Development\", \"Web Development\", \"Web Development\", \"Web Development\", \"Web Development\", \"Web Development\", \"Web Development\", \"Web Development\", \"Web Development\", \"Web Development\", \"Web Development\", \"Web Development\", \"Web Development\", \"Web Development\", \"Web Development\", \"Web Development\", \"Web Development\", \"Web Development\", \"Web Development\", \"Web Development\", \"Web Development\", \"Web Development\", \"Web Development\", \"Web Development\", \"Web Development\", \"Web Development\", \"Web Development\", \"Web Development\", \"Web Development\", \"Web Development\", \"Web Development\", \"Web Development\", \"Web Development\", \"Web Development\", \"Web Development\", \"Web Development\", \"Web Development\", \"Web Development\", \"Web Development\", \"Web Development\", \"Web Development\", \"Web Development\", \"Web Development\", \"Web Development\", \"Web Development\", \"Web Development\", \"Web Development\", \"Web Development\", \"Web Development\", \"Web Development\", \"Web Development\", \"Web Development\", \"Web Development\", \"Web Development\", \"Web Development\", \"Web Development\", \"Web Development\", \"Web Development\", \"Web Development\", \"Web Development\", \"Web Development\", \"Web Development\", \"Web Development\", \"Web Development\", \"Web Development\", \"Web Development\", \"Web Development\", \"Web Development\", \"Web Development\", \"Web Development\", \"Web Development\", \"Web Development\", \"Web Development\", \"Web Development\", \"Web Development\", \"Web Development\", \"Web Development\", \"Web Development\", \"Web Development\", \"Web Development\", \"Web Development\", \"Web Development\", \"Web Development\", \"Web Development\", \"Web Development\", \"Web Development\", \"Web Development\", \"Web Development\", \"Web Development\", \"Web Development\", \"Web Development\", \"Web Development\", \"Web Development\", \"Web Development\", \"Web Development\", \"Web Development\", \"Web Development\", \"Web Development\", \"Web Development\", \"Web Development\", \"Web Development\", \"Web Development\", \"Web Development\", \"Web Development\", \"Web Development\", \"Web Development\", \"Web Development\", \"Web Development\", \"Web Development\", \"Web Development\", \"Web Development\", \"Web Development\", \"Web Development\", \"Web Development\", \"Web Development\", \"Web Development\", \"Web Development\", \"Web Development\", \"Web Development\", \"Web Development\", \"Web Development\", \"Web Development\", \"Web Development\", \"Web Development\", \"Web Development\", \"Web Development\", \"Web Development\", \"Web Development\", \"Web Development\", \"Web Development\", \"Web Development\", \"Web Development\", \"Web Development\", \"Web Development\", \"Web Development\", \"Web Development\", \"Web Development\", \"Web Development\", \"Web Development\", \"Web Development\", \"Web Development\", \"Web Development\", \"Web Development\", \"Web Development\", \"Web Development\", \"Web Development\", \"Web Development\", \"Web Development\", \"Web Development\", \"Web Development\", \"Web Development\", \"Web Development\", \"Web Development\", \"Web Development\", \"Web Development\", \"Web Development\", \"Web Development\", \"Web Development\", \"Web Development\", \"Web Development\", \"Web Development\", \"Web Development\", \"Web Development\", \"Web Development\", \"Web Development\", \"Web Development\", \"Web Development\", \"Web Development\", \"Web Development\", \"Web Development\", \"Web Development\", \"Web Development\", \"Web Development\", \"Web Development\", \"Web Development\", \"Web Development\", \"Web Development\", \"Web Development\", \"Web Development\", \"Web Development\", \"Web Development\", \"Web Development\", \"Web Development\", \"Web Development\", \"Web Development\", \"Web Development\", \"Web Development\", \"Web Development\", \"Web Development\", \"Web Development\", \"Web Development\", \"Web Development\", \"Web Development\", \"Web Development\", \"Web Development\", \"Web Development\", \"Web Development\", \"Web Development\", \"Web Development\", \"Web Development\", \"Web Development\", \"Web Development\", \"Web Development\", \"Web Development\", \"Web Development\", \"Web Development\", \"Web Development\", \"Web Development\", \"Web Development\", \"Web Development\", \"Web Development\", \"Web Development\", \"Web Development\", \"Web Development\", \"Web Development\", \"Web Development\", \"Web Development\", \"Web Development\", \"Web Development\", \"Web Development\", \"Web Development\", \"Web Development\", \"Web Development\", \"Web Development\", \"Web Development\", \"Web Development\", \"Web Development\", \"Web Development\", \"Web Development\", \"Web Development\", \"Web Development\", \"Web Development\", \"Web Development\", \"Web Development\", \"Web Development\", \"Web Development\", \"Web Development\", \"Web Development\", \"Web Development\", \"Web Development\", \"Web Development\", \"Web Development\"], \"y0\": \" \", \"yaxis\": \"y\"}, {\"alignmentgroup\": \"True\", \"hoverlabel\": {\"namelength\": 0}, \"hovertemplate\": \"level=Expert Level<br>price=%{x}<br>subject=%{y}\", \"legendgroup\": \"level=Expert Level\", \"marker\": {\"color\": \"#ab63fa\"}, \"name\": \"level=Expert Level\", \"notched\": false, \"offsetgroup\": \"level=Expert Level\", \"orientation\": \"h\", \"showlegend\": true, \"type\": \"box\", \"x\": [66.02779306549257, 200.0, 200.0, 180.0, 90.0, 66.02779306549257, 60.0, 200.0, 95.0, 60.0, 50.0, 60.0, 200.0, 95.0, 40.0, 60.0, 50.0, 200.0, 60.0, 60.0, 20.0, 60.0, 60.0, 200.0, 60.0, 20.0, 50.0, 20.0, 20.0, 200.0, 50.0, 30.0, 135.0, 30.0, 20.0, 50.0, 50.0, 20.0, 35.0, 20.0, 50.0, 30.0, 95.0, 200.0, 95.0, 95.0, 95.0, 95.0, 55.0, 200.0, 95.0, 200.0, 75.0, 55.0, 125.0], \"x0\": \" \", \"xaxis\": \"x\", \"y\": [\"Business Finance\", \"Business Finance\", \"Business Finance\", \"Business Finance\", \"Business Finance\", \"Business Finance\", \"Business Finance\", \"Business Finance\", \"Business Finance\", \"Business Finance\", \"Business Finance\", \"Business Finance\", \"Business Finance\", \"Business Finance\", \"Business Finance\", \"Business Finance\", \"Business Finance\", \"Business Finance\", \"Business Finance\", \"Business Finance\", \"Business Finance\", \"Business Finance\", \"Business Finance\", \"Business Finance\", \"Business Finance\", \"Business Finance\", \"Business Finance\", \"Business Finance\", \"Business Finance\", \"Business Finance\", \"Business Finance\", \"Graphic Design\", \"Graphic Design\", \"Graphic Design\", \"Graphic Design\", \"Musical Instruments\", \"Musical Instruments\", \"Musical Instruments\", \"Musical Instruments\", \"Musical Instruments\", \"Musical Instruments\", \"Musical Instruments\", \"Web Development\", \"Web Development\", \"Web Development\", \"Web Development\", \"Web Development\", \"Web Development\", \"Web Development\", \"Web Development\", \"Web Development\", \"Web Development\", \"Web Development\", \"Web Development\", \"Web Development\"], \"y0\": \" \", \"yaxis\": \"y\"}],\n",
              "                        {\"boxmode\": \"group\", \"legend\": {\"tracegroupgap\": 0}, \"template\": {\"data\": {\"bar\": [{\"error_x\": {\"color\": \"#2a3f5f\"}, \"error_y\": {\"color\": \"#2a3f5f\"}, \"marker\": {\"line\": {\"color\": \"#E5ECF6\", \"width\": 0.5}}, \"type\": \"bar\"}], \"barpolar\": [{\"marker\": {\"line\": {\"color\": \"#E5ECF6\", \"width\": 0.5}}, \"type\": \"barpolar\"}], \"carpet\": [{\"aaxis\": {\"endlinecolor\": \"#2a3f5f\", \"gridcolor\": \"white\", \"linecolor\": \"white\", \"minorgridcolor\": \"white\", \"startlinecolor\": \"#2a3f5f\"}, \"baxis\": {\"endlinecolor\": \"#2a3f5f\", \"gridcolor\": \"white\", \"linecolor\": \"white\", \"minorgridcolor\": \"white\", \"startlinecolor\": \"#2a3f5f\"}, \"type\": \"carpet\"}], \"choropleth\": [{\"colorbar\": {\"outlinewidth\": 0, \"ticks\": \"\"}, \"type\": \"choropleth\"}], \"contour\": [{\"colorbar\": {\"outlinewidth\": 0, \"ticks\": \"\"}, \"colorscale\": [[0.0, \"#0d0887\"], [0.1111111111111111, \"#46039f\"], [0.2222222222222222, \"#7201a8\"], [0.3333333333333333, \"#9c179e\"], [0.4444444444444444, \"#bd3786\"], [0.5555555555555556, \"#d8576b\"], [0.6666666666666666, \"#ed7953\"], [0.7777777777777778, \"#fb9f3a\"], [0.8888888888888888, \"#fdca26\"], [1.0, \"#f0f921\"]], \"type\": \"contour\"}], \"contourcarpet\": [{\"colorbar\": {\"outlinewidth\": 0, \"ticks\": \"\"}, \"type\": \"contourcarpet\"}], \"heatmap\": [{\"colorbar\": {\"outlinewidth\": 0, \"ticks\": \"\"}, \"colorscale\": [[0.0, \"#0d0887\"], [0.1111111111111111, \"#46039f\"], [0.2222222222222222, \"#7201a8\"], [0.3333333333333333, \"#9c179e\"], [0.4444444444444444, \"#bd3786\"], [0.5555555555555556, \"#d8576b\"], [0.6666666666666666, \"#ed7953\"], [0.7777777777777778, \"#fb9f3a\"], [0.8888888888888888, \"#fdca26\"], [1.0, \"#f0f921\"]], \"type\": \"heatmap\"}], \"heatmapgl\": [{\"colorbar\": {\"outlinewidth\": 0, \"ticks\": \"\"}, \"colorscale\": [[0.0, \"#0d0887\"], [0.1111111111111111, \"#46039f\"], [0.2222222222222222, \"#7201a8\"], [0.3333333333333333, \"#9c179e\"], [0.4444444444444444, \"#bd3786\"], [0.5555555555555556, \"#d8576b\"], [0.6666666666666666, \"#ed7953\"], [0.7777777777777778, \"#fb9f3a\"], [0.8888888888888888, \"#fdca26\"], [1.0, \"#f0f921\"]], \"type\": \"heatmapgl\"}], \"histogram\": [{\"marker\": {\"colorbar\": {\"outlinewidth\": 0, \"ticks\": \"\"}}, \"type\": \"histogram\"}], \"histogram2d\": [{\"colorbar\": {\"outlinewidth\": 0, \"ticks\": \"\"}, \"colorscale\": [[0.0, \"#0d0887\"], [0.1111111111111111, \"#46039f\"], [0.2222222222222222, \"#7201a8\"], [0.3333333333333333, \"#9c179e\"], [0.4444444444444444, \"#bd3786\"], [0.5555555555555556, \"#d8576b\"], [0.6666666666666666, \"#ed7953\"], [0.7777777777777778, \"#fb9f3a\"], [0.8888888888888888, \"#fdca26\"], [1.0, \"#f0f921\"]], \"type\": \"histogram2d\"}], \"histogram2dcontour\": [{\"colorbar\": {\"outlinewidth\": 0, \"ticks\": \"\"}, \"colorscale\": [[0.0, \"#0d0887\"], [0.1111111111111111, \"#46039f\"], [0.2222222222222222, \"#7201a8\"], [0.3333333333333333, \"#9c179e\"], [0.4444444444444444, \"#bd3786\"], [0.5555555555555556, \"#d8576b\"], [0.6666666666666666, \"#ed7953\"], [0.7777777777777778, \"#fb9f3a\"], [0.8888888888888888, \"#fdca26\"], [1.0, \"#f0f921\"]], \"type\": \"histogram2dcontour\"}], \"mesh3d\": [{\"colorbar\": {\"outlinewidth\": 0, \"ticks\": \"\"}, \"type\": \"mesh3d\"}], \"parcoords\": [{\"line\": {\"colorbar\": {\"outlinewidth\": 0, \"ticks\": \"\"}}, \"type\": \"parcoords\"}], \"pie\": [{\"automargin\": true, \"type\": \"pie\"}], \"scatter\": [{\"marker\": {\"colorbar\": {\"outlinewidth\": 0, \"ticks\": \"\"}}, \"type\": \"scatter\"}], \"scatter3d\": [{\"line\": {\"colorbar\": {\"outlinewidth\": 0, \"ticks\": \"\"}}, \"marker\": {\"colorbar\": {\"outlinewidth\": 0, \"ticks\": \"\"}}, \"type\": \"scatter3d\"}], \"scattercarpet\": [{\"marker\": {\"colorbar\": {\"outlinewidth\": 0, \"ticks\": \"\"}}, \"type\": \"scattercarpet\"}], \"scattergeo\": [{\"marker\": {\"colorbar\": {\"outlinewidth\": 0, \"ticks\": \"\"}}, \"type\": \"scattergeo\"}], \"scattergl\": [{\"marker\": {\"colorbar\": {\"outlinewidth\": 0, \"ticks\": \"\"}}, \"type\": \"scattergl\"}], \"scattermapbox\": [{\"marker\": {\"colorbar\": {\"outlinewidth\": 0, \"ticks\": \"\"}}, \"type\": \"scattermapbox\"}], \"scatterpolar\": [{\"marker\": {\"colorbar\": {\"outlinewidth\": 0, \"ticks\": \"\"}}, \"type\": \"scatterpolar\"}], \"scatterpolargl\": [{\"marker\": {\"colorbar\": {\"outlinewidth\": 0, \"ticks\": \"\"}}, \"type\": \"scatterpolargl\"}], \"scatterternary\": [{\"marker\": {\"colorbar\": {\"outlinewidth\": 0, \"ticks\": \"\"}}, \"type\": \"scatterternary\"}], \"surface\": [{\"colorbar\": {\"outlinewidth\": 0, \"ticks\": \"\"}, \"colorscale\": [[0.0, \"#0d0887\"], [0.1111111111111111, \"#46039f\"], [0.2222222222222222, \"#7201a8\"], [0.3333333333333333, \"#9c179e\"], [0.4444444444444444, \"#bd3786\"], [0.5555555555555556, \"#d8576b\"], [0.6666666666666666, \"#ed7953\"], [0.7777777777777778, \"#fb9f3a\"], [0.8888888888888888, \"#fdca26\"], [1.0, \"#f0f921\"]], \"type\": \"surface\"}], \"table\": [{\"cells\": {\"fill\": {\"color\": \"#EBF0F8\"}, \"line\": {\"color\": \"white\"}}, \"header\": {\"fill\": {\"color\": \"#C8D4E3\"}, \"line\": {\"color\": \"white\"}}, \"type\": \"table\"}]}, \"layout\": {\"annotationdefaults\": {\"arrowcolor\": \"#2a3f5f\", \"arrowhead\": 0, \"arrowwidth\": 1}, \"coloraxis\": {\"colorbar\": {\"outlinewidth\": 0, \"ticks\": \"\"}}, \"colorscale\": {\"diverging\": [[0, \"#8e0152\"], [0.1, \"#c51b7d\"], [0.2, \"#de77ae\"], [0.3, \"#f1b6da\"], [0.4, \"#fde0ef\"], [0.5, \"#f7f7f7\"], [0.6, \"#e6f5d0\"], [0.7, \"#b8e186\"], [0.8, \"#7fbc41\"], [0.9, \"#4d9221\"], [1, \"#276419\"]], \"sequential\": [[0.0, \"#0d0887\"], [0.1111111111111111, \"#46039f\"], [0.2222222222222222, \"#7201a8\"], [0.3333333333333333, \"#9c179e\"], [0.4444444444444444, \"#bd3786\"], [0.5555555555555556, \"#d8576b\"], [0.6666666666666666, \"#ed7953\"], [0.7777777777777778, \"#fb9f3a\"], [0.8888888888888888, \"#fdca26\"], [1.0, \"#f0f921\"]], \"sequentialminus\": [[0.0, \"#0d0887\"], [0.1111111111111111, \"#46039f\"], [0.2222222222222222, \"#7201a8\"], [0.3333333333333333, \"#9c179e\"], [0.4444444444444444, \"#bd3786\"], [0.5555555555555556, \"#d8576b\"], [0.6666666666666666, \"#ed7953\"], [0.7777777777777778, \"#fb9f3a\"], [0.8888888888888888, \"#fdca26\"], [1.0, \"#f0f921\"]]}, \"colorway\": [\"#636efa\", \"#EF553B\", \"#00cc96\", \"#ab63fa\", \"#FFA15A\", \"#19d3f3\", \"#FF6692\", \"#B6E880\", \"#FF97FF\", \"#FECB52\"], \"font\": {\"color\": \"#2a3f5f\"}, \"geo\": {\"bgcolor\": \"white\", \"lakecolor\": \"white\", \"landcolor\": \"#E5ECF6\", \"showlakes\": true, \"showland\": true, \"subunitcolor\": \"white\"}, \"hoverlabel\": {\"align\": \"left\"}, \"hovermode\": \"closest\", \"mapbox\": {\"style\": \"light\"}, \"paper_bgcolor\": \"white\", \"plot_bgcolor\": \"#E5ECF6\", \"polar\": {\"angularaxis\": {\"gridcolor\": \"white\", \"linecolor\": \"white\", \"ticks\": \"\"}, \"bgcolor\": \"#E5ECF6\", \"radialaxis\": {\"gridcolor\": \"white\", \"linecolor\": \"white\", \"ticks\": \"\"}}, \"scene\": {\"xaxis\": {\"backgroundcolor\": \"#E5ECF6\", \"gridcolor\": \"white\", \"gridwidth\": 2, \"linecolor\": \"white\", \"showbackground\": true, \"ticks\": \"\", \"zerolinecolor\": \"white\"}, \"yaxis\": {\"backgroundcolor\": \"#E5ECF6\", \"gridcolor\": \"white\", \"gridwidth\": 2, \"linecolor\": \"white\", \"showbackground\": true, \"ticks\": \"\", \"zerolinecolor\": \"white\"}, \"zaxis\": {\"backgroundcolor\": \"#E5ECF6\", \"gridcolor\": \"white\", \"gridwidth\": 2, \"linecolor\": \"white\", \"showbackground\": true, \"ticks\": \"\", \"zerolinecolor\": \"white\"}}, \"shapedefaults\": {\"line\": {\"color\": \"#2a3f5f\"}}, \"ternary\": {\"aaxis\": {\"gridcolor\": \"white\", \"linecolor\": \"white\", \"ticks\": \"\"}, \"baxis\": {\"gridcolor\": \"white\", \"linecolor\": \"white\", \"ticks\": \"\"}, \"bgcolor\": \"#E5ECF6\", \"caxis\": {\"gridcolor\": \"white\", \"linecolor\": \"white\", \"ticks\": \"\"}}, \"title\": {\"x\": 0.05}, \"xaxis\": {\"automargin\": true, \"gridcolor\": \"white\", \"linecolor\": \"white\", \"ticks\": \"\", \"title\": {\"standoff\": 15}, \"zerolinecolor\": \"white\", \"zerolinewidth\": 2}, \"yaxis\": {\"automargin\": true, \"gridcolor\": \"white\", \"linecolor\": \"white\", \"ticks\": \"\", \"title\": {\"standoff\": 15}, \"zerolinecolor\": \"white\", \"zerolinewidth\": 2}}}, \"title\": {\"text\": \"Price Distribution Across Type of Course\"}, \"xaxis\": {\"anchor\": \"y\", \"domain\": [0.0, 1.0], \"title\": {\"text\": \"Price\"}}, \"yaxis\": {\"anchor\": \"x\", \"domain\": [0.0, 1.0], \"title\": {\"text\": \"Subject\"}}},\n",
              "                        {\"responsive\": true}\n",
              "                    ).then(function(){\n",
              "                            \n",
              "var gd = document.getElementById('daf273c3-152d-435c-8aa7-823b48e7fa83');\n",
              "var x = new MutationObserver(function (mutations, observer) {{\n",
              "        var display = window.getComputedStyle(gd).display;\n",
              "        if (!display || display === 'none') {{\n",
              "            console.log([gd, 'removed!']);\n",
              "            Plotly.purge(gd);\n",
              "            observer.disconnect();\n",
              "        }}\n",
              "}});\n",
              "\n",
              "// Listen for the removal of the full notebook cells\n",
              "var notebookContainer = gd.closest('#notebook-container');\n",
              "if (notebookContainer) {{\n",
              "    x.observe(notebookContainer, {childList: true});\n",
              "}}\n",
              "\n",
              "// Listen for the clearing of the current output cell\n",
              "var outputEl = gd.closest('.output');\n",
              "if (outputEl) {{\n",
              "    x.observe(outputEl, {childList: true});\n",
              "}}\n",
              "\n",
              "                        })\n",
              "                };\n",
              "                \n",
              "            </script>\n",
              "        </div>\n",
              "</body>\n",
              "</html>"
            ]
          },
          "metadata": {
            "tags": []
          }
        }
      ]
    },
    {
      "cell_type": "code",
      "metadata": {
        "id": "1BX1VbLYRCgq",
        "outputId": "f6f72cae-2356-4298-eedb-a501323eaf47",
        "colab": {
          "base_uri": "https://localhost:8080/",
          "height": 296
        }
      },
      "source": [
        "sns.boxplot(x=courses_dataframe['price'])"
      ],
      "execution_count": null,
      "outputs": [
        {
          "output_type": "execute_result",
          "data": {
            "text/plain": [
              "<matplotlib.axes._subplots.AxesSubplot at 0x7f173bd6f9b0>"
            ]
          },
          "metadata": {
            "tags": []
          },
          "execution_count": 317
        },
        {
          "output_type": "display_data",
          "data": {
            "image/png": "[encoded data removed]",
            "text/plain": [
              "<Figure size 432x288 with 1 Axes>"
            ]
          },
          "metadata": {
            "tags": [],
            "needs_background": "light"
          }
        }
      ]
    },
    {
      "cell_type": "markdown",
      "metadata": {
        "id": "ftitjEIvWAf5"
      },
      "source": [
        "PAID OR FREE\n",
        "\n",
        "The is_paid column is an indication fo wether the course is free or not. It is a categorical variable.\n",
        "\n",
        "Since the data is categorical we chose to use a pie chart to visualize it. "
      ]
    },
    {
      "cell_type": "code",
      "metadata": {
        "id": "z5l-e779Vz9i",
        "outputId": "f3246077-43ed-4aca-b470-d74cfe21968d",
        "colab": {
          "base_uri": "https://localhost:8080/"
        }
      },
      "source": [
        "print(Counter(courses_dataframe['is_paid']))"
      ],
      "execution_count": null,
      "outputs": [
        {
          "output_type": "stream",
          "text": [
            "Counter({True: 2939, False: 294})\n"
          ],
          "name": "stdout"
        }
      ]
    },
    {
      "cell_type": "code",
      "metadata": {
        "id": "tpBHAwTMV1yV"
      },
      "source": [
        "title_type = courses_dataframe.groupby('is_paid').agg('count')\n",
        "type_labels = title_type.course_title.sort_values().index \n",
        "type_counts = title_type.course_title.sort_values()"
      ],
      "execution_count": null,
      "outputs": []
    },
    {
      "cell_type": "code",
      "metadata": {
        "id": "nEkGCDYCN3FD",
        "outputId": "d1b64737-2876-42ba-aee1-b31467cf4011",
        "colab": {
          "base_uri": "https://localhost:8080/",
          "height": 467
        }
      },
      "source": [
        "plt.pie(type_counts,labels=type_labels,startangle=90.0,counterclock=False,radius=2.5,labeldistance=0.75, autopct='%.2f%%')\n",
        "plt.show()"
      ],
      "execution_count": null,
      "outputs": [
        {
          "output_type": "display_data",
          "data": {
            "image/png": "[encoded data removed]",
            "text/plain": [
              "<Figure size 432x288 with 1 Axes>"
            ]
          },
          "metadata": {
            "tags": []
          }
        }
      ]
    },
    {
      "cell_type": "markdown",
      "metadata": {
        "id": "DRICkg2VSLMc"
      },
      "source": [
        "We can see that about 90.9% of the courses under the 4 subjects we deal with in this dataset are paid. \n",
        "This could potentially be due to the fact that courses are thought by professionals or professors of popular universities"
      ]
    },
    {
      "cell_type": "markdown",
      "metadata": {
        "id": "2cnBOkd6O84h"
      },
      "source": [
        "Level of course\n",
        "\n",
        "This column denotes the level of difficulty of a course i.e all levels, beginner, intermediate or expert.\n",
        "\n",
        "Since it is a categorical variable, we visualize it using a bar chart"
      ]
    },
    {
      "cell_type": "code",
      "metadata": {
        "id": "PJylGe4IDim7",
        "outputId": "044f2a6c-e1b0-4a11-d585-743c4de1883a",
        "colab": {
          "base_uri": "https://localhost:8080/"
        }
      },
      "source": [
        "i_level=0\n",
        "b_level=0\n",
        "e_level=0\n",
        "a_level=0\n",
        "\n",
        "for ind in courses_dataframe.index: \n",
        "  if courses_dataframe['level'][ind]==\"All Levels\":\n",
        "    a_level=a_level+1\n",
        "  if courses_dataframe['level'][ind]==\"Intermediate Level\":\n",
        "    i_level=i_level+1\n",
        "  if courses_dataframe['level'][ind]==\"Beginner Level\":\n",
        "    b_level=b_level+1\n",
        "  if courses_dataframe['level'][ind]==\"Expert Level\":\n",
        "    e_level=e_level+1 \n",
        "\n",
        "data = {'All Levels':a_level, 'Intermediate Level':i_level, 'Beginner Level':b_level,  \n",
        "         'Expert Level':e_level} "
      ],
      "execution_count": null,
      "outputs": [
        {
          "output_type": "execute_result",
          "data": {
            "text/plain": [
              "{'All Levels': 1654,\n",
              " 'Beginner Level': 1155,\n",
              " 'Expert Level': 55,\n",
              " 'Intermediate Level': 369}"
            ]
          },
          "metadata": {
            "tags": []
          },
          "execution_count": 359
        }
      ]
    },
    {
      "cell_type": "code",
      "metadata": {
        "id": "QYKnZobKS7rM"
      },
      "source": [
        "courses = list(data.keys()) \n",
        "values = list(data.values()) "
      ],
      "execution_count": null,
      "outputs": []
    },
    {
      "cell_type": "code",
      "metadata": {
        "id": "xHwel_UePjSm",
        "outputId": "9b2ea892-8101-4f04-96f5-269d52eb7af1",
        "colab": {
          "base_uri": "https://localhost:8080/",
          "height": 350
        }
      },
      "source": [
        "fig = plt.figure(figsize = (10, 5)) \n",
        "plt.bar(courses, values,width = 0.4) \n",
        "  \n",
        "plt.xlabel(\"Levels of different courses offered\") \n",
        "plt.ylabel(\"No. of courses\") \n",
        "plt.title(\"Number of courses for levels of varying difficulty\") \n",
        "plt.show()"
      ],
      "execution_count": null,
      "outputs": [
        {
          "output_type": "display_data",
          "data": {
            "image/png": "[encoded data removed]",
            "text/plain": [
              "<Figure size 720x360 with 1 Axes>"
            ]
          },
          "metadata": {
            "tags": [],
            "needs_background": "light"
          }
        }
      ]
    },
    {
      "cell_type": "markdown",
      "metadata": {
        "id": "ITvJx6G5TWXP"
      },
      "source": [
        "**NORMALIZATION AND STANDARDIZATION**"
      ]
    },
    {
      "cell_type": "markdown",
      "metadata": {
        "id": "XijNltjlTddZ"
      },
      "source": [
        "Computing mean, median, standard deviation and so on for all the numeric columns"
      ]
    },
    {
      "cell_type": "code",
      "metadata": {
        "id": "1jil_XSO0fk-",
        "outputId": "d7ab8f06-a4b3-424a-bf81-1d1144b7803a",
        "colab": {
          "base_uri": "https://localhost:8080/",
          "height": 297
        }
      },
      "source": [
        "courses_dataframe.describe()"
      ],
      "execution_count": null,
      "outputs": [
        {
          "output_type": "execute_result",
          "data": {
            "text/html": [
              "<div>\n",
              "<style scoped>\n",
              "    .dataframe tbody tr th:only-of-type {\n",
              "        vertical-align: middle;\n",
              "    }\n",
              "\n",
              "    .dataframe tbody tr th {\n",
              "        vertical-align: top;\n",
              "    }\n",
              "\n",
              "    .dataframe thead th {\n",
              "        text-align: right;\n",
              "    }\n",
              "</style>\n",
              "<table border=\"1\" class=\"dataframe\">\n",
              "  <thead>\n",
              "    <tr style=\"text-align: right;\">\n",
              "      <th></th>\n",
              "      <th>price</th>\n",
              "      <th>num_subscribers</th>\n",
              "      <th>num_reviews</th>\n",
              "      <th>num_lectures</th>\n",
              "      <th>content_duration</th>\n",
              "    </tr>\n",
              "  </thead>\n",
              "  <tbody>\n",
              "    <tr>\n",
              "      <th>count</th>\n",
              "      <td>3233.000000</td>\n",
              "      <td>3233.000000</td>\n",
              "      <td>3233.000000</td>\n",
              "      <td>3233.000000</td>\n",
              "      <td>3233.000000</td>\n",
              "    </tr>\n",
              "    <tr>\n",
              "      <th>mean</th>\n",
              "      <td>60.919949</td>\n",
              "      <td>2678.231364</td>\n",
              "      <td>89.232601</td>\n",
              "      <td>29.317352</td>\n",
              "      <td>2.571198</td>\n",
              "    </tr>\n",
              "    <tr>\n",
              "      <th>std</th>\n",
              "      <td>57.745926</td>\n",
              "      <td>7363.030416</td>\n",
              "      <td>390.035959</td>\n",
              "      <td>24.072230</td>\n",
              "      <td>1.825254</td>\n",
              "    </tr>\n",
              "    <tr>\n",
              "      <th>min</th>\n",
              "      <td>0.000000</td>\n",
              "      <td>0.000000</td>\n",
              "      <td>0.000000</td>\n",
              "      <td>0.000000</td>\n",
              "      <td>0.000000</td>\n",
              "    </tr>\n",
              "    <tr>\n",
              "      <th>25%</th>\n",
              "      <td>20.000000</td>\n",
              "      <td>90.000000</td>\n",
              "      <td>4.000000</td>\n",
              "      <td>14.000000</td>\n",
              "      <td>1.000000</td>\n",
              "    </tr>\n",
              "    <tr>\n",
              "      <th>50%</th>\n",
              "      <td>40.000000</td>\n",
              "      <td>796.000000</td>\n",
              "      <td>15.000000</td>\n",
              "      <td>23.000000</td>\n",
              "      <td>2.000000</td>\n",
              "    </tr>\n",
              "    <tr>\n",
              "      <th>75%</th>\n",
              "      <td>85.000000</td>\n",
              "      <td>2266.000000</td>\n",
              "      <td>51.000000</td>\n",
              "      <td>37.000000</td>\n",
              "      <td>3.500000</td>\n",
              "    </tr>\n",
              "    <tr>\n",
              "      <th>max</th>\n",
              "      <td>200.000000</td>\n",
              "      <td>161029.000000</td>\n",
              "      <td>11580.000000</td>\n",
              "      <td>321.000000</td>\n",
              "      <td>8.000000</td>\n",
              "    </tr>\n",
              "  </tbody>\n",
              "</table>\n",
              "</div>"
            ],
            "text/plain": [
              "             price  num_subscribers  ...  num_lectures  content_duration\n",
              "count  3233.000000      3233.000000  ...   3233.000000       3233.000000\n",
              "mean     60.919949      2678.231364  ...     29.317352          2.571198\n",
              "std      57.745926      7363.030416  ...     24.072230          1.825254\n",
              "min       0.000000         0.000000  ...      0.000000          0.000000\n",
              "25%      20.000000        90.000000  ...     14.000000          1.000000\n",
              "50%      40.000000       796.000000  ...     23.000000          2.000000\n",
              "75%      85.000000      2266.000000  ...     37.000000          3.500000\n",
              "max     200.000000    161029.000000  ...    321.000000          8.000000\n",
              "\n",
              "[8 rows x 5 columns]"
            ]
          },
          "metadata": {
            "tags": []
          },
          "execution_count": 362
        }
      ]
    },
    {
      "cell_type": "markdown",
      "metadata": {
        "id": "gBGfQaPfrq1N"
      },
      "source": [
        "We extract all the numeric columns and first normalize them using a min max scaler in order to bring it to a normal distribution"
      ]
    },
    {
      "cell_type": "code",
      "metadata": {
        "id": "1CZ9YiuaM5uz"
      },
      "source": [
        "num_cols = courses_dataframe.columns[courses_dataframe.dtypes.apply(lambda c: np.issubdtype(c, np.number))]"
      ],
      "execution_count": null,
      "outputs": []
    },
    {
      "cell_type": "code",
      "metadata": {
        "id": "CQtiLXj7rKq2"
      },
      "source": [
        "new_df= courses_dataframe[num_cols]\n",
        "x = new_df.values\n",
        "min_max_scaler = preprocessing.MinMaxScaler()\n",
        "x_scaled = min_max_scaler.fit_transform(x)\n",
        "df_normalized = pd.DataFrame(x_scaled)"
      ],
      "execution_count": null,
      "outputs": []
    },
    {
      "cell_type": "markdown",
      "metadata": {
        "id": "ev1EmscuTmUh"
      },
      "source": [
        "Standardizing all numeric columns such that their mean=0 and variance=1\n",
        "\n",
        "We obtain the standardized dataset using standard scaler"
      ]
    },
    {
      "cell_type": "code",
      "metadata": {
        "id": "9Ltqo4c9rboq",
        "outputId": "a15e6c25-2e61-434c-d444-40a88ea50d43",
        "colab": {
          "base_uri": "https://localhost:8080/",
          "height": 297
        }
      },
      "source": [
        "df_normalized.describe()"
      ],
      "execution_count": null,
      "outputs": [
        {
          "output_type": "execute_result",
          "data": {
            "text/html": [
              "<div>\n",
              "<style scoped>\n",
              "    .dataframe tbody tr th:only-of-type {\n",
              "        vertical-align: middle;\n",
              "    }\n",
              "\n",
              "    .dataframe tbody tr th {\n",
              "        vertical-align: top;\n",
              "    }\n",
              "\n",
              "    .dataframe thead th {\n",
              "        text-align: right;\n",
              "    }\n",
              "</style>\n",
              "<table border=\"1\" class=\"dataframe\">\n",
              "  <thead>\n",
              "    <tr style=\"text-align: right;\">\n",
              "      <th></th>\n",
              "      <th>0</th>\n",
              "      <th>1</th>\n",
              "      <th>2</th>\n",
              "      <th>3</th>\n",
              "      <th>4</th>\n",
              "    </tr>\n",
              "  </thead>\n",
              "  <tbody>\n",
              "    <tr>\n",
              "      <th>count</th>\n",
              "      <td>3233.00000</td>\n",
              "      <td>3233.000000</td>\n",
              "      <td>3233.000000</td>\n",
              "      <td>3233.000000</td>\n",
              "      <td>3233.000000</td>\n",
              "    </tr>\n",
              "    <tr>\n",
              "      <th>mean</th>\n",
              "      <td>0.30460</td>\n",
              "      <td>0.016632</td>\n",
              "      <td>0.007706</td>\n",
              "      <td>0.091331</td>\n",
              "      <td>0.321400</td>\n",
              "    </tr>\n",
              "    <tr>\n",
              "      <th>std</th>\n",
              "      <td>0.28873</td>\n",
              "      <td>0.045725</td>\n",
              "      <td>0.033682</td>\n",
              "      <td>0.074991</td>\n",
              "      <td>0.228157</td>\n",
              "    </tr>\n",
              "    <tr>\n",
              "      <th>min</th>\n",
              "      <td>0.00000</td>\n",
              "      <td>0.000000</td>\n",
              "      <td>0.000000</td>\n",
              "      <td>0.000000</td>\n",
              "      <td>0.000000</td>\n",
              "    </tr>\n",
              "    <tr>\n",
              "      <th>25%</th>\n",
              "      <td>0.10000</td>\n",
              "      <td>0.000559</td>\n",
              "      <td>0.000345</td>\n",
              "      <td>0.043614</td>\n",
              "      <td>0.125000</td>\n",
              "    </tr>\n",
              "    <tr>\n",
              "      <th>50%</th>\n",
              "      <td>0.20000</td>\n",
              "      <td>0.004943</td>\n",
              "      <td>0.001295</td>\n",
              "      <td>0.071651</td>\n",
              "      <td>0.250000</td>\n",
              "    </tr>\n",
              "    <tr>\n",
              "      <th>75%</th>\n",
              "      <td>0.42500</td>\n",
              "      <td>0.014072</td>\n",
              "      <td>0.004404</td>\n",
              "      <td>0.115265</td>\n",
              "      <td>0.437500</td>\n",
              "    </tr>\n",
              "    <tr>\n",
              "      <th>max</th>\n",
              "      <td>1.00000</td>\n",
              "      <td>1.000000</td>\n",
              "      <td>1.000000</td>\n",
              "      <td>1.000000</td>\n",
              "      <td>1.000000</td>\n",
              "    </tr>\n",
              "  </tbody>\n",
              "</table>\n",
              "</div>"
            ],
            "text/plain": [
              "                0            1            2            3            4\n",
              "count  3233.00000  3233.000000  3233.000000  3233.000000  3233.000000\n",
              "mean      0.30460     0.016632     0.007706     0.091331     0.321400\n",
              "std       0.28873     0.045725     0.033682     0.074991     0.228157\n",
              "min       0.00000     0.000000     0.000000     0.000000     0.000000\n",
              "25%       0.10000     0.000559     0.000345     0.043614     0.125000\n",
              "50%       0.20000     0.004943     0.001295     0.071651     0.250000\n",
              "75%       0.42500     0.014072     0.004404     0.115265     0.437500\n",
              "max       1.00000     1.000000     1.000000     1.000000     1.000000"
            ]
          },
          "metadata": {
            "tags": []
          },
          "execution_count": 387
        }
      ]
    },
    {
      "cell_type": "code",
      "metadata": {
        "id": "wYwPV0E0N-uE"
      },
      "source": [
        "scaler = preprocessing.StandardScaler()\n",
        "scaled_df = scaler.fit_transform(df_normalized)\n",
        "scaled_df = pd.DataFrame(scaled_df,columns=num_cols)"
      ],
      "execution_count": null,
      "outputs": []
    },
    {
      "cell_type": "code",
      "metadata": {
        "id": "2mjzrS1yU9LY",
        "outputId": "8f0817bf-dbe7-4a36-d794-9485ea2d1fb2",
        "colab": {
          "base_uri": "https://localhost:8080/",
          "height": 297
        }
      },
      "source": [
        "scaled_df.describe()"
      ],
      "execution_count": null,
      "outputs": [
        {
          "output_type": "execute_result",
          "data": {
            "text/html": [
              "<div>\n",
              "<style scoped>\n",
              "    .dataframe tbody tr th:only-of-type {\n",
              "        vertical-align: middle;\n",
              "    }\n",
              "\n",
              "    .dataframe tbody tr th {\n",
              "        vertical-align: top;\n",
              "    }\n",
              "\n",
              "    .dataframe thead th {\n",
              "        text-align: right;\n",
              "    }\n",
              "</style>\n",
              "<table border=\"1\" class=\"dataframe\">\n",
              "  <thead>\n",
              "    <tr style=\"text-align: right;\">\n",
              "      <th></th>\n",
              "      <th>price</th>\n",
              "      <th>num_subscribers</th>\n",
              "      <th>num_reviews</th>\n",
              "      <th>num_lectures</th>\n",
              "      <th>content_duration</th>\n",
              "    </tr>\n",
              "  </thead>\n",
              "  <tbody>\n",
              "    <tr>\n",
              "      <th>count</th>\n",
              "      <td>3.233000e+03</td>\n",
              "      <td>3.233000e+03</td>\n",
              "      <td>3.233000e+03</td>\n",
              "      <td>3.233000e+03</td>\n",
              "      <td>3.233000e+03</td>\n",
              "    </tr>\n",
              "    <tr>\n",
              "      <th>mean</th>\n",
              "      <td>-1.125934e-15</td>\n",
              "      <td>1.294201e-16</td>\n",
              "      <td>-7.080119e-17</td>\n",
              "      <td>-5.642117e-17</td>\n",
              "      <td>-3.009930e-17</td>\n",
              "    </tr>\n",
              "    <tr>\n",
              "      <th>std</th>\n",
              "      <td>1.000155e+00</td>\n",
              "      <td>1.000155e+00</td>\n",
              "      <td>1.000155e+00</td>\n",
              "      <td>1.000155e+00</td>\n",
              "      <td>1.000155e+00</td>\n",
              "    </tr>\n",
              "    <tr>\n",
              "      <th>min</th>\n",
              "      <td>-1.055129e+00</td>\n",
              "      <td>-3.637966e-01</td>\n",
              "      <td>-2.288158e-01</td>\n",
              "      <td>-1.218079e+00</td>\n",
              "      <td>-1.408898e+00</td>\n",
              "    </tr>\n",
              "    <tr>\n",
              "      <th>25%</th>\n",
              "      <td>-7.087302e-01</td>\n",
              "      <td>-3.515715e-01</td>\n",
              "      <td>-2.185588e-01</td>\n",
              "      <td>-6.364064e-01</td>\n",
              "      <td>-8.609440e-01</td>\n",
              "    </tr>\n",
              "    <tr>\n",
              "      <th>50%</th>\n",
              "      <td>-3.623318e-01</td>\n",
              "      <td>-2.556722e-01</td>\n",
              "      <td>-1.903519e-01</td>\n",
              "      <td>-2.624738e-01</td>\n",
              "      <td>-3.129902e-01</td>\n",
              "    </tr>\n",
              "    <tr>\n",
              "      <th>75%</th>\n",
              "      <td>4.170645e-01</td>\n",
              "      <td>-5.599530e-02</td>\n",
              "      <td>-9.803844e-02</td>\n",
              "      <td>3.191992e-01</td>\n",
              "      <td>5.089406e-01</td>\n",
              "    </tr>\n",
              "    <tr>\n",
              "      <th>max</th>\n",
              "      <td>2.408855e+00</td>\n",
              "      <td>2.150952e+01</td>\n",
              "      <td>2.946535e+01</td>\n",
              "      <td>1.211885e+01</td>\n",
              "      <td>2.974733e+00</td>\n",
              "    </tr>\n",
              "  </tbody>\n",
              "</table>\n",
              "</div>"
            ],
            "text/plain": [
              "              price  num_subscribers  ...  num_lectures  content_duration\n",
              "count  3.233000e+03     3.233000e+03  ...  3.233000e+03      3.233000e+03\n",
              "mean  -1.125934e-15     1.294201e-16  ... -5.642117e-17     -3.009930e-17\n",
              "std    1.000155e+00     1.000155e+00  ...  1.000155e+00      1.000155e+00\n",
              "min   -1.055129e+00    -3.637966e-01  ... -1.218079e+00     -1.408898e+00\n",
              "25%   -7.087302e-01    -3.515715e-01  ... -6.364064e-01     -8.609440e-01\n",
              "50%   -3.623318e-01    -2.556722e-01  ... -2.624738e-01     -3.129902e-01\n",
              "75%    4.170645e-01    -5.599530e-02  ...  3.191992e-01      5.089406e-01\n",
              "max    2.408855e+00     2.150952e+01  ...  1.211885e+01      2.974733e+00\n",
              "\n",
              "[8 rows x 5 columns]"
            ]
          },
          "metadata": {
            "tags": []
          },
          "execution_count": 389
        }
      ]
    },
    {
      "cell_type": "markdown",
      "metadata": {
        "id": "OFj2T_KtUBTL"
      },
      "source": [
        "As we can see in the above output, the standard deviation all columns is equal to 1, so their variance is also 1. \n",
        "The means of columns aren't exactly 0 but they are to the power -15,-16,-17 which means they are very tiny, almost ignorable decimal values."
      ]
    },
    {
      "cell_type": "markdown",
      "metadata": {
        "id": "dT4gFQWcUwLT"
      },
      "source": [
        "Importance of normalization\n",
        "\n",
        "The goal of normalization is to help change the values of the dataset to the same scale without changing the range between values of the dataset. It is useful in cases where we have multiple columns with different but interdependent data. \n",
        "\n",
        "In our case: price and number of subscriber. \n",
        "price has a range of 0 to 200 whereas number of subscribers has a range of 0 to 161029. Normalizing helps us compare these columns. "
      ]
    },
    {
      "cell_type": "markdown",
      "metadata": {
        "id": "a-0FwL7UUZuO"
      },
      "source": [
        "The graphs below for the normalized data show far more uniformity than the previous versions of the graphs. Morever they show a skewwed bell shape like that or the normal distribution curve."
      ]
    },
    {
      "cell_type": "code",
      "metadata": {
        "id": "zMPEKrSfVAEc"
      },
      "source": [
        "content_duration=[scaled_df['content_duration']]"
      ],
      "execution_count": null,
      "outputs": []
    },
    {
      "cell_type": "code",
      "metadata": {
        "id": "dgBaid8OVmxr",
        "outputId": "2a9bbcbe-d30a-4045-ce79-84ecbb91d5fe",
        "colab": {
          "base_uri": "https://localhost:8080/",
          "height": 265
        }
      },
      "source": [
        "plt.hist(content_duration,bins = 6)\n",
        "plt.show()"
      ],
      "execution_count": null,
      "outputs": [
        {
          "output_type": "display_data",
          "data": {
            "image/png": "[encoded data removed]",
            "text/plain": [
              "<Figure size 432x288 with 1 Axes>"
            ]
          },
          "metadata": {
            "tags": [],
            "needs_background": "light"
          }
        }
      ]
    },
    {
      "cell_type": "code",
      "metadata": {
        "id": "r4mka7dgVr2s",
        "outputId": "0e985390-2288-4d4d-a9a2-382fa4aab5d1",
        "colab": {
          "base_uri": "https://localhost:8080/",
          "height": 297
        }
      },
      "source": [
        "sns.boxplot(x=scaled_df['content_duration'])"
      ],
      "execution_count": null,
      "outputs": [
        {
          "output_type": "execute_result",
          "data": {
            "text/plain": [
              "<matplotlib.axes._subplots.AxesSubplot at 0x7f17498e9ef0>"
            ]
          },
          "metadata": {
            "tags": []
          },
          "execution_count": 392
        },
        {
          "output_type": "display_data",
          "data": {
            "image/png": "[encoded data removed]",
            "text/plain": [
              "<Figure size 432x288 with 1 Axes>"
            ]
          },
          "metadata": {
            "tags": [],
            "needs_background": "light"
          }
        }
      ]
    },
    {
      "cell_type": "code",
      "metadata": {
        "id": "r5mXGiFfV8Yl",
        "outputId": "60f535ea-7f64-4a9e-cd55-37c0cbebe17e",
        "colab": {
          "base_uri": "https://localhost:8080/",
          "height": 295
        }
      },
      "source": [
        "price = [scaled_df['price']]\n",
        "plt.hist(price,bins=5)\n",
        "plt.xlabel(\"price of course\")\n",
        "plt.ylabel(\"Number of courses\")\n",
        "plt.title(\"Normalized price of courses\")\n",
        "plt.show()"
      ],
      "execution_count": null,
      "outputs": [
        {
          "output_type": "display_data",
          "data": {
            "image/png": "[encoded data removed]",
            "text/plain": [
              "<Figure size 432x288 with 1 Axes>"
            ]
          },
          "metadata": {
            "tags": [],
            "needs_background": "light"
          }
        }
      ]
    },
    {
      "cell_type": "code",
      "metadata": {
        "id": "Xha_n9eBEKrC",
        "outputId": "4c95b491-5482-4ac4-c79f-a6c19b43970a",
        "colab": {
          "base_uri": "https://localhost:8080/",
          "height": 296
        }
      },
      "source": [
        "sns.boxplot(x=scaled_df['price'])"
      ],
      "execution_count": null,
      "outputs": [
        {
          "output_type": "execute_result",
          "data": {
            "text/plain": [
              "<matplotlib.axes._subplots.AxesSubplot at 0x7f174bbf8588>"
            ]
          },
          "metadata": {
            "tags": []
          },
          "execution_count": 332
        },
        {
          "output_type": "display_data",
          "data": {
            "image/png": "[encoded data removed]",
            "text/plain": [
              "<Figure size 432x288 with 1 Axes>"
            ]
          },
          "metadata": {
            "tags": [],
            "needs_background": "light"
          }
        }
      ]
    },
    {
      "cell_type": "markdown",
      "metadata": {
        "id": "KXHB6ES5Vwb6"
      },
      "source": [
        "**HYPOTHESIS TESTING**"
      ]
    },
    {
      "cell_type": "markdown",
      "metadata": {
        "id": "5mJG3_nSV0aV"
      },
      "source": [
        "Research hypothesis, Ha: The average number of subscribers for Web Development courses is greater than 5500.\n",
        "\n",
        "Null hypothesis, H0: The average number of subscribers for Web Development courses are less than or equal to 5500.\n",
        "\n",
        "Population : All the courses whose subject is Web Development \n",
        "\n",
        "Sample: 25% of the population. Here, 141 courses "
      ]
    },
    {
      "cell_type": "code",
      "metadata": {
        "id": "eMStkmBgiUvf"
      },
      "source": [
        "population_ha = courses_dataframe.loc[courses_dataframe['subject']==\"Web Development\"]"
      ],
      "execution_count": null,
      "outputs": []
    },
    {
      "cell_type": "code",
      "metadata": {
        "id": "Tp61K4eZndnQ",
        "outputId": "d4cf408c-6cea-4392-8de0-b0d879a70f33",
        "colab": {
          "base_uri": "https://localhost:8080/",
          "height": 479
        }
      },
      "source": [
        "population_ha.head()"
      ],
      "execution_count": null,
      "outputs": [
        {
          "output_type": "execute_result",
          "data": {
            "text/html": [
              "<div>\n",
              "<style scoped>\n",
              "    .dataframe tbody tr th:only-of-type {\n",
              "        vertical-align: middle;\n",
              "    }\n",
              "\n",
              "    .dataframe tbody tr th {\n",
              "        vertical-align: top;\n",
              "    }\n",
              "\n",
              "    .dataframe thead th {\n",
              "        text-align: right;\n",
              "    }\n",
              "</style>\n",
              "<table border=\"1\" class=\"dataframe\">\n",
              "  <thead>\n",
              "    <tr style=\"text-align: right;\">\n",
              "      <th></th>\n",
              "      <th>course_title</th>\n",
              "      <th>is_paid</th>\n",
              "      <th>price</th>\n",
              "      <th>num_subscribers</th>\n",
              "      <th>num_reviews</th>\n",
              "      <th>num_lectures</th>\n",
              "      <th>level</th>\n",
              "      <th>content_duration</th>\n",
              "      <th>subject</th>\n",
              "    </tr>\n",
              "  </thead>\n",
              "  <tbody>\n",
              "    <tr>\n",
              "      <th>2291</th>\n",
              "      <td>Learn Web Designing &amp; HTML5/CSS3 Essentials in...</td>\n",
              "      <td>True</td>\n",
              "      <td>75.0</td>\n",
              "      <td>43285</td>\n",
              "      <td>525</td>\n",
              "      <td>24</td>\n",
              "      <td>All Levels</td>\n",
              "      <td>4.0</td>\n",
              "      <td>Web Development</td>\n",
              "    </tr>\n",
              "    <tr>\n",
              "      <th>2292</th>\n",
              "      <td>ChatBots: Messenger ChatBot with API.AI and No...</td>\n",
              "      <td>True</td>\n",
              "      <td>50.0</td>\n",
              "      <td>2577</td>\n",
              "      <td>529</td>\n",
              "      <td>64</td>\n",
              "      <td>All Levels</td>\n",
              "      <td>4.5</td>\n",
              "      <td>Web Development</td>\n",
              "    </tr>\n",
              "    <tr>\n",
              "      <th>2293</th>\n",
              "      <td>Programming Foundations: HTML5 + CSS3 for Entr...</td>\n",
              "      <td>True</td>\n",
              "      <td>20.0</td>\n",
              "      <td>23764</td>\n",
              "      <td>490</td>\n",
              "      <td>58</td>\n",
              "      <td>Beginner Level</td>\n",
              "      <td>5.5</td>\n",
              "      <td>Web Development</td>\n",
              "    </tr>\n",
              "    <tr>\n",
              "      <th>2294</th>\n",
              "      <td>How To Make A Wordpress Website 2017 | Divi Th...</td>\n",
              "      <td>True</td>\n",
              "      <td>40.0</td>\n",
              "      <td>3541</td>\n",
              "      <td>202</td>\n",
              "      <td>37</td>\n",
              "      <td>Beginner Level</td>\n",
              "      <td>4.0</td>\n",
              "      <td>Web Development</td>\n",
              "    </tr>\n",
              "    <tr>\n",
              "      <th>2295</th>\n",
              "      <td>Build Your Own Backend REST API using Django R...</td>\n",
              "      <td>True</td>\n",
              "      <td>50.0</td>\n",
              "      <td>2669</td>\n",
              "      <td>112</td>\n",
              "      <td>72</td>\n",
              "      <td>Intermediate Level</td>\n",
              "      <td>5.5</td>\n",
              "      <td>Web Development</td>\n",
              "    </tr>\n",
              "  </tbody>\n",
              "</table>\n",
              "</div>"
            ],
            "text/plain": [
              "                                           course_title  ...          subject\n",
              "2291  Learn Web Designing & HTML5/CSS3 Essentials in...  ...  Web Development\n",
              "2292  ChatBots: Messenger ChatBot with API.AI and No...  ...  Web Development\n",
              "2293  Programming Foundations: HTML5 + CSS3 for Entr...  ...  Web Development\n",
              "2294  How To Make A Wordpress Website 2017 | Divi Th...  ...  Web Development\n",
              "2295  Build Your Own Backend REST API using Django R...  ...  Web Development\n",
              "\n",
              "[5 rows x 9 columns]"
            ]
          },
          "metadata": {
            "tags": []
          },
          "execution_count": 334
        }
      ]
    },
    {
      "cell_type": "code",
      "metadata": {
        "id": "RO1GP24HnfN9",
        "outputId": "e826cb72-6474-45fa-a135-8508a4da69f3",
        "colab": {
          "base_uri": "https://localhost:8080/"
        }
      },
      "source": [
        "sample_ha = population_ha.sample(frac = 0.15)\n",
        "sample_ha.shape"
      ],
      "execution_count": null,
      "outputs": [
        {
          "output_type": "execute_result",
          "data": {
            "text/plain": [
              "(141, 9)"
            ]
          },
          "metadata": {
            "tags": []
          },
          "execution_count": 367
        }
      ]
    },
    {
      "cell_type": "code",
      "metadata": {
        "id": "4Y7B1rqDLHCZ",
        "outputId": "81fc205e-0604-427a-a86f-c657147c58cd",
        "colab": {
          "base_uri": "https://localhost:8080/"
        }
      },
      "source": [
        "sample_ha['num_subscribers'].describe()"
      ],
      "execution_count": null,
      "outputs": [
        {
          "output_type": "execute_result",
          "data": {
            "text/plain": [
              "count      141.000000\n",
              "mean      5708.248227\n",
              "std       8748.015886\n",
              "min         34.000000\n",
              "25%       1134.000000\n",
              "50%       2532.000000\n",
              "75%       7196.000000\n",
              "max      73110.000000\n",
              "Name: num_subscribers, dtype: float64"
            ]
          },
          "metadata": {
            "tags": []
          },
          "execution_count": 369
        }
      ]
    },
    {
      "cell_type": "markdown",
      "metadata": {
        "id": "C_X--fDhWf1D"
      },
      "source": [
        "Here we see that the sample mean, xbar = 5708.\n",
        "Here we perform the p-value approach of hypothesis testing. We assume a confidence interval of 95%"
      ]
    },
    {
      "cell_type": "code",
      "metadata": {
        "id": "VI-h2FecNwkC"
      },
      "source": [
        "sample_standard_deviation = sample_ha['num_subscribers'].std()\n",
        "sample_mean = sample_ha['num_subscribers'].mean()\n",
        "sample_size = 141\n",
        "alpha = 0.05 "
      ],
      "execution_count": null,
      "outputs": []
    },
    {
      "cell_type": "markdown",
      "metadata": {
        "id": "UY6H7bjaXn3O"
      },
      "source": [
        "Now we assume that H0 is true. Under this assumption, we generate the null distribution. Under the null distribution, the mean is the border value that seperates the null hypothesis and research hypothesis, in our case the null distribution mean is 5500."
      ]
    },
    {
      "cell_type": "code",
      "metadata": {
        "id": "QBB6xsXeXnYy"
      },
      "source": [
        "null_distribution_mean = 5500\n",
        "null_distribution_standard_deviation = sample_standard_deviation/(sample_size**0.5)"
      ],
      "execution_count": null,
      "outputs": []
    },
    {
      "cell_type": "markdown",
      "metadata": {
        "id": "OWdtvF_gYXAH"
      },
      "source": [
        "Since the sample size of our sample is greater than 30, we conduct a z test to obtain the probablity of the sample_mean. This value is called the p value. It measures how plausible H0 is "
      ]
    },
    {
      "cell_type": "code",
      "metadata": {
        "id": "3JWSlRc6YQtK",
        "outputId": "21568edf-b983-43ed-8aa1-78fe870d42e8",
        "colab": {
          "base_uri": "https://localhost:8080/"
        }
      },
      "source": [
        "z_score = (sample_mean - null_distribution_mean)/null_distribution_standard_deviation\n",
        "p_value = scipy.stats.norm.sf(abs(z_score))\n",
        "print(z_score)\n",
        "print(p_value) "
      ],
      "execution_count": null,
      "outputs": [
        {
          "output_type": "stream",
          "text": [
            "0.2826710328373362\n",
            "0.38871451171640103\n"
          ],
          "name": "stdout"
        }
      ]
    },
    {
      "cell_type": "code",
      "metadata": {
        "id": "7AuxK2gIZWFh",
        "outputId": "da8a624a-4a30-4bc0-ac49-7b1c1380e9cc",
        "colab": {
          "base_uri": "https://localhost:8080/"
        }
      },
      "source": [
        "if (p_value < alpha):\n",
        "  print(\"H0 is rejected and Ha is accepted\")\n",
        "else:\n",
        "  print(\"Both H0 and H1 are plausible\")"
      ],
      "execution_count": null,
      "outputs": [
        {
          "output_type": "stream",
          "text": [
            "Both H0 and H1 are plausible\n"
          ],
          "name": "stdout"
        }
      ]
    },
    {
      "cell_type": "markdown",
      "metadata": {
        "id": "LVomekhkbePt"
      },
      "source": [
        "Since the p-value of the sample is greater than the significance level we say that both the hypothesis are plausible. In the case of this sample, there is 38.8% probablity that the sample picked could be in disagreemnet with H0"
      ]
    },
    {
      "cell_type": "markdown",
      "metadata": {
        "id": "6WGMQf1sc7q-"
      },
      "source": [
        "**CORRELATION**"
      ]
    },
    {
      "cell_type": "markdown",
      "metadata": {
        "id": "4zRUNUmcdFC5"
      },
      "source": [
        "Correlation refers to the act where a certain variables value could be dependent on another variable. Correlation often helps in connecting multiple variables of a dataset.\n",
        "\n",
        "But it is very important to keep in mind that correlation doesn not imply causation i.e just because two variables have a strong positive or negative correlation, does not imply they are related.\n",
        "\n",
        "Variables could have a positive correlation when increase in variable A results in increase in variable B. \n",
        "\n",
        "Variables could have a negative correlation when decrease in variable A results in increase in variable B.\n",
        "\n",
        "Variables could have neutral correlation when a change in variable A does not impact the value of variable B."
      ]
    },
    {
      "cell_type": "code",
      "metadata": {
        "id": "CUQD3gRmc6hA",
        "outputId": "ec1d8a18-00e2-4605-a4e2-165592721c19",
        "colab": {
          "base_uri": "https://localhost:8080/",
          "height": 235
        }
      },
      "source": [
        "courses_dataframe.corr() "
      ],
      "execution_count": null,
      "outputs": [
        {
          "output_type": "execute_result",
          "data": {
            "text/html": [
              "<div>\n",
              "<style scoped>\n",
              "    .dataframe tbody tr th:only-of-type {\n",
              "        vertical-align: middle;\n",
              "    }\n",
              "\n",
              "    .dataframe tbody tr th {\n",
              "        vertical-align: top;\n",
              "    }\n",
              "\n",
              "    .dataframe thead th {\n",
              "        text-align: right;\n",
              "    }\n",
              "</style>\n",
              "<table border=\"1\" class=\"dataframe\">\n",
              "  <thead>\n",
              "    <tr style=\"text-align: right;\">\n",
              "      <th></th>\n",
              "      <th>is_paid</th>\n",
              "      <th>price</th>\n",
              "      <th>num_subscribers</th>\n",
              "      <th>num_reviews</th>\n",
              "      <th>num_lectures</th>\n",
              "      <th>content_duration</th>\n",
              "    </tr>\n",
              "  </thead>\n",
              "  <tbody>\n",
              "    <tr>\n",
              "      <th>is_paid</th>\n",
              "      <td>1.000000</td>\n",
              "      <td>0.333718</td>\n",
              "      <td>-0.339239</td>\n",
              "      <td>-0.235603</td>\n",
              "      <td>0.127131</td>\n",
              "      <td>0.118534</td>\n",
              "    </tr>\n",
              "    <tr>\n",
              "      <th>price</th>\n",
              "      <td>0.333718</td>\n",
              "      <td>1.000000</td>\n",
              "      <td>-0.020402</td>\n",
              "      <td>0.001931</td>\n",
              "      <td>0.211370</td>\n",
              "      <td>0.218440</td>\n",
              "    </tr>\n",
              "    <tr>\n",
              "      <th>num_subscribers</th>\n",
              "      <td>-0.339239</td>\n",
              "      <td>-0.020402</td>\n",
              "      <td>1.000000</td>\n",
              "      <td>0.660754</td>\n",
              "      <td>0.040847</td>\n",
              "      <td>0.068656</td>\n",
              "    </tr>\n",
              "    <tr>\n",
              "      <th>num_reviews</th>\n",
              "      <td>-0.235603</td>\n",
              "      <td>0.001931</td>\n",
              "      <td>0.660754</td>\n",
              "      <td>1.000000</td>\n",
              "      <td>0.102867</td>\n",
              "      <td>0.122650</td>\n",
              "    </tr>\n",
              "    <tr>\n",
              "      <th>num_lectures</th>\n",
              "      <td>0.127131</td>\n",
              "      <td>0.211370</td>\n",
              "      <td>0.040847</td>\n",
              "      <td>0.102867</td>\n",
              "      <td>1.000000</td>\n",
              "      <td>0.661914</td>\n",
              "    </tr>\n",
              "    <tr>\n",
              "      <th>content_duration</th>\n",
              "      <td>0.118534</td>\n",
              "      <td>0.218440</td>\n",
              "      <td>0.068656</td>\n",
              "      <td>0.122650</td>\n",
              "      <td>0.661914</td>\n",
              "      <td>1.000000</td>\n",
              "    </tr>\n",
              "  </tbody>\n",
              "</table>\n",
              "</div>"
            ],
            "text/plain": [
              "                   is_paid     price  ...  num_lectures  content_duration\n",
              "is_paid           1.000000  0.333718  ...      0.127131          0.118534\n",
              "price             0.333718  1.000000  ...      0.211370          0.218440\n",
              "num_subscribers  -0.339239 -0.020402  ...      0.040847          0.068656\n",
              "num_reviews      -0.235603  0.001931  ...      0.102867          0.122650\n",
              "num_lectures      0.127131  0.211370  ...      1.000000          0.661914\n",
              "content_duration  0.118534  0.218440  ...      0.661914          1.000000\n",
              "\n",
              "[6 rows x 6 columns]"
            ]
          },
          "metadata": {
            "tags": []
          },
          "execution_count": 379
        }
      ]
    },
    {
      "cell_type": "markdown",
      "metadata": {
        "id": "87b4iXpwepqk"
      },
      "source": [
        "Here we say that the diagonal is filled with ones owing to the correlation between a column and itself. \n",
        "\n",
        "The is_paid column tends to share a negative correlation with num_suscribers probably owing to the fact that users are more likely to access free content over paid. This also likely to be the reason for a negative correlation with num_reviews as well. \n",
        "\n",
        "Price has a very tiny amount of correlation with num_subscribers and num_reviews because of the fact that certain courses could be free, their level could also impact the count. \n",
        "\n"
      ]
    },
    {
      "cell_type": "code",
      "metadata": {
        "id": "G_9rkEqGeotJ",
        "outputId": "790dbc2b-8754-4b6c-fbb3-f0cf26363489",
        "colab": {
          "base_uri": "https://localhost:8080/",
          "height": 579
        }
      },
      "source": [
        "corrmat = courses_dataframe.corr() \n",
        "f, ax = plt.subplots(figsize =(9, 8)) \n",
        "sns.heatmap(corrmat, ax = ax, cmap =\"YlGnBu\", linewidths = 0.1) \n",
        "\n"
      ],
      "execution_count": null,
      "outputs": [
        {
          "output_type": "execute_result",
          "data": {
            "text/plain": [
              "<matplotlib.axes._subplots.AxesSubplot at 0x7f174893a6d8>"
            ]
          },
          "metadata": {
            "tags": []
          },
          "execution_count": 383
        },
        {
          "output_type": "display_data",
          "data": {
            "image/png": "[encoded data removed]",
            "text/plain": [
              "<Figure size 648x576 with 2 Axes>"
            ]
          },
          "metadata": {
            "tags": [],
            "needs_background": "light"
          }
        }
      ]
    }
  ]
}